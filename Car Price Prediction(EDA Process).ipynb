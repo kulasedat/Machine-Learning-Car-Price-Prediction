{
 "cells": [
  {
   "cell_type": "markdown",
   "metadata": {},
   "source": [
    "# BUSINESS PROBLEM"
   ]
  },
  {
   "cell_type": "markdown",
   "metadata": {},
   "source": [
    "## DATA UNDERSTANDING AND EXPLORATORY DATA ANALYSIS"
   ]
  },
  {
   "cell_type": "code",
   "execution_count": 1,
   "metadata": {},
   "outputs": [],
   "source": [
    "import pandas as pd \n",
    "import numpy as np \n",
    "import warnings\n",
    "warnings.filterwarnings('ignore')\n",
    "pd.set_option('display.max_columns', 500)"
   ]
  },
  {
   "cell_type": "code",
   "execution_count": 2,
   "metadata": {},
   "outputs": [],
   "source": [
    "autos = pd.read_json('scout_car.json', orient = 'records', lines = True)"
   ]
  },
  {
   "cell_type": "code",
   "execution_count": 3,
   "metadata": {},
   "outputs": [],
   "source": [
    "def null_values(df):\n",
    "    percent = df.isnull().sum()*100/df.shape[0]\n",
    "    total = df.isnull().sum()\n",
    "    return pd.DataFrame(list(zip(total,percent)), columns = [\"Total\",\"Percent\"],index=df.columns)\n",
    "\n",
    "def null_values_limit(df, limit):\n",
    "    missing = df.isnull().sum()*100/df.shape[0]\n",
    "    return missing.loc[lambda x : x > limit]\n",
    "\n",
    "def fill_by_group(df, group_col, col_name):\n",
    "    for group in list(df[group_col].unique()) :\n",
    "        grp_inx = list(df[df[group_col] == group][col_name].index)\n",
    "        df[col_name].iloc[grp_inx] = df[col_name].iloc[grp_inx].fillna(df[df[group_col] == group][col_name].mode()[0])\n",
    "        \n",
    "def unique_values(data, column_name):\n",
    "    unique_vals = set()\n",
    "    for rows in data[column_name]:\n",
    "        unique_vals.update(rows)\n",
    "    return list(unique_vals)\n",
    "\n",
    "def Nan_to_list(data, column_name):\n",
    "    NaN_rows = data[column_name].isnull()\n",
    "    data.loc[NaN_rows, column_name] = data.loc[NaN_rows, column_name].apply(lambda x : [])"
   ]
  },
  {
   "cell_type": "code",
   "execution_count": 4,
   "metadata": {
    "scrolled": true
   },
   "outputs": [
    {
     "data": {
      "text/html": [
       "<div>\n",
       "<style scoped>\n",
       "    .dataframe tbody tr th:only-of-type {\n",
       "        vertical-align: middle;\n",
       "    }\n",
       "\n",
       "    .dataframe tbody tr th {\n",
       "        vertical-align: top;\n",
       "    }\n",
       "\n",
       "    .dataframe thead th {\n",
       "        text-align: right;\n",
       "    }\n",
       "</style>\n",
       "<table border=\"1\" class=\"dataframe\">\n",
       "  <thead>\n",
       "    <tr style=\"text-align: right;\">\n",
       "      <th></th>\n",
       "      <th>url</th>\n",
       "      <th>make_model</th>\n",
       "      <th>short_description</th>\n",
       "      <th>body_type</th>\n",
       "      <th>price</th>\n",
       "      <th>vat</th>\n",
       "      <th>km</th>\n",
       "      <th>registration</th>\n",
       "      <th>prev_owner</th>\n",
       "      <th>kW</th>\n",
       "      <th>hp</th>\n",
       "      <th>Type</th>\n",
       "      <th>Previous Owners</th>\n",
       "      <th>Next Inspection</th>\n",
       "      <th>Inspection new</th>\n",
       "      <th>Warranty</th>\n",
       "      <th>Full Service</th>\n",
       "      <th>Non-smoking Vehicle</th>\n",
       "      <th>null</th>\n",
       "      <th>Make</th>\n",
       "      <th>Model</th>\n",
       "      <th>Offer Number</th>\n",
       "      <th>First Registration</th>\n",
       "      <th>Body Color</th>\n",
       "      <th>Paint Type</th>\n",
       "      <th>Body Color Original</th>\n",
       "      <th>Upholstery</th>\n",
       "      <th>Body</th>\n",
       "      <th>Nr. of Doors</th>\n",
       "      <th>Nr. of Seats</th>\n",
       "      <th>Model Code</th>\n",
       "      <th>Gearing Type</th>\n",
       "      <th>Displacement</th>\n",
       "      <th>Cylinders</th>\n",
       "      <th>Weight</th>\n",
       "      <th>Drive chain</th>\n",
       "      <th>Fuel</th>\n",
       "      <th>Consumption</th>\n",
       "      <th>CO2 Emission</th>\n",
       "      <th>Emission Class</th>\n",
       "      <th>\\nComfort &amp; Convenience\\n</th>\n",
       "      <th>\\nEntertainment &amp; Media\\n</th>\n",
       "      <th>\\nExtras\\n</th>\n",
       "      <th>\\nSafety &amp; Security\\n</th>\n",
       "      <th>description</th>\n",
       "      <th>Emission Label</th>\n",
       "      <th>Gears</th>\n",
       "      <th>Country version</th>\n",
       "      <th>Electricity consumption</th>\n",
       "      <th>Last Service Date</th>\n",
       "      <th>Other Fuel Types</th>\n",
       "      <th>Availability</th>\n",
       "      <th>Last Timing Belt Service Date</th>\n",
       "      <th>Available from</th>\n",
       "    </tr>\n",
       "  </thead>\n",
       "  <tbody>\n",
       "    <tr>\n",
       "      <th>0</th>\n",
       "      <td>https://www.autoscout24.com//offers/audi-a1-sp...</td>\n",
       "      <td>Audi A1</td>\n",
       "      <td>Sportback 1.4 TDI S-tronic Xenon Navi Klima</td>\n",
       "      <td>Sedans</td>\n",
       "      <td>15770</td>\n",
       "      <td>VAT deductible</td>\n",
       "      <td>56,013 km</td>\n",
       "      <td>01/2016</td>\n",
       "      <td>2 previous owners</td>\n",
       "      <td>NaN</td>\n",
       "      <td>66 kW</td>\n",
       "      <td>[, Used, , Diesel (Particulate Filter)]</td>\n",
       "      <td>\\n2\\n</td>\n",
       "      <td>[\\n06/2021\\n, \\n99 g CO2/km (comb)\\n]</td>\n",
       "      <td>[\\nYes\\n, \\nEuro 6\\n]</td>\n",
       "      <td>[\\n, \\n, \\n4 (Green)\\n]</td>\n",
       "      <td>[\\n, \\n]</td>\n",
       "      <td>[\\n, \\n]</td>\n",
       "      <td>[]</td>\n",
       "      <td>\\nAudi\\n</td>\n",
       "      <td>[\\n, A1, \\n]</td>\n",
       "      <td>[\\nLR-062483\\n]</td>\n",
       "      <td>[\\n, 2016, \\n]</td>\n",
       "      <td>[\\n, Black, \\n]</td>\n",
       "      <td>[\\nMetallic\\n]</td>\n",
       "      <td>[\\nMythosschwarz\\n]</td>\n",
       "      <td>[\\nCloth, Black\\n]</td>\n",
       "      <td>[\\n, Sedans, \\n]</td>\n",
       "      <td>[\\n5\\n]</td>\n",
       "      <td>[\\n5\\n]</td>\n",
       "      <td>[\\n0588/BDF\\n]</td>\n",
       "      <td>[\\n, Automatic, \\n]</td>\n",
       "      <td>[\\n1,422 cc\\n]</td>\n",
       "      <td>[\\n3\\n]</td>\n",
       "      <td>[\\n1,220 kg\\n]</td>\n",
       "      <td>[\\nfront\\n]</td>\n",
       "      <td>[\\n, Diesel (Particulate Filter), \\n]</td>\n",
       "      <td>[[3.8 l/100 km (comb)], [4.3 l/100 km (city)],...</td>\n",
       "      <td>[\\n99 g CO2/km (comb)\\n]</td>\n",
       "      <td>[\\nEuro 6\\n]</td>\n",
       "      <td>[Air conditioning, Armrest, Automatic climate ...</td>\n",
       "      <td>[Bluetooth, Hands-free equipment, On-board com...</td>\n",
       "      <td>[Alloy wheels, Catalytic Converter, Voice Cont...</td>\n",
       "      <td>[ABS, Central door lock, Daytime running light...</td>\n",
       "      <td>[\\n, Sicherheit:,  , Deaktivierung für Beifahr...</td>\n",
       "      <td>NaN</td>\n",
       "      <td>NaN</td>\n",
       "      <td>NaN</td>\n",
       "      <td>NaN</td>\n",
       "      <td>NaN</td>\n",
       "      <td>NaN</td>\n",
       "      <td>NaN</td>\n",
       "      <td>NaN</td>\n",
       "      <td>NaN</td>\n",
       "    </tr>\n",
       "    <tr>\n",
       "      <th>1</th>\n",
       "      <td>https://www.autoscout24.com//offers/audi-a1-1-...</td>\n",
       "      <td>Audi A1</td>\n",
       "      <td>1.8 TFSI sport</td>\n",
       "      <td>Sedans</td>\n",
       "      <td>14500</td>\n",
       "      <td>Price negotiable</td>\n",
       "      <td>80,000 km</td>\n",
       "      <td>03/2017</td>\n",
       "      <td>None</td>\n",
       "      <td>NaN</td>\n",
       "      <td>141 kW</td>\n",
       "      <td>[, Used, , Gasoline]</td>\n",
       "      <td>NaN</td>\n",
       "      <td>NaN</td>\n",
       "      <td>NaN</td>\n",
       "      <td>NaN</td>\n",
       "      <td>NaN</td>\n",
       "      <td>NaN</td>\n",
       "      <td>[]</td>\n",
       "      <td>\\nAudi\\n</td>\n",
       "      <td>[\\n, A1, \\n]</td>\n",
       "      <td>NaN</td>\n",
       "      <td>[\\n, 2017, \\n]</td>\n",
       "      <td>[\\n, Red, \\n]</td>\n",
       "      <td>NaN</td>\n",
       "      <td>NaN</td>\n",
       "      <td>[\\nCloth, Grey\\n]</td>\n",
       "      <td>[\\n, Sedans, \\n]</td>\n",
       "      <td>[\\n3\\n]</td>\n",
       "      <td>[\\n4\\n]</td>\n",
       "      <td>[\\n0588/BCY\\n]</td>\n",
       "      <td>[\\n, Automatic, \\n]</td>\n",
       "      <td>[\\n1,798 cc\\n]</td>\n",
       "      <td>[\\n4\\n]</td>\n",
       "      <td>[\\n1,255 kg\\n]</td>\n",
       "      <td>[\\nfront\\n]</td>\n",
       "      <td>[\\n, Gasoline, \\n]</td>\n",
       "      <td>[[5.6 l/100 km (comb)], [7.1 l/100 km (city)],...</td>\n",
       "      <td>[\\n129 g CO2/km (comb)\\n]</td>\n",
       "      <td>[\\nEuro 6\\n]</td>\n",
       "      <td>[Air conditioning, Automatic climate control, ...</td>\n",
       "      <td>[Bluetooth, Hands-free equipment, On-board com...</td>\n",
       "      <td>[Alloy wheels, Sport seats, Sport suspension, ...</td>\n",
       "      <td>[ABS, Central door lock, Central door lock wit...</td>\n",
       "      <td>[\\nLangstreckenfahrzeug daher die hohe Kilomet...</td>\n",
       "      <td>[\\n4 (Green)\\n]</td>\n",
       "      <td>[\\n7\\n]</td>\n",
       "      <td>NaN</td>\n",
       "      <td>NaN</td>\n",
       "      <td>NaN</td>\n",
       "      <td>NaN</td>\n",
       "      <td>NaN</td>\n",
       "      <td>NaN</td>\n",
       "      <td>NaN</td>\n",
       "    </tr>\n",
       "    <tr>\n",
       "      <th>2</th>\n",
       "      <td>https://www.autoscout24.com//offers/audi-a1-sp...</td>\n",
       "      <td>Audi A1</td>\n",
       "      <td>Sportback 1.6 TDI S tronic Einparkhilfe plus+m...</td>\n",
       "      <td>Sedans</td>\n",
       "      <td>14640</td>\n",
       "      <td>VAT deductible</td>\n",
       "      <td>83,450 km</td>\n",
       "      <td>02/2016</td>\n",
       "      <td>1 previous owner</td>\n",
       "      <td>NaN</td>\n",
       "      <td>85 kW</td>\n",
       "      <td>[, Used, , Diesel (Particulate Filter)]</td>\n",
       "      <td>\\n1\\n</td>\n",
       "      <td>NaN</td>\n",
       "      <td>NaN</td>\n",
       "      <td>[\\n, \\n, \\n99 g CO2/km (comb)\\n]</td>\n",
       "      <td>NaN</td>\n",
       "      <td>NaN</td>\n",
       "      <td>[]</td>\n",
       "      <td>\\nAudi\\n</td>\n",
       "      <td>[\\n, A1, \\n]</td>\n",
       "      <td>[\\nAM-95365\\n]</td>\n",
       "      <td>[\\n, 2016, \\n]</td>\n",
       "      <td>[\\n, Black, \\n]</td>\n",
       "      <td>[\\nMetallic\\n]</td>\n",
       "      <td>[\\nmythosschwarz metallic\\n]</td>\n",
       "      <td>[\\nCloth, Black\\n]</td>\n",
       "      <td>[\\n, Sedans, \\n]</td>\n",
       "      <td>[\\n4\\n]</td>\n",
       "      <td>[\\n4\\n]</td>\n",
       "      <td>NaN</td>\n",
       "      <td>[\\n, Automatic, \\n]</td>\n",
       "      <td>[\\n1,598 cc\\n]</td>\n",
       "      <td>NaN</td>\n",
       "      <td>NaN</td>\n",
       "      <td>[\\nfront\\n]</td>\n",
       "      <td>[\\n, Diesel (Particulate Filter), \\n]</td>\n",
       "      <td>[[3.8 l/100 km (comb)], [4.4 l/100 km (city)],...</td>\n",
       "      <td>[\\n99 g CO2/km (comb)\\n]</td>\n",
       "      <td>[\\nEuro 6\\n]</td>\n",
       "      <td>[Air conditioning, Cruise control, Electrical ...</td>\n",
       "      <td>[MP3, On-board computer]</td>\n",
       "      <td>[Alloy wheels, Voice Control]</td>\n",
       "      <td>[ABS, Central door lock, Daytime running light...</td>\n",
       "      <td>[\\n, Fahrzeug-Nummer: AM-95365,  , Ehem. UPE 2...</td>\n",
       "      <td>[\\n4 (Green)\\n]</td>\n",
       "      <td>NaN</td>\n",
       "      <td>NaN</td>\n",
       "      <td>NaN</td>\n",
       "      <td>NaN</td>\n",
       "      <td>NaN</td>\n",
       "      <td>NaN</td>\n",
       "      <td>NaN</td>\n",
       "      <td>NaN</td>\n",
       "    </tr>\n",
       "    <tr>\n",
       "      <th>3</th>\n",
       "      <td>https://www.autoscout24.com//offers/audi-a1-1-...</td>\n",
       "      <td>Audi A1</td>\n",
       "      <td>1.4 TDi Design S tronic</td>\n",
       "      <td>Sedans</td>\n",
       "      <td>14500</td>\n",
       "      <td>None</td>\n",
       "      <td>73,000 km</td>\n",
       "      <td>08/2016</td>\n",
       "      <td>1 previous owner</td>\n",
       "      <td>NaN</td>\n",
       "      <td>66 kW</td>\n",
       "      <td>[, Used, , Diesel (Particulate Filter)]</td>\n",
       "      <td>\\n1\\n</td>\n",
       "      <td>NaN</td>\n",
       "      <td>NaN</td>\n",
       "      <td>NaN</td>\n",
       "      <td>[\\n, \\n, \\n99 g CO2/km (comb)\\n]</td>\n",
       "      <td>[\\n, \\n, \\nEuro 6\\n]</td>\n",
       "      <td>[]</td>\n",
       "      <td>\\nAudi\\n</td>\n",
       "      <td>[\\n, A1, \\n]</td>\n",
       "      <td>NaN</td>\n",
       "      <td>[\\n, 2016, \\n]</td>\n",
       "      <td>[\\n, Brown, \\n]</td>\n",
       "      <td>[\\nMetallic\\n]</td>\n",
       "      <td>NaN</td>\n",
       "      <td>NaN</td>\n",
       "      <td>[\\n, Sedans, \\n]</td>\n",
       "      <td>[\\n3\\n]</td>\n",
       "      <td>[\\n4\\n]</td>\n",
       "      <td>NaN</td>\n",
       "      <td>[\\n, Automatic, \\n]</td>\n",
       "      <td>[\\n1,422 cc\\n]</td>\n",
       "      <td>[\\n3\\n]</td>\n",
       "      <td>[\\n1,195 kg\\n]</td>\n",
       "      <td>NaN</td>\n",
       "      <td>[\\n, Diesel (Particulate Filter), \\n]</td>\n",
       "      <td>[[3.8 l/100 km (comb)], [4.3 l/100 km (city)],...</td>\n",
       "      <td>[\\n99 g CO2/km (comb)\\n]</td>\n",
       "      <td>[\\nEuro 6\\n]</td>\n",
       "      <td>[Air suspension, Armrest, Auxiliary heating, E...</td>\n",
       "      <td>[Bluetooth, CD player, Hands-free equipment, M...</td>\n",
       "      <td>[Alloy wheels, Sport seats, Voice Control]</td>\n",
       "      <td>[ABS, Alarm system, Central door lock with rem...</td>\n",
       "      <td>[\\nAudi A1: , - 1e eigenaar , - Perfecte staat...</td>\n",
       "      <td>NaN</td>\n",
       "      <td>[\\n6\\n]</td>\n",
       "      <td>NaN</td>\n",
       "      <td>NaN</td>\n",
       "      <td>NaN</td>\n",
       "      <td>NaN</td>\n",
       "      <td>NaN</td>\n",
       "      <td>NaN</td>\n",
       "      <td>NaN</td>\n",
       "    </tr>\n",
       "    <tr>\n",
       "      <th>4</th>\n",
       "      <td>https://www.autoscout24.com//offers/audi-a1-sp...</td>\n",
       "      <td>Audi A1</td>\n",
       "      <td>Sportback 1.4 TDI S-Tronic S-Line Ext. admired...</td>\n",
       "      <td>Sedans</td>\n",
       "      <td>16790</td>\n",
       "      <td>None</td>\n",
       "      <td>16,200 km</td>\n",
       "      <td>05/2016</td>\n",
       "      <td>1 previous owner</td>\n",
       "      <td>NaN</td>\n",
       "      <td>66 kW</td>\n",
       "      <td>[, Used, , Diesel (Particulate Filter)]</td>\n",
       "      <td>\\n1\\n</td>\n",
       "      <td>NaN</td>\n",
       "      <td>[\\nYes\\n, \\n109 g CO2/km (comb)\\n]</td>\n",
       "      <td>[\\n, \\n, \\nEuro 6\\n]</td>\n",
       "      <td>[\\n, \\n, \\n4 (Green)\\n]</td>\n",
       "      <td>[\\n, \\n]</td>\n",
       "      <td>[]</td>\n",
       "      <td>\\nAudi\\n</td>\n",
       "      <td>[\\n, A1, \\n]</td>\n",
       "      <td>[\\nC1626\\n]</td>\n",
       "      <td>[\\n, 2016, \\n]</td>\n",
       "      <td>[\\n, Black, \\n]</td>\n",
       "      <td>[\\nMetallic\\n]</td>\n",
       "      <td>[\\nMythosschwarz Metallic\\n]</td>\n",
       "      <td>[\\nCloth, Black\\n]</td>\n",
       "      <td>[\\n, Sedans, \\n]</td>\n",
       "      <td>[\\n5\\n]</td>\n",
       "      <td>[\\n5\\n]</td>\n",
       "      <td>[\\n0588/BDF\\n]</td>\n",
       "      <td>[\\n, Automatic, \\n]</td>\n",
       "      <td>[\\n1,422 cc\\n]</td>\n",
       "      <td>[\\n3\\n]</td>\n",
       "      <td>NaN</td>\n",
       "      <td>[\\nfront\\n]</td>\n",
       "      <td>[\\n, Diesel (Particulate Filter), \\n]</td>\n",
       "      <td>[[4.1 l/100 km (comb)], [4.6 l/100 km (city)],...</td>\n",
       "      <td>[\\n109 g CO2/km (comb)\\n]</td>\n",
       "      <td>[\\nEuro 6\\n]</td>\n",
       "      <td>[Air conditioning, Armrest, Automatic climate ...</td>\n",
       "      <td>[Bluetooth, CD player, Hands-free equipment, M...</td>\n",
       "      <td>[Alloy wheels, Sport package, Sport suspension...</td>\n",
       "      <td>[ABS, Central door lock, Driver-side airbag, E...</td>\n",
       "      <td>[\\n, Technik &amp; Sicherheit:, Xenon plus, Klimaa...</td>\n",
       "      <td>NaN</td>\n",
       "      <td>NaN</td>\n",
       "      <td>[\\nGermany\\n]</td>\n",
       "      <td>NaN</td>\n",
       "      <td>NaN</td>\n",
       "      <td>NaN</td>\n",
       "      <td>NaN</td>\n",
       "      <td>NaN</td>\n",
       "      <td>NaN</td>\n",
       "    </tr>\n",
       "  </tbody>\n",
       "</table>\n",
       "</div>"
      ],
      "text/plain": [
       "                                                 url make_model  \\\n",
       "0  https://www.autoscout24.com//offers/audi-a1-sp...    Audi A1   \n",
       "1  https://www.autoscout24.com//offers/audi-a1-1-...    Audi A1   \n",
       "2  https://www.autoscout24.com//offers/audi-a1-sp...    Audi A1   \n",
       "3  https://www.autoscout24.com//offers/audi-a1-1-...    Audi A1   \n",
       "4  https://www.autoscout24.com//offers/audi-a1-sp...    Audi A1   \n",
       "\n",
       "                                   short_description body_type  price  \\\n",
       "0        Sportback 1.4 TDI S-tronic Xenon Navi Klima    Sedans  15770   \n",
       "1                                     1.8 TFSI sport    Sedans  14500   \n",
       "2  Sportback 1.6 TDI S tronic Einparkhilfe plus+m...    Sedans  14640   \n",
       "3                            1.4 TDi Design S tronic    Sedans  14500   \n",
       "4  Sportback 1.4 TDI S-Tronic S-Line Ext. admired...    Sedans  16790   \n",
       "\n",
       "                vat         km registration         prev_owner  kW      hp  \\\n",
       "0    VAT deductible  56,013 km      01/2016  2 previous owners NaN   66 kW   \n",
       "1  Price negotiable  80,000 km      03/2017               None NaN  141 kW   \n",
       "2    VAT deductible  83,450 km      02/2016   1 previous owner NaN   85 kW   \n",
       "3              None  73,000 km      08/2016   1 previous owner NaN   66 kW   \n",
       "4              None  16,200 km      05/2016   1 previous owner NaN   66 kW   \n",
       "\n",
       "                                      Type Previous Owners  \\\n",
       "0  [, Used, , Diesel (Particulate Filter)]           \\n2\\n   \n",
       "1                     [, Used, , Gasoline]             NaN   \n",
       "2  [, Used, , Diesel (Particulate Filter)]           \\n1\\n   \n",
       "3  [, Used, , Diesel (Particulate Filter)]           \\n1\\n   \n",
       "4  [, Used, , Diesel (Particulate Filter)]           \\n1\\n   \n",
       "\n",
       "                         Next Inspection                      Inspection new  \\\n",
       "0  [\\n06/2021\\n, \\n99 g CO2/km (comb)\\n]               [\\nYes\\n, \\nEuro 6\\n]   \n",
       "1                                    NaN                                 NaN   \n",
       "2                                    NaN                                 NaN   \n",
       "3                                    NaN                                 NaN   \n",
       "4                                    NaN  [\\nYes\\n, \\n109 g CO2/km (comb)\\n]   \n",
       "\n",
       "                           Warranty                      Full Service  \\\n",
       "0           [\\n, \\n, \\n4 (Green)\\n]                          [\\n, \\n]   \n",
       "1                               NaN                               NaN   \n",
       "2  [\\n, \\n, \\n99 g CO2/km (comb)\\n]                               NaN   \n",
       "3                               NaN  [\\n, \\n, \\n99 g CO2/km (comb)\\n]   \n",
       "4              [\\n, \\n, \\nEuro 6\\n]           [\\n, \\n, \\n4 (Green)\\n]   \n",
       "\n",
       "    Non-smoking Vehicle null      Make         Model     Offer Number  \\\n",
       "0              [\\n, \\n]   []  \\nAudi\\n  [\\n, A1, \\n]  [\\nLR-062483\\n]   \n",
       "1                   NaN   []  \\nAudi\\n  [\\n, A1, \\n]              NaN   \n",
       "2                   NaN   []  \\nAudi\\n  [\\n, A1, \\n]   [\\nAM-95365\\n]   \n",
       "3  [\\n, \\n, \\nEuro 6\\n]   []  \\nAudi\\n  [\\n, A1, \\n]              NaN   \n",
       "4              [\\n, \\n]   []  \\nAudi\\n  [\\n, A1, \\n]      [\\nC1626\\n]   \n",
       "\n",
       "  First Registration       Body Color      Paint Type  \\\n",
       "0     [\\n, 2016, \\n]  [\\n, Black, \\n]  [\\nMetallic\\n]   \n",
       "1     [\\n, 2017, \\n]    [\\n, Red, \\n]             NaN   \n",
       "2     [\\n, 2016, \\n]  [\\n, Black, \\n]  [\\nMetallic\\n]   \n",
       "3     [\\n, 2016, \\n]  [\\n, Brown, \\n]  [\\nMetallic\\n]   \n",
       "4     [\\n, 2016, \\n]  [\\n, Black, \\n]  [\\nMetallic\\n]   \n",
       "\n",
       "            Body Color Original          Upholstery              Body  \\\n",
       "0           [\\nMythosschwarz\\n]  [\\nCloth, Black\\n]  [\\n, Sedans, \\n]   \n",
       "1                           NaN   [\\nCloth, Grey\\n]  [\\n, Sedans, \\n]   \n",
       "2  [\\nmythosschwarz metallic\\n]  [\\nCloth, Black\\n]  [\\n, Sedans, \\n]   \n",
       "3                           NaN                 NaN  [\\n, Sedans, \\n]   \n",
       "4  [\\nMythosschwarz Metallic\\n]  [\\nCloth, Black\\n]  [\\n, Sedans, \\n]   \n",
       "\n",
       "  Nr. of Doors Nr. of Seats      Model Code         Gearing Type  \\\n",
       "0      [\\n5\\n]      [\\n5\\n]  [\\n0588/BDF\\n]  [\\n, Automatic, \\n]   \n",
       "1      [\\n3\\n]      [\\n4\\n]  [\\n0588/BCY\\n]  [\\n, Automatic, \\n]   \n",
       "2      [\\n4\\n]      [\\n4\\n]             NaN  [\\n, Automatic, \\n]   \n",
       "3      [\\n3\\n]      [\\n4\\n]             NaN  [\\n, Automatic, \\n]   \n",
       "4      [\\n5\\n]      [\\n5\\n]  [\\n0588/BDF\\n]  [\\n, Automatic, \\n]   \n",
       "\n",
       "     Displacement Cylinders          Weight  Drive chain  \\\n",
       "0  [\\n1,422 cc\\n]   [\\n3\\n]  [\\n1,220 kg\\n]  [\\nfront\\n]   \n",
       "1  [\\n1,798 cc\\n]   [\\n4\\n]  [\\n1,255 kg\\n]  [\\nfront\\n]   \n",
       "2  [\\n1,598 cc\\n]       NaN             NaN  [\\nfront\\n]   \n",
       "3  [\\n1,422 cc\\n]   [\\n3\\n]  [\\n1,195 kg\\n]          NaN   \n",
       "4  [\\n1,422 cc\\n]   [\\n3\\n]             NaN  [\\nfront\\n]   \n",
       "\n",
       "                                    Fuel  \\\n",
       "0  [\\n, Diesel (Particulate Filter), \\n]   \n",
       "1                     [\\n, Gasoline, \\n]   \n",
       "2  [\\n, Diesel (Particulate Filter), \\n]   \n",
       "3  [\\n, Diesel (Particulate Filter), \\n]   \n",
       "4  [\\n, Diesel (Particulate Filter), \\n]   \n",
       "\n",
       "                                         Consumption  \\\n",
       "0  [[3.8 l/100 km (comb)], [4.3 l/100 km (city)],...   \n",
       "1  [[5.6 l/100 km (comb)], [7.1 l/100 km (city)],...   \n",
       "2  [[3.8 l/100 km (comb)], [4.4 l/100 km (city)],...   \n",
       "3  [[3.8 l/100 km (comb)], [4.3 l/100 km (city)],...   \n",
       "4  [[4.1 l/100 km (comb)], [4.6 l/100 km (city)],...   \n",
       "\n",
       "                CO2 Emission Emission Class  \\\n",
       "0   [\\n99 g CO2/km (comb)\\n]   [\\nEuro 6\\n]   \n",
       "1  [\\n129 g CO2/km (comb)\\n]   [\\nEuro 6\\n]   \n",
       "2   [\\n99 g CO2/km (comb)\\n]   [\\nEuro 6\\n]   \n",
       "3   [\\n99 g CO2/km (comb)\\n]   [\\nEuro 6\\n]   \n",
       "4  [\\n109 g CO2/km (comb)\\n]   [\\nEuro 6\\n]   \n",
       "\n",
       "                           \\nComfort & Convenience\\n  \\\n",
       "0  [Air conditioning, Armrest, Automatic climate ...   \n",
       "1  [Air conditioning, Automatic climate control, ...   \n",
       "2  [Air conditioning, Cruise control, Electrical ...   \n",
       "3  [Air suspension, Armrest, Auxiliary heating, E...   \n",
       "4  [Air conditioning, Armrest, Automatic climate ...   \n",
       "\n",
       "                           \\nEntertainment & Media\\n  \\\n",
       "0  [Bluetooth, Hands-free equipment, On-board com...   \n",
       "1  [Bluetooth, Hands-free equipment, On-board com...   \n",
       "2                           [MP3, On-board computer]   \n",
       "3  [Bluetooth, CD player, Hands-free equipment, M...   \n",
       "4  [Bluetooth, CD player, Hands-free equipment, M...   \n",
       "\n",
       "                                          \\nExtras\\n  \\\n",
       "0  [Alloy wheels, Catalytic Converter, Voice Cont...   \n",
       "1  [Alloy wheels, Sport seats, Sport suspension, ...   \n",
       "2                      [Alloy wheels, Voice Control]   \n",
       "3         [Alloy wheels, Sport seats, Voice Control]   \n",
       "4  [Alloy wheels, Sport package, Sport suspension...   \n",
       "\n",
       "                               \\nSafety & Security\\n  \\\n",
       "0  [ABS, Central door lock, Daytime running light...   \n",
       "1  [ABS, Central door lock, Central door lock wit...   \n",
       "2  [ABS, Central door lock, Daytime running light...   \n",
       "3  [ABS, Alarm system, Central door lock with rem...   \n",
       "4  [ABS, Central door lock, Driver-side airbag, E...   \n",
       "\n",
       "                                         description   Emission Label  \\\n",
       "0  [\\n, Sicherheit:,  , Deaktivierung für Beifahr...              NaN   \n",
       "1  [\\nLangstreckenfahrzeug daher die hohe Kilomet...  [\\n4 (Green)\\n]   \n",
       "2  [\\n, Fahrzeug-Nummer: AM-95365,  , Ehem. UPE 2...  [\\n4 (Green)\\n]   \n",
       "3  [\\nAudi A1: , - 1e eigenaar , - Perfecte staat...              NaN   \n",
       "4  [\\n, Technik & Sicherheit:, Xenon plus, Klimaa...              NaN   \n",
       "\n",
       "     Gears Country version Electricity consumption Last Service Date  \\\n",
       "0      NaN             NaN                     NaN               NaN   \n",
       "1  [\\n7\\n]             NaN                     NaN               NaN   \n",
       "2      NaN             NaN                     NaN               NaN   \n",
       "3  [\\n6\\n]             NaN                     NaN               NaN   \n",
       "4      NaN   [\\nGermany\\n]                     NaN               NaN   \n",
       "\n",
       "  Other Fuel Types Availability Last Timing Belt Service Date Available from  \n",
       "0              NaN          NaN                           NaN            NaN  \n",
       "1              NaN          NaN                           NaN            NaN  \n",
       "2              NaN          NaN                           NaN            NaN  \n",
       "3              NaN          NaN                           NaN            NaN  \n",
       "4              NaN          NaN                           NaN            NaN  "
      ]
     },
     "execution_count": 4,
     "metadata": {},
     "output_type": "execute_result"
    }
   ],
   "source": [
    "autos.head()"
   ]
  },
  {
   "cell_type": "markdown",
   "metadata": {},
   "source": [
    "### Handling with Missing Values"
   ]
  },
  {
   "cell_type": "code",
   "execution_count": 5,
   "metadata": {
    "scrolled": true
   },
   "outputs": [
    {
     "data": {
      "text/html": [
       "<div>\n",
       "<style scoped>\n",
       "    .dataframe tbody tr th:only-of-type {\n",
       "        vertical-align: middle;\n",
       "    }\n",
       "\n",
       "    .dataframe tbody tr th {\n",
       "        vertical-align: top;\n",
       "    }\n",
       "\n",
       "    .dataframe thead th {\n",
       "        text-align: right;\n",
       "    }\n",
       "</style>\n",
       "<table border=\"1\" class=\"dataframe\">\n",
       "  <thead>\n",
       "    <tr style=\"text-align: right;\">\n",
       "      <th></th>\n",
       "      <th>Total</th>\n",
       "      <th>Percent</th>\n",
       "    </tr>\n",
       "  </thead>\n",
       "  <tbody>\n",
       "    <tr>\n",
       "      <th>url</th>\n",
       "      <td>0</td>\n",
       "      <td>0.000000</td>\n",
       "    </tr>\n",
       "    <tr>\n",
       "      <th>make_model</th>\n",
       "      <td>0</td>\n",
       "      <td>0.000000</td>\n",
       "    </tr>\n",
       "    <tr>\n",
       "      <th>short_description</th>\n",
       "      <td>46</td>\n",
       "      <td>0.288963</td>\n",
       "    </tr>\n",
       "    <tr>\n",
       "      <th>body_type</th>\n",
       "      <td>60</td>\n",
       "      <td>0.376908</td>\n",
       "    </tr>\n",
       "    <tr>\n",
       "      <th>price</th>\n",
       "      <td>0</td>\n",
       "      <td>0.000000</td>\n",
       "    </tr>\n",
       "    <tr>\n",
       "      <th>vat</th>\n",
       "      <td>4513</td>\n",
       "      <td>28.349771</td>\n",
       "    </tr>\n",
       "    <tr>\n",
       "      <th>km</th>\n",
       "      <td>0</td>\n",
       "      <td>0.000000</td>\n",
       "    </tr>\n",
       "    <tr>\n",
       "      <th>registration</th>\n",
       "      <td>0</td>\n",
       "      <td>0.000000</td>\n",
       "    </tr>\n",
       "    <tr>\n",
       "      <th>prev_owner</th>\n",
       "      <td>6828</td>\n",
       "      <td>42.892141</td>\n",
       "    </tr>\n",
       "    <tr>\n",
       "      <th>kW</th>\n",
       "      <td>15919</td>\n",
       "      <td>100.000000</td>\n",
       "    </tr>\n",
       "    <tr>\n",
       "      <th>hp</th>\n",
       "      <td>0</td>\n",
       "      <td>0.000000</td>\n",
       "    </tr>\n",
       "    <tr>\n",
       "      <th>Type</th>\n",
       "      <td>2</td>\n",
       "      <td>0.012564</td>\n",
       "    </tr>\n",
       "    <tr>\n",
       "      <th>Previous Owners</th>\n",
       "      <td>6640</td>\n",
       "      <td>41.711163</td>\n",
       "    </tr>\n",
       "    <tr>\n",
       "      <th>Next Inspection</th>\n",
       "      <td>12384</td>\n",
       "      <td>77.793831</td>\n",
       "    </tr>\n",
       "    <tr>\n",
       "      <th>Inspection new</th>\n",
       "      <td>11987</td>\n",
       "      <td>75.299956</td>\n",
       "    </tr>\n",
       "    <tr>\n",
       "      <th>Warranty</th>\n",
       "      <td>5420</td>\n",
       "      <td>34.047365</td>\n",
       "    </tr>\n",
       "    <tr>\n",
       "      <th>Full Service</th>\n",
       "      <td>7704</td>\n",
       "      <td>48.395000</td>\n",
       "    </tr>\n",
       "    <tr>\n",
       "      <th>Non-smoking Vehicle</th>\n",
       "      <td>8742</td>\n",
       "      <td>54.915510</td>\n",
       "    </tr>\n",
       "    <tr>\n",
       "      <th>null</th>\n",
       "      <td>0</td>\n",
       "      <td>0.000000</td>\n",
       "    </tr>\n",
       "    <tr>\n",
       "      <th>Make</th>\n",
       "      <td>0</td>\n",
       "      <td>0.000000</td>\n",
       "    </tr>\n",
       "    <tr>\n",
       "      <th>Model</th>\n",
       "      <td>0</td>\n",
       "      <td>0.000000</td>\n",
       "    </tr>\n",
       "    <tr>\n",
       "      <th>Offer Number</th>\n",
       "      <td>3175</td>\n",
       "      <td>19.944720</td>\n",
       "    </tr>\n",
       "    <tr>\n",
       "      <th>First Registration</th>\n",
       "      <td>1597</td>\n",
       "      <td>10.032037</td>\n",
       "    </tr>\n",
       "    <tr>\n",
       "      <th>Body Color</th>\n",
       "      <td>597</td>\n",
       "      <td>3.750236</td>\n",
       "    </tr>\n",
       "    <tr>\n",
       "      <th>Paint Type</th>\n",
       "      <td>5772</td>\n",
       "      <td>36.258559</td>\n",
       "    </tr>\n",
       "    <tr>\n",
       "      <th>Body Color Original</th>\n",
       "      <td>3759</td>\n",
       "      <td>23.613292</td>\n",
       "    </tr>\n",
       "    <tr>\n",
       "      <th>Upholstery</th>\n",
       "      <td>3720</td>\n",
       "      <td>23.368302</td>\n",
       "    </tr>\n",
       "    <tr>\n",
       "      <th>Body</th>\n",
       "      <td>60</td>\n",
       "      <td>0.376908</td>\n",
       "    </tr>\n",
       "    <tr>\n",
       "      <th>Nr. of Doors</th>\n",
       "      <td>212</td>\n",
       "      <td>1.331742</td>\n",
       "    </tr>\n",
       "    <tr>\n",
       "      <th>Nr. of Seats</th>\n",
       "      <td>977</td>\n",
       "      <td>6.137320</td>\n",
       "    </tr>\n",
       "    <tr>\n",
       "      <th>Model Code</th>\n",
       "      <td>10941</td>\n",
       "      <td>68.729192</td>\n",
       "    </tr>\n",
       "    <tr>\n",
       "      <th>Gearing Type</th>\n",
       "      <td>0</td>\n",
       "      <td>0.000000</td>\n",
       "    </tr>\n",
       "    <tr>\n",
       "      <th>Displacement</th>\n",
       "      <td>496</td>\n",
       "      <td>3.115774</td>\n",
       "    </tr>\n",
       "    <tr>\n",
       "      <th>Cylinders</th>\n",
       "      <td>5680</td>\n",
       "      <td>35.680633</td>\n",
       "    </tr>\n",
       "    <tr>\n",
       "      <th>Weight</th>\n",
       "      <td>6974</td>\n",
       "      <td>43.809285</td>\n",
       "    </tr>\n",
       "    <tr>\n",
       "      <th>Drive chain</th>\n",
       "      <td>6858</td>\n",
       "      <td>43.080596</td>\n",
       "    </tr>\n",
       "    <tr>\n",
       "      <th>Fuel</th>\n",
       "      <td>0</td>\n",
       "      <td>0.000000</td>\n",
       "    </tr>\n",
       "    <tr>\n",
       "      <th>Consumption</th>\n",
       "      <td>1906</td>\n",
       "      <td>11.973114</td>\n",
       "    </tr>\n",
       "    <tr>\n",
       "      <th>CO2 Emission</th>\n",
       "      <td>1808</td>\n",
       "      <td>11.357497</td>\n",
       "    </tr>\n",
       "    <tr>\n",
       "      <th>Emission Class</th>\n",
       "      <td>3021</td>\n",
       "      <td>18.977323</td>\n",
       "    </tr>\n",
       "    <tr>\n",
       "      <th>\\nComfort &amp; Convenience\\n</th>\n",
       "      <td>920</td>\n",
       "      <td>5.779257</td>\n",
       "    </tr>\n",
       "    <tr>\n",
       "      <th>\\nEntertainment &amp; Media\\n</th>\n",
       "      <td>1374</td>\n",
       "      <td>8.631195</td>\n",
       "    </tr>\n",
       "    <tr>\n",
       "      <th>\\nExtras\\n</th>\n",
       "      <td>2962</td>\n",
       "      <td>18.606696</td>\n",
       "    </tr>\n",
       "    <tr>\n",
       "      <th>\\nSafety &amp; Security\\n</th>\n",
       "      <td>982</td>\n",
       "      <td>6.168729</td>\n",
       "    </tr>\n",
       "    <tr>\n",
       "      <th>description</th>\n",
       "      <td>0</td>\n",
       "      <td>0.000000</td>\n",
       "    </tr>\n",
       "    <tr>\n",
       "      <th>Emission Label</th>\n",
       "      <td>11934</td>\n",
       "      <td>74.967021</td>\n",
       "    </tr>\n",
       "    <tr>\n",
       "      <th>Gears</th>\n",
       "      <td>4712</td>\n",
       "      <td>29.599849</td>\n",
       "    </tr>\n",
       "    <tr>\n",
       "      <th>Country version</th>\n",
       "      <td>8333</td>\n",
       "      <td>52.346253</td>\n",
       "    </tr>\n",
       "    <tr>\n",
       "      <th>Electricity consumption</th>\n",
       "      <td>15782</td>\n",
       "      <td>99.139393</td>\n",
       "    </tr>\n",
       "    <tr>\n",
       "      <th>Last Service Date</th>\n",
       "      <td>15353</td>\n",
       "      <td>96.444500</td>\n",
       "    </tr>\n",
       "    <tr>\n",
       "      <th>Other Fuel Types</th>\n",
       "      <td>15039</td>\n",
       "      <td>94.472015</td>\n",
       "    </tr>\n",
       "    <tr>\n",
       "      <th>Availability</th>\n",
       "      <td>15284</td>\n",
       "      <td>96.011056</td>\n",
       "    </tr>\n",
       "    <tr>\n",
       "      <th>Last Timing Belt Service Date</th>\n",
       "      <td>15903</td>\n",
       "      <td>99.899491</td>\n",
       "    </tr>\n",
       "    <tr>\n",
       "      <th>Available from</th>\n",
       "      <td>15647</td>\n",
       "      <td>98.291350</td>\n",
       "    </tr>\n",
       "  </tbody>\n",
       "</table>\n",
       "</div>"
      ],
      "text/plain": [
       "                               Total     Percent\n",
       "url                                0    0.000000\n",
       "make_model                         0    0.000000\n",
       "short_description                 46    0.288963\n",
       "body_type                         60    0.376908\n",
       "price                              0    0.000000\n",
       "vat                             4513   28.349771\n",
       "km                                 0    0.000000\n",
       "registration                       0    0.000000\n",
       "prev_owner                      6828   42.892141\n",
       "kW                             15919  100.000000\n",
       "hp                                 0    0.000000\n",
       "Type                               2    0.012564\n",
       "Previous Owners                 6640   41.711163\n",
       "Next Inspection                12384   77.793831\n",
       "Inspection new                 11987   75.299956\n",
       "Warranty                        5420   34.047365\n",
       "Full Service                    7704   48.395000\n",
       "Non-smoking Vehicle             8742   54.915510\n",
       "null                               0    0.000000\n",
       "Make                               0    0.000000\n",
       "Model                              0    0.000000\n",
       "Offer Number                    3175   19.944720\n",
       "First Registration              1597   10.032037\n",
       "Body Color                       597    3.750236\n",
       "Paint Type                      5772   36.258559\n",
       "Body Color Original             3759   23.613292\n",
       "Upholstery                      3720   23.368302\n",
       "Body                              60    0.376908\n",
       "Nr. of Doors                     212    1.331742\n",
       "Nr. of Seats                     977    6.137320\n",
       "Model Code                     10941   68.729192\n",
       "Gearing Type                       0    0.000000\n",
       "Displacement                     496    3.115774\n",
       "Cylinders                       5680   35.680633\n",
       "Weight                          6974   43.809285\n",
       "Drive chain                     6858   43.080596\n",
       "Fuel                               0    0.000000\n",
       "Consumption                     1906   11.973114\n",
       "CO2 Emission                    1808   11.357497\n",
       "Emission Class                  3021   18.977323\n",
       "\\nComfort & Convenience\\n        920    5.779257\n",
       "\\nEntertainment & Media\\n       1374    8.631195\n",
       "\\nExtras\\n                      2962   18.606696\n",
       "\\nSafety & Security\\n            982    6.168729\n",
       "description                        0    0.000000\n",
       "Emission Label                 11934   74.967021\n",
       "Gears                           4712   29.599849\n",
       "Country version                 8333   52.346253\n",
       "Electricity consumption        15782   99.139393\n",
       "Last Service Date              15353   96.444500\n",
       "Other Fuel Types               15039   94.472015\n",
       "Availability                   15284   96.011056\n",
       "Last Timing Belt Service Date  15903   99.899491\n",
       "Available from                 15647   98.291350"
      ]
     },
     "execution_count": 5,
     "metadata": {},
     "output_type": "execute_result"
    }
   ],
   "source": [
    "null_values(autos)"
   ]
  },
  {
   "cell_type": "code",
   "execution_count": 6,
   "metadata": {},
   "outputs": [],
   "source": [
    "autos.drop(['url', 'short_description', 'Non-smoking Vehicle', 'null', 'Offer Number', 'Model Code', 'Weight', 'Emission Class', 'description', 'Country version'], axis = 1, inplace =True)"
   ]
  },
  {
   "cell_type": "code",
   "execution_count": 7,
   "metadata": {},
   "outputs": [
    {
     "data": {
      "text/plain": [
       "kW                               100.000000\n",
       "Next Inspection                   77.793831\n",
       "Inspection new                    75.299956\n",
       "Emission Label                    74.967021\n",
       "Electricity consumption           99.139393\n",
       "Last Service Date                 96.444500\n",
       "Other Fuel Types                  94.472015\n",
       "Availability                      96.011056\n",
       "Last Timing Belt Service Date     99.899491\n",
       "Available from                    98.291350\n",
       "dtype: float64"
      ]
     },
     "execution_count": 7,
     "metadata": {},
     "output_type": "execute_result"
    }
   ],
   "source": [
    "null_values_limit(autos, 70)"
   ]
  },
  {
   "cell_type": "code",
   "execution_count": 8,
   "metadata": {},
   "outputs": [],
   "source": [
    "drop_list_70 = ['kW', 'Next Inspection','Inspection new', 'Emission Label', 'Electricity consumption', 'Last Service Date', 'Other Fuel Types', 'Availability', 'Last Timing Belt Service Date', 'Available from']"
   ]
  },
  {
   "cell_type": "code",
   "execution_count": 9,
   "metadata": {},
   "outputs": [],
   "source": [
    "autos.drop(drop_list_70, axis = 1, inplace = True)"
   ]
  },
  {
   "cell_type": "code",
   "execution_count": 10,
   "metadata": {},
   "outputs": [
    {
     "data": {
      "text/html": [
       "<div>\n",
       "<style scoped>\n",
       "    .dataframe tbody tr th:only-of-type {\n",
       "        vertical-align: middle;\n",
       "    }\n",
       "\n",
       "    .dataframe tbody tr th {\n",
       "        vertical-align: top;\n",
       "    }\n",
       "\n",
       "    .dataframe thead th {\n",
       "        text-align: right;\n",
       "    }\n",
       "</style>\n",
       "<table border=\"1\" class=\"dataframe\">\n",
       "  <thead>\n",
       "    <tr style=\"text-align: right;\">\n",
       "      <th></th>\n",
       "      <th>Total</th>\n",
       "      <th>Percent</th>\n",
       "    </tr>\n",
       "  </thead>\n",
       "  <tbody>\n",
       "    <tr>\n",
       "      <th>make_model</th>\n",
       "      <td>0</td>\n",
       "      <td>0.000000</td>\n",
       "    </tr>\n",
       "    <tr>\n",
       "      <th>body_type</th>\n",
       "      <td>60</td>\n",
       "      <td>0.376908</td>\n",
       "    </tr>\n",
       "    <tr>\n",
       "      <th>price</th>\n",
       "      <td>0</td>\n",
       "      <td>0.000000</td>\n",
       "    </tr>\n",
       "    <tr>\n",
       "      <th>vat</th>\n",
       "      <td>4513</td>\n",
       "      <td>28.349771</td>\n",
       "    </tr>\n",
       "    <tr>\n",
       "      <th>km</th>\n",
       "      <td>0</td>\n",
       "      <td>0.000000</td>\n",
       "    </tr>\n",
       "    <tr>\n",
       "      <th>registration</th>\n",
       "      <td>0</td>\n",
       "      <td>0.000000</td>\n",
       "    </tr>\n",
       "    <tr>\n",
       "      <th>prev_owner</th>\n",
       "      <td>6828</td>\n",
       "      <td>42.892141</td>\n",
       "    </tr>\n",
       "    <tr>\n",
       "      <th>hp</th>\n",
       "      <td>0</td>\n",
       "      <td>0.000000</td>\n",
       "    </tr>\n",
       "    <tr>\n",
       "      <th>Type</th>\n",
       "      <td>2</td>\n",
       "      <td>0.012564</td>\n",
       "    </tr>\n",
       "    <tr>\n",
       "      <th>Previous Owners</th>\n",
       "      <td>6640</td>\n",
       "      <td>41.711163</td>\n",
       "    </tr>\n",
       "    <tr>\n",
       "      <th>Warranty</th>\n",
       "      <td>5420</td>\n",
       "      <td>34.047365</td>\n",
       "    </tr>\n",
       "    <tr>\n",
       "      <th>Full Service</th>\n",
       "      <td>7704</td>\n",
       "      <td>48.395000</td>\n",
       "    </tr>\n",
       "    <tr>\n",
       "      <th>Make</th>\n",
       "      <td>0</td>\n",
       "      <td>0.000000</td>\n",
       "    </tr>\n",
       "    <tr>\n",
       "      <th>Model</th>\n",
       "      <td>0</td>\n",
       "      <td>0.000000</td>\n",
       "    </tr>\n",
       "    <tr>\n",
       "      <th>First Registration</th>\n",
       "      <td>1597</td>\n",
       "      <td>10.032037</td>\n",
       "    </tr>\n",
       "    <tr>\n",
       "      <th>Body Color</th>\n",
       "      <td>597</td>\n",
       "      <td>3.750236</td>\n",
       "    </tr>\n",
       "    <tr>\n",
       "      <th>Paint Type</th>\n",
       "      <td>5772</td>\n",
       "      <td>36.258559</td>\n",
       "    </tr>\n",
       "    <tr>\n",
       "      <th>Body Color Original</th>\n",
       "      <td>3759</td>\n",
       "      <td>23.613292</td>\n",
       "    </tr>\n",
       "    <tr>\n",
       "      <th>Upholstery</th>\n",
       "      <td>3720</td>\n",
       "      <td>23.368302</td>\n",
       "    </tr>\n",
       "    <tr>\n",
       "      <th>Body</th>\n",
       "      <td>60</td>\n",
       "      <td>0.376908</td>\n",
       "    </tr>\n",
       "    <tr>\n",
       "      <th>Nr. of Doors</th>\n",
       "      <td>212</td>\n",
       "      <td>1.331742</td>\n",
       "    </tr>\n",
       "    <tr>\n",
       "      <th>Nr. of Seats</th>\n",
       "      <td>977</td>\n",
       "      <td>6.137320</td>\n",
       "    </tr>\n",
       "    <tr>\n",
       "      <th>Gearing Type</th>\n",
       "      <td>0</td>\n",
       "      <td>0.000000</td>\n",
       "    </tr>\n",
       "    <tr>\n",
       "      <th>Displacement</th>\n",
       "      <td>496</td>\n",
       "      <td>3.115774</td>\n",
       "    </tr>\n",
       "    <tr>\n",
       "      <th>Cylinders</th>\n",
       "      <td>5680</td>\n",
       "      <td>35.680633</td>\n",
       "    </tr>\n",
       "    <tr>\n",
       "      <th>Drive chain</th>\n",
       "      <td>6858</td>\n",
       "      <td>43.080596</td>\n",
       "    </tr>\n",
       "    <tr>\n",
       "      <th>Fuel</th>\n",
       "      <td>0</td>\n",
       "      <td>0.000000</td>\n",
       "    </tr>\n",
       "    <tr>\n",
       "      <th>Consumption</th>\n",
       "      <td>1906</td>\n",
       "      <td>11.973114</td>\n",
       "    </tr>\n",
       "    <tr>\n",
       "      <th>CO2 Emission</th>\n",
       "      <td>1808</td>\n",
       "      <td>11.357497</td>\n",
       "    </tr>\n",
       "    <tr>\n",
       "      <th>\\nComfort &amp; Convenience\\n</th>\n",
       "      <td>920</td>\n",
       "      <td>5.779257</td>\n",
       "    </tr>\n",
       "    <tr>\n",
       "      <th>\\nEntertainment &amp; Media\\n</th>\n",
       "      <td>1374</td>\n",
       "      <td>8.631195</td>\n",
       "    </tr>\n",
       "    <tr>\n",
       "      <th>\\nExtras\\n</th>\n",
       "      <td>2962</td>\n",
       "      <td>18.606696</td>\n",
       "    </tr>\n",
       "    <tr>\n",
       "      <th>\\nSafety &amp; Security\\n</th>\n",
       "      <td>982</td>\n",
       "      <td>6.168729</td>\n",
       "    </tr>\n",
       "    <tr>\n",
       "      <th>Gears</th>\n",
       "      <td>4712</td>\n",
       "      <td>29.599849</td>\n",
       "    </tr>\n",
       "  </tbody>\n",
       "</table>\n",
       "</div>"
      ],
      "text/plain": [
       "                           Total    Percent\n",
       "make_model                     0   0.000000\n",
       "body_type                     60   0.376908\n",
       "price                          0   0.000000\n",
       "vat                         4513  28.349771\n",
       "km                             0   0.000000\n",
       "registration                   0   0.000000\n",
       "prev_owner                  6828  42.892141\n",
       "hp                             0   0.000000\n",
       "Type                           2   0.012564\n",
       "Previous Owners             6640  41.711163\n",
       "Warranty                    5420  34.047365\n",
       "Full Service                7704  48.395000\n",
       "Make                           0   0.000000\n",
       "Model                          0   0.000000\n",
       "First Registration          1597  10.032037\n",
       "Body Color                   597   3.750236\n",
       "Paint Type                  5772  36.258559\n",
       "Body Color Original         3759  23.613292\n",
       "Upholstery                  3720  23.368302\n",
       "Body                          60   0.376908\n",
       "Nr. of Doors                 212   1.331742\n",
       "Nr. of Seats                 977   6.137320\n",
       "Gearing Type                   0   0.000000\n",
       "Displacement                 496   3.115774\n",
       "Cylinders                   5680  35.680633\n",
       "Drive chain                 6858  43.080596\n",
       "Fuel                           0   0.000000\n",
       "Consumption                 1906  11.973114\n",
       "CO2 Emission                1808  11.357497\n",
       "\\nComfort & Convenience\\n    920   5.779257\n",
       "\\nEntertainment & Media\\n   1374   8.631195\n",
       "\\nExtras\\n                  2962  18.606696\n",
       "\\nSafety & Security\\n        982   6.168729\n",
       "Gears                       4712  29.599849"
      ]
     },
     "execution_count": 10,
     "metadata": {},
     "output_type": "execute_result"
    }
   ],
   "source": [
    "null_values(autos)"
   ]
  },
  {
   "cell_type": "markdown",
   "metadata": {},
   "source": [
    "### Handling with Similar or Duplicate Variables"
   ]
  },
  {
   "cell_type": "markdown",
   "metadata": {},
   "source": [
    "### prev_owner vs Previous Owners"
   ]
  },
  {
   "cell_type": "code",
   "execution_count": 11,
   "metadata": {},
   "outputs": [
    {
     "data": {
      "text/html": [
       "<div>\n",
       "<style scoped>\n",
       "    .dataframe tbody tr th:only-of-type {\n",
       "        vertical-align: middle;\n",
       "    }\n",
       "\n",
       "    .dataframe tbody tr th {\n",
       "        vertical-align: top;\n",
       "    }\n",
       "\n",
       "    .dataframe thead th {\n",
       "        text-align: right;\n",
       "    }\n",
       "</style>\n",
       "<table border=\"1\" class=\"dataframe\">\n",
       "  <thead>\n",
       "    <tr style=\"text-align: right;\">\n",
       "      <th></th>\n",
       "      <th>prev_owner</th>\n",
       "      <th>Previous Owners</th>\n",
       "    </tr>\n",
       "  </thead>\n",
       "  <tbody>\n",
       "    <tr>\n",
       "      <th>0</th>\n",
       "      <td>2 previous owners</td>\n",
       "      <td>\\n2\\n</td>\n",
       "    </tr>\n",
       "    <tr>\n",
       "      <th>1</th>\n",
       "      <td>None</td>\n",
       "      <td>NaN</td>\n",
       "    </tr>\n",
       "    <tr>\n",
       "      <th>2</th>\n",
       "      <td>1 previous owner</td>\n",
       "      <td>\\n1\\n</td>\n",
       "    </tr>\n",
       "    <tr>\n",
       "      <th>3</th>\n",
       "      <td>1 previous owner</td>\n",
       "      <td>\\n1\\n</td>\n",
       "    </tr>\n",
       "    <tr>\n",
       "      <th>4</th>\n",
       "      <td>1 previous owner</td>\n",
       "      <td>\\n1\\n</td>\n",
       "    </tr>\n",
       "  </tbody>\n",
       "</table>\n",
       "</div>"
      ],
      "text/plain": [
       "          prev_owner Previous Owners\n",
       "0  2 previous owners           \\n2\\n\n",
       "1               None             NaN\n",
       "2   1 previous owner           \\n1\\n\n",
       "3   1 previous owner           \\n1\\n\n",
       "4   1 previous owner           \\n1\\n"
      ]
     },
     "execution_count": 11,
     "metadata": {},
     "output_type": "execute_result"
    }
   ],
   "source": [
    "autos[[\"prev_owner\", \"Previous Owners\"]].head()"
   ]
  },
  {
   "cell_type": "code",
   "execution_count": 12,
   "metadata": {},
   "outputs": [
    {
     "data": {
      "text/plain": [
       "1 previous owner     8294\n",
       "NaN                  6828\n",
       "2 previous owners     778\n",
       "3 previous owners      17\n",
       "4 previous owners       2\n",
       "Name: prev_owner, dtype: int64"
      ]
     },
     "execution_count": 12,
     "metadata": {},
     "output_type": "execute_result"
    }
   ],
   "source": [
    "autos[\"prev_owner\"].value_counts(dropna = False)"
   ]
  },
  {
   "cell_type": "code",
   "execution_count": 13,
   "metadata": {},
   "outputs": [
    {
     "data": {
      "text/plain": [
       "1      8101\n",
       "NaN    6870\n",
       "2       766\n",
       "0       163\n",
       "3        17\n",
       "4         2\n",
       "Name: Previous Owners, dtype: int64"
      ]
     },
     "execution_count": 13,
     "metadata": {},
     "output_type": "execute_result"
    }
   ],
   "source": [
    "autos[\"Previous Owners\"].str.strip(\"\\n\").value_counts(dropna = False)"
   ]
  },
  {
   "cell_type": "code",
   "execution_count": 14,
   "metadata": {},
   "outputs": [
    {
     "data": {
      "text/plain": [
       "1      8294\n",
       "NaN    6828\n",
       "2       778\n",
       "3        17\n",
       "4         2\n",
       "Name: prev_owner, dtype: int64"
      ]
     },
     "execution_count": 14,
     "metadata": {},
     "output_type": "execute_result"
    }
   ],
   "source": [
    "autos[\"prev_owner\"] = autos[\"prev_owner\"].str.replace(\" previous owner\", \"\").str.replace(\"s\", \"\")\n",
    "autos[\"prev_owner\"].value_counts(dropna = False)"
   ]
  },
  {
   "cell_type": "code",
   "execution_count": 15,
   "metadata": {},
   "outputs": [
    {
     "data": {
      "text/plain": [
       "1    14692\n",
       "2     1187\n",
       "3       38\n",
       "4        2\n",
       "Name: prev_owner, dtype: int64"
      ]
     },
     "execution_count": 15,
     "metadata": {},
     "output_type": "execute_result"
    }
   ],
   "source": [
    "autos[\"prev_owner\"].fillna(method='bfill', inplace=True)\n",
    "autos[\"prev_owner\"].value_counts(dropna = False)"
   ]
  },
  {
   "cell_type": "code",
   "execution_count": 16,
   "metadata": {},
   "outputs": [],
   "source": [
    "autos.drop('Previous Owners', axis = 1, inplace = True)"
   ]
  },
  {
   "cell_type": "markdown",
   "metadata": {},
   "source": [
    "### body_type vs Body"
   ]
  },
  {
   "cell_type": "code",
   "execution_count": 17,
   "metadata": {},
   "outputs": [
    {
     "data": {
      "text/plain": [
       "Sedans           7903\n",
       "Station wagon    3553\n",
       "Compact          3153\n",
       "Van               783\n",
       "Other             290\n",
       "Transporter        88\n",
       "NaN                60\n",
       "Off-Road           56\n",
       "Coupe              25\n",
       "Convertible         8\n",
       "Name: body_type, dtype: int64"
      ]
     },
     "execution_count": 17,
     "metadata": {},
     "output_type": "execute_result"
    }
   ],
   "source": [
    "autos[\"body_type\"].value_counts(dropna = False)"
   ]
  },
  {
   "cell_type": "code",
   "execution_count": 18,
   "metadata": {},
   "outputs": [
    {
     "data": {
      "text/plain": [
       "Sedans           7903\n",
       "Station wagon    3553\n",
       "Compact          3153\n",
       "Van               783\n",
       "Other             290\n",
       "Transporter        88\n",
       "NaN                60\n",
       "Off-Road           56\n",
       "Coupe              25\n",
       "Convertible         8\n",
       "Name: Body, dtype: int64"
      ]
     },
     "execution_count": 18,
     "metadata": {},
     "output_type": "execute_result"
    }
   ],
   "source": [
    "autos[\"Body\"].str[1].value_counts(dropna = False)"
   ]
  },
  {
   "cell_type": "code",
   "execution_count": 19,
   "metadata": {},
   "outputs": [
    {
     "data": {
      "text/plain": [
       "Sedans           7925\n",
       "Station wagon    3563\n",
       "Compact          3155\n",
       "Van               809\n",
       "Other             290\n",
       "Transporter        88\n",
       "Off-Road           56\n",
       "Coupe              25\n",
       "Convertible         8\n",
       "Name: body_type, dtype: int64"
      ]
     },
     "execution_count": 19,
     "metadata": {},
     "output_type": "execute_result"
    }
   ],
   "source": [
    "fill_by_group(autos, 'make_model', 'body_type')\n",
    "autos.drop('Body', axis = 1, inplace = True)\n",
    "autos[\"body_type\"].value_counts(dropna = False)"
   ]
  },
  {
   "cell_type": "code",
   "execution_count": 20,
   "metadata": {},
   "outputs": [
    {
     "data": {
      "text/plain": [
       "Sedans           8005\n",
       "Station wagon    3678\n",
       "Compact          3242\n",
       "Van               817\n",
       "Transporter        88\n",
       "Off-Road           56\n",
       "Coupe              25\n",
       "Convertible         8\n",
       "Name: body_type, dtype: int64"
      ]
     },
     "execution_count": 20,
     "metadata": {},
     "output_type": "execute_result"
    }
   ],
   "source": [
    "autos.body_type[autos.body_type == \"Other\"] = np.nan\n",
    "fill_by_group(autos, \"make_model\", \"body_type\")\n",
    "autos[\"body_type\"].value_counts(dropna = False)"
   ]
  },
  {
   "cell_type": "code",
   "execution_count": 21,
   "metadata": {},
   "outputs": [],
   "source": [
    "autos = autos.join(autos[\"body_type\"].str.get_dummies().add_prefix('BT_'))"
   ]
  },
  {
   "cell_type": "code",
   "execution_count": 22,
   "metadata": {},
   "outputs": [],
   "source": [
    "autos.drop('body_type', axis = 1, inplace = True)"
   ]
  },
  {
   "cell_type": "markdown",
   "metadata": {},
   "source": [
    "### Working on Variables"
   ]
  },
  {
   "cell_type": "markdown",
   "metadata": {},
   "source": [
    "### Cylinders"
   ]
  },
  {
   "cell_type": "code",
   "execution_count": 23,
   "metadata": {},
   "outputs": [
    {
     "data": {
      "text/plain": [
       "4      8105\n",
       "NaN    5680\n",
       "3      2104\n",
       "5        22\n",
       "6         3\n",
       "8         2\n",
       "2         2\n",
       "1         1\n",
       "Name: Cylinders, dtype: int64"
      ]
     },
     "execution_count": 23,
     "metadata": {},
     "output_type": "execute_result"
    }
   ],
   "source": [
    "autos[\"Cylinders\"].str[0].str.strip('\\n').value_counts(dropna = False)"
   ]
  },
  {
   "cell_type": "code",
   "execution_count": 24,
   "metadata": {},
   "outputs": [],
   "source": [
    "autos[\"Cylinders\"] = autos[\"Cylinders\"].str[0].str.strip('\\n')\n",
    "autos[\"Cylinders\"] = pd.to_numeric(autos[\"Cylinders\"])"
   ]
  },
  {
   "cell_type": "code",
   "execution_count": 25,
   "metadata": {},
   "outputs": [],
   "source": [
    "autos['Cylinders'] = autos['Cylinders'].fillna(autos.groupby('make_model')['Cylinders'].transform('median'))"
   ]
  },
  {
   "cell_type": "code",
   "execution_count": 26,
   "metadata": {},
   "outputs": [
    {
     "data": {
      "text/plain": [
       "4.0    12925\n",
       "3.0     2963\n",
       "5.0       22\n",
       "6.0        3\n",
       "2.0        2\n",
       "8.0        2\n",
       "1.0        1\n",
       "NaN        1\n",
       "Name: Cylinders, dtype: int64"
      ]
     },
     "execution_count": 26,
     "metadata": {},
     "output_type": "execute_result"
    }
   ],
   "source": [
    "autos['Cylinders'].value_counts(dropna = False)"
   ]
  },
  {
   "cell_type": "code",
   "execution_count": 27,
   "metadata": {},
   "outputs": [
    {
     "data": {
      "text/plain": [
       "4.0    12925\n",
       "3.0     2963\n",
       "5.0       22\n",
       "6.0        3\n",
       "2.0        2\n",
       "8.0        2\n",
       "1.0        1\n",
       "Name: Cylinders, dtype: int64"
      ]
     },
     "execution_count": 27,
     "metadata": {},
     "output_type": "execute_result"
    }
   ],
   "source": [
    "autos['Cylinders'].dropna(axis = 0, inplace =True)\n",
    "autos['Cylinders'].value_counts(dropna = False)"
   ]
  },
  {
   "cell_type": "markdown",
   "metadata": {},
   "source": [
    "### \\nComfort & Convenience\\n"
   ]
  },
  {
   "cell_type": "code",
   "execution_count": 28,
   "metadata": {},
   "outputs": [
    {
     "data": {
      "text/plain": [
       "NaN                                                                                                                                                                                                                                                                                                                                                                     920\n",
       "[Air conditioning, Electrical side mirrors, Hill Holder, Power windows]                                                                                                                                                                                                                                                                                                 216\n",
       "[Air conditioning, Electrical side mirrors, Power windows]                                                                                                                                                                                                                                                                                                              134\n",
       "[Air conditioning, Power windows]                                                                                                                                                                                                                                                                                                                                       130\n",
       "[Air conditioning, Armrest, Automatic climate control, Cruise control, Electrical side mirrors, Leather steering wheel, Light sensor, Lumbar support, Multi-function steering wheel, Navigation system, Park Distance Control, Parking assist system sensors front, Parking assist system sensors rear, Power windows, Rain sensor, Seat heating, Start-stop system]    105\n",
       "                                                                                                                                                                                                                                                                                                                                                                       ... \n",
       "[Air conditioning, Armrest, Automatic climate control, Cruise control, Leather steering wheel, Lumbar support, Multi-function steering wheel, Navigation system, Park Distance Control, Parking assist system sensors front, Parking assist system sensors rear, Power windows, Rain sensor]                                                                              1\n",
       "[Air conditioning, Armrest, Automatic climate control, Electrical side mirrors, Hill Holder, Keyless central door lock, Leather steering wheel, Light sensor, Park Distance Control, Parking assist system sensors rear, Power windows, Rain sensor]                                                                                                                      1\n",
       "[Air conditioning, Automatic climate control, Cruise control, Electrical side mirrors, Leather steering wheel, Light sensor, Multi-function steering wheel, Navigation system, Park Distance Control, Parking assist system sensors rear, Power windows, Rain sensor, Start-stop system]                                                                                  1\n",
       "[Air conditioning, Armrest, Cruise control, Electrical side mirrors, Leather steering wheel, Light sensor, Multi-function steering wheel, Park Distance Control, Parking assist system camera, Parking assist system sensors front, Parking assist system sensors rear, Power windows, Rain sensor, Seat heating, Start-stop system]                                      1\n",
       "[Air conditioning, Armrest, Automatic climate control, Auxiliary heating, Electrical side mirrors, Leather steering wheel, Light sensor, Multi-function steering wheel, Navigation system, Park Distance Control, Parking assist system sensors front, Parking assist system sensors rear, Power windows, Seat heating]                                                   1\n",
       "Name: \\nComfort & Convenience\\n, Length: 6199, dtype: int64"
      ]
     },
     "execution_count": 28,
     "metadata": {},
     "output_type": "execute_result"
    }
   ],
   "source": [
    "autos['\\nComfort & Convenience\\n'].value_counts(dropna = False)"
   ]
  },
  {
   "cell_type": "code",
   "execution_count": 29,
   "metadata": {},
   "outputs": [
    {
     "data": {
      "text/plain": [
       "['Electric tailgate',\n",
       " 'Electrically adjustable seats',\n",
       " 'Parking assist system self-steering',\n",
       " 'Heated steering wheel',\n",
       " 'Automatic climate control',\n",
       " 'Armrest',\n",
       " 'Split rear seats',\n",
       " 'Seat heating',\n",
       " 'Windshield',\n",
       " 'Electric Starter',\n",
       " 'Light sensor',\n",
       " 'Multi-function steering wheel',\n",
       " 'Leather steering wheel',\n",
       " 'Navigation system',\n",
       " 'Electrical side mirrors',\n",
       " 'Parking assist system sensors front',\n",
       " 'Wind deflector',\n",
       " 'Air suspension',\n",
       " 'Keyless central door lock',\n",
       " 'Leather seats',\n",
       " 'Heads-up display',\n",
       " 'Parking assist system sensors rear',\n",
       " 'Parking assist system camera',\n",
       " 'Electrically heated windshield',\n",
       " 'Auxiliary heating',\n",
       " 'Park Distance Control',\n",
       " 'Lumbar support',\n",
       " 'Power windows',\n",
       " 'Massage seats',\n",
       " 'Rain sensor',\n",
       " 'Panorama roof',\n",
       " 'Seat ventilation',\n",
       " 'Cruise control',\n",
       " 'Hill Holder',\n",
       " 'Tinted windows',\n",
       " 'Air conditioning',\n",
       " 'Sunroof',\n",
       " 'Start-stop system']"
      ]
     },
     "execution_count": 29,
     "metadata": {},
     "output_type": "execute_result"
    }
   ],
   "source": [
    "Nan_to_list (autos, '\\nComfort & Convenience\\n')\n",
    "unique_values (autos, '\\nComfort & Convenience\\n')"
   ]
  },
  {
   "cell_type": "code",
   "execution_count": 30,
   "metadata": {},
   "outputs": [
    {
     "data": {
      "text/plain": [
       "                                                                                                                                                                                                                                                                                                                                                                                                                           920\n",
       "Air conditioning,Electrical side mirrors,Hill Holder,Power windows                                                                                                                                                                                                                                                                                                                                                         216\n",
       "Air conditioning,Electrical side mirrors,Power windows                                                                                                                                                                                                                                                                                                                                                                     134\n",
       "Air conditioning,Power windows                                                                                                                                                                                                                                                                                                                                                                                             130\n",
       "Air conditioning,Armrest,Automatic climate control,Cruise control,Electrical side mirrors,Leather steering wheel,Light sensor,Lumbar support,Multi-function steering wheel,Navigation system,Park Distance Control,Parking assist system sensors front,Parking assist system sensors rear,Power windows,Rain sensor,Seat heating,Start-stop system                                                                         105\n",
       "                                                                                                                                                                                                                                                                                                                                                                                                                          ... \n",
       "Air conditioning,Armrest,Automatic climate control,Cruise control,Electrically heated windshield,Electrical side mirrors,Electric tailgate,Hill Holder,Keyless central door lock,Leather seats,Leather steering wheel,Light sensor,Lumbar support,Multi-function steering wheel,Navigation system,Panorama roof,Parking assist system sensors rear,Power windows,Rain sensor,Split rear seats,Start-stop system,Sunroof      1\n",
       "Air conditioning,Armrest,Automatic climate control,Cruise control,Electrical side mirrors,Leather steering wheel,Multi-function steering wheel,Navigation system,Park Distance Control,Parking assist system sensors front,Parking assist system sensors rear,Power windows,Rain sensor,Split rear seats                                                                                                                     1\n",
       "Air conditioning,Cruise control,Electrical side mirrors,Hill Holder,Keyless central door lock,Leather steering wheel,Power windows,Rain sensor,Start-stop system                                                                                                                                                                                                                                                             1\n",
       "Air conditioning,Armrest,Electrical side mirrors,Multi-function steering wheel,Navigation system,Power windows,Rain sensor,Split rear seats                                                                                                                                                                                                                                                                                  1\n",
       "Armrest,Cruise control,Electrical side mirrors,Leather steering wheel,Light sensor,Navigation system,Park Distance Control,Parking assist system sensors rear,Power windows,Rain sensor,Seat heating,Start-stop system                                                                                                                                                                                                       1\n",
       "Name: Comfort_Convenience, Length: 6199, dtype: int64"
      ]
     },
     "execution_count": 30,
     "metadata": {},
     "output_type": "execute_result"
    }
   ],
   "source": [
    "cc_list = [\",\".join(item).strip() if type(item) == list else item for item in autos['\\nComfort & Convenience\\n']]\n",
    "autos[\"Comfort_Convenience\"] = pd.DataFrame(cc_list)\n",
    "autos['Comfort_Convenience'].value_counts(dropna=False)"
   ]
  },
  {
   "cell_type": "code",
   "execution_count": 31,
   "metadata": {},
   "outputs": [
    {
     "data": {
      "text/plain": [
       "NaN                                                                                                                                                                                                                                                                                                                                                                                                                        920\n",
       "Air conditioning,Electrical side mirrors,Hill Holder,Power windows                                                                                                                                                                                                                                                                                                                                                         216\n",
       "Air conditioning,Electrical side mirrors,Power windows                                                                                                                                                                                                                                                                                                                                                                     134\n",
       "Air conditioning,Power windows                                                                                                                                                                                                                                                                                                                                                                                             130\n",
       "Air conditioning,Armrest,Automatic climate control,Cruise control,Electrical side mirrors,Leather steering wheel,Light sensor,Lumbar support,Multi-function steering wheel,Navigation system,Park Distance Control,Parking assist system sensors front,Parking assist system sensors rear,Power windows,Rain sensor,Seat heating,Start-stop system                                                                         105\n",
       "                                                                                                                                                                                                                                                                                                                                                                                                                          ... \n",
       "Air conditioning,Automatic climate control,Cruise control,Electrically heated windshield,Leather steering wheel,Multi-function steering wheel,Navigation system,Park Distance Control,Parking assist system sensors front,Parking assist system sensors rear,Power windows,Rain sensor,Split rear seats,Start-stop system                                                                                                    1\n",
       "Air conditioning,Armrest,Automatic climate control,Cruise control,Electrical side mirrors,Hill Holder,Leather steering wheel,Light sensor,Multi-function steering wheel,Park Distance Control,Parking assist system sensors front,Parking assist system sensors rear,Power windows,Rain sensor,Seat heating,Split rear seats,Start-stop system                                                                               1\n",
       "Air conditioning,Armrest,Automatic climate control,Cruise control,Electrically heated windshield,Electrical side mirrors,Electric tailgate,Hill Holder,Keyless central door lock,Leather seats,Leather steering wheel,Light sensor,Lumbar support,Multi-function steering wheel,Navigation system,Panorama roof,Parking assist system sensors rear,Power windows,Rain sensor,Split rear seats,Start-stop system,Sunroof      1\n",
       "Air conditioning,Armrest,Automatic climate control,Cruise control,Electrical side mirrors,Leather steering wheel,Multi-function steering wheel,Navigation system,Park Distance Control,Parking assist system sensors front,Parking assist system sensors rear,Power windows,Rain sensor,Split rear seats                                                                                                                     1\n",
       "Air conditioning,Armrest,Automatic climate control,Electrical side mirrors,Heads-up display,Leather steering wheel,Light sensor,Lumbar support,Multi-function steering wheel,Power windows,Rain sensor,Start-stop system,Tinted windows                                                                                                                                                                                      1\n",
       "Name: Comfort_Convenience, Length: 6199, dtype: int64"
      ]
     },
     "execution_count": 31,
     "metadata": {},
     "output_type": "execute_result"
    }
   ],
   "source": [
    "autos[\"Comfort_Convenience\"] = [np.nan if autos['Comfort_Convenience'].iloc[i] == \"\" else autos['Comfort_Convenience'].iloc[i] for i in range(len(autos['Comfort_Convenience']))]\n",
    "autos[\"Comfort_Convenience\"].value_counts(dropna = False)"
   ]
  },
  {
   "cell_type": "code",
   "execution_count": 32,
   "metadata": {},
   "outputs": [
    {
     "data": {
      "text/plain": [
       "Air conditioning,Electrical side mirrors,Hill Holder,Power windows                                                                                                                                                                                                                                                                                                                                                                                                                             389\n",
       "Air conditioning,Armrest,Automatic climate control,Cruise control,Electrically adjustable seats,Electrical side mirrors,Electric tailgate,Heated steering wheel,Hill Holder,Keyless central door lock,Leather steering wheel,Light sensor,Lumbar support,Multi-function steering wheel,Navigation system,Park Distance Control,Parking assist system camera,Parking assist system sensors front,Parking assist system sensors rear,Power windows,Rain sensor,Seat heating,Start-stop system    259\n",
       "Air conditioning,Cruise control,Electrical side mirrors,Hill Holder,Light sensor,Multi-function steering wheel,Park Distance Control,Parking assist system sensors rear,Power windows,Start-stop system                                                                                                                                                                                                                                                                                        207\n",
       "Air conditioning,Automatic climate control,Cruise control,Multi-function steering wheel,Park Distance Control,Power windows                                                                                                                                                                                                                                                                                                                                                                    190\n",
       "Air conditioning,Armrest,Automatic climate control,Cruise control,Electrical side mirrors,Leather steering wheel,Light sensor,Lumbar support,Multi-function steering wheel,Navigation system,Park Distance Control,Parking assist system sensors front,Parking assist system sensors rear,Power windows,Rain sensor,Seat heating,Start-stop system                                                                                                                                             187\n",
       "                                                                                                                                                                                                                                                                                                                                                                                                                                                                                              ... \n",
       "Air conditioning,Automatic climate control,Cruise control,Electrically heated windshield,Leather steering wheel,Multi-function steering wheel,Navigation system,Park Distance Control,Parking assist system sensors front,Parking assist system sensors rear,Power windows,Rain sensor,Split rear seats,Start-stop system                                                                                                                                                                        1\n",
       "Air conditioning,Armrest,Automatic climate control,Cruise control,Electrical side mirrors,Hill Holder,Leather steering wheel,Light sensor,Multi-function steering wheel,Park Distance Control,Parking assist system sensors front,Parking assist system sensors rear,Power windows,Rain sensor,Seat heating,Split rear seats,Start-stop system                                                                                                                                                   1\n",
       "Air conditioning,Armrest,Automatic climate control,Cruise control,Electrically heated windshield,Electrical side mirrors,Electric tailgate,Hill Holder,Keyless central door lock,Leather seats,Leather steering wheel,Light sensor,Lumbar support,Multi-function steering wheel,Navigation system,Panorama roof,Parking assist system sensors rear,Power windows,Rain sensor,Split rear seats,Start-stop system,Sunroof                                                                          1\n",
       "Air conditioning,Armrest,Automatic climate control,Cruise control,Electrical side mirrors,Leather steering wheel,Multi-function steering wheel,Navigation system,Park Distance Control,Parking assist system sensors front,Parking assist system sensors rear,Power windows,Rain sensor,Split rear seats                                                                                                                                                                                         1\n",
       "Air conditioning,Armrest,Automatic climate control,Cruise control,Leather steering wheel,Multi-function steering wheel,Park Distance Control,Parking assist system sensors front,Parking assist system sensors rear,Power windows,Split rear seats,Start-stop system                                                                                                                                                                                                                             1\n",
       "Name: Comfort_Convenience, Length: 6198, dtype: int64"
      ]
     },
     "execution_count": 32,
     "metadata": {},
     "output_type": "execute_result"
    }
   ],
   "source": [
    "fill_by_group(autos, \"make_model\", \"Comfort_Convenience\")\n",
    "autos[\"Comfort_Convenience\"].value_counts(dropna = False)"
   ]
  },
  {
   "cell_type": "code",
   "execution_count": 33,
   "metadata": {},
   "outputs": [],
   "source": [
    "autos = autos.join(autos[\"Comfort_Convenience\"].str.get_dummies(sep = \",\").add_prefix('CC_'))"
   ]
  },
  {
   "cell_type": "code",
   "execution_count": 34,
   "metadata": {},
   "outputs": [],
   "source": [
    "autos.drop('\\nComfort & Convenience\\n', axis = 1, inplace = True)\n",
    "autos.drop('Comfort_Convenience', axis = 1, inplace = True)"
   ]
  },
  {
   "cell_type": "markdown",
   "metadata": {},
   "source": [
    "### \\nEntertainment & Media\\n"
   ]
  },
  {
   "cell_type": "code",
   "execution_count": 35,
   "metadata": {},
   "outputs": [
    {
     "data": {
      "text/plain": [
       "NaN                                                                                      1374\n",
       "[Bluetooth, Hands-free equipment, On-board computer, Radio, USB]                         1282\n",
       "[Bluetooth, Hands-free equipment, MP3, On-board computer, Radio, USB]                     982\n",
       "[Bluetooth, CD player, Hands-free equipment, MP3, On-board computer, Radio, USB]          783\n",
       "[On-board computer, Radio]                                                                487\n",
       "                                                                                         ... \n",
       "[Bluetooth, MP3, On-board computer, Sound system, USB]                                      1\n",
       "[CD player, Hands-free equipment, On-board computer, Radio, Sound system, Television]       1\n",
       "[Bluetooth, Digital radio, On-board computer, Sound system, USB]                            1\n",
       "[CD player, Hands-free equipment, MP3, Radio, USB]                                          1\n",
       "[CD player, Digital radio, Radio]                                                           1\n",
       "Name: \\nEntertainment & Media\\n, Length: 347, dtype: int64"
      ]
     },
     "execution_count": 35,
     "metadata": {},
     "output_type": "execute_result"
    }
   ],
   "source": [
    "autos['\\nEntertainment & Media\\n'].value_counts(dropna = False)"
   ]
  },
  {
   "cell_type": "code",
   "execution_count": 36,
   "metadata": {},
   "outputs": [
    {
     "data": {
      "text/plain": [
       "['Hands-free equipment',\n",
       " 'Television',\n",
       " 'USB',\n",
       " 'Sound system',\n",
       " 'MP3',\n",
       " 'Radio',\n",
       " 'CD player',\n",
       " 'Bluetooth',\n",
       " 'On-board computer',\n",
       " 'Digital radio']"
      ]
     },
     "execution_count": 36,
     "metadata": {},
     "output_type": "execute_result"
    }
   ],
   "source": [
    "Nan_to_list (autos, '\\nEntertainment & Media\\n')\n",
    "unique_values (autos, '\\nEntertainment & Media\\n')"
   ]
  },
  {
   "cell_type": "code",
   "execution_count": 37,
   "metadata": {},
   "outputs": [
    {
     "data": {
      "text/plain": [
       "                                                                                  1374\n",
       "Bluetooth,Hands-free equipment,On-board computer,Radio,USB                        1282\n",
       "Bluetooth,Hands-free equipment,MP3,On-board computer,Radio,USB                     982\n",
       "Bluetooth,CD player,Hands-free equipment,MP3,On-board computer,Radio,USB           783\n",
       "On-board computer,Radio                                                            487\n",
       "                                                                                  ... \n",
       "CD player,Digital radio,Hands-free equipment,Radio,USB                               1\n",
       "Bluetooth,Digital radio,Hands-free equipment,Sound system,USB                        1\n",
       "Bluetooth,Digital radio,On-board computer,Sound system,USB                           1\n",
       "Bluetooth,Digital radio,Hands-free equipment,MP3,Sound system,USB                    1\n",
       "CD player,Hands-free equipment,On-board computer,Radio,Sound system,Television       1\n",
       "Name: Entertainment_Media, Length: 347, dtype: int64"
      ]
     },
     "execution_count": 37,
     "metadata": {},
     "output_type": "execute_result"
    }
   ],
   "source": [
    "em_list = [\",\".join(item).strip() if type(item) == list else item for item in autos['\\nEntertainment & Media\\n']]\n",
    "autos[\"Entertainment_Media\"] = pd.DataFrame(em_list)\n",
    "autos['Entertainment_Media'].value_counts(dropna=False)"
   ]
  },
  {
   "cell_type": "code",
   "execution_count": 38,
   "metadata": {},
   "outputs": [
    {
     "data": {
      "text/plain": [
       "NaN                                                                               1374\n",
       "Bluetooth,Hands-free equipment,On-board computer,Radio,USB                        1282\n",
       "Bluetooth,Hands-free equipment,MP3,On-board computer,Radio,USB                     982\n",
       "Bluetooth,CD player,Hands-free equipment,MP3,On-board computer,Radio,USB           783\n",
       "On-board computer,Radio                                                            487\n",
       "                                                                                  ... \n",
       "CD player,Digital radio,Hands-free equipment,Radio,USB                               1\n",
       "Bluetooth,Digital radio,Hands-free equipment,Sound system,USB                        1\n",
       "Bluetooth,Digital radio,On-board computer,Sound system,USB                           1\n",
       "Bluetooth,Digital radio,Hands-free equipment,MP3,Sound system,USB                    1\n",
       "CD player,Hands-free equipment,On-board computer,Radio,Sound system,Television       1\n",
       "Name: Entertainment_Media, Length: 347, dtype: int64"
      ]
     },
     "execution_count": 38,
     "metadata": {},
     "output_type": "execute_result"
    }
   ],
   "source": [
    "autos[\"Entertainment_Media\"] = [np.nan if autos['Entertainment_Media'].iloc[i] == \"\" else autos['Entertainment_Media'].iloc[i] for i in range(len(autos['Entertainment_Media']))]\n",
    "autos[\"Entertainment_Media\"].value_counts(dropna = False)"
   ]
  },
  {
   "cell_type": "code",
   "execution_count": 39,
   "metadata": {},
   "outputs": [
    {
     "data": {
      "text/plain": [
       "Bluetooth,Hands-free equipment,On-board computer,Radio,USB                                     2015\n",
       "Bluetooth,Hands-free equipment,MP3,On-board computer,Radio,USB                                 1206\n",
       "Bluetooth,CD player,Hands-free equipment,MP3,On-board computer,Radio,USB                       1049\n",
       "Bluetooth,Hands-free equipment,On-board computer,Radio                                          529\n",
       "On-board computer,Radio                                                                         487\n",
       "                                                                                               ... \n",
       "Hands-free equipment,MP3,Radio,Sound system,USB                                                   1\n",
       "Bluetooth,CD player,Digital radio,Radio,USB                                                       1\n",
       "Bluetooth,CD player,Digital radio,Hands-free equipment,On-board computer,Radio,Sound system       1\n",
       "Bluetooth,Digital radio,USB                                                                       1\n",
       "Digital radio,MP3,Radio                                                                           1\n",
       "Name: Entertainment_Media, Length: 346, dtype: int64"
      ]
     },
     "execution_count": 39,
     "metadata": {},
     "output_type": "execute_result"
    }
   ],
   "source": [
    "fill_by_group(autos, \"make_model\", \"Entertainment_Media\")\n",
    "autos[\"Entertainment_Media\"].value_counts(dropna = False)"
   ]
  },
  {
   "cell_type": "code",
   "execution_count": 40,
   "metadata": {},
   "outputs": [],
   "source": [
    "autos = autos.join(autos[\"Entertainment_Media\"].str.get_dummies(sep = \",\").add_prefix('EM_'))"
   ]
  },
  {
   "cell_type": "code",
   "execution_count": 41,
   "metadata": {},
   "outputs": [],
   "source": [
    "autos.drop('\\nEntertainment & Media\\n', axis = 1, inplace = True)\n",
    "autos.drop('Entertainment_Media', axis = 1, inplace = True)"
   ]
  },
  {
   "cell_type": "markdown",
   "metadata": {},
   "source": [
    "### \\nExtras\\n"
   ]
  },
  {
   "cell_type": "code",
   "execution_count": 42,
   "metadata": {},
   "outputs": [
    {
     "data": {
      "text/plain": [
       "[Alloy wheels]                                                                                         3245\n",
       "NaN                                                                                                    2962\n",
       "[Alloy wheels, Touch screen]                                                                            697\n",
       "[Alloy wheels, Voice Control]                                                                           577\n",
       "[Alloy wheels, Touch screen, Voice Control]                                                             541\n",
       "                                                                                                       ... \n",
       "[Alloy wheels, Sport suspension, Touch screen, Trailer hitch, Voice Control]                              1\n",
       "[Alloy wheels, Catalytic Converter, Handicapped enabled, Touch screen, Voice Control, Winter tyres]       1\n",
       "[Ski bag, Sport suspension]                                                                               1\n",
       "[Alloy wheels, Sport package, Sport seats, Sport suspension, Tuned car]                                   1\n",
       "[Sport seats, Sport suspension, Voice Control]                                                            1\n",
       "Name: \\nExtras\\n, Length: 660, dtype: int64"
      ]
     },
     "execution_count": 42,
     "metadata": {},
     "output_type": "execute_result"
    }
   ],
   "source": [
    "autos['\\nExtras\\n'].value_counts(dropna = False)"
   ]
  },
  {
   "cell_type": "code",
   "execution_count": 43,
   "metadata": {},
   "outputs": [
    {
     "data": {
      "text/plain": [
       "['Right hand drive',\n",
       " 'Sliding door',\n",
       " 'Catalytic Converter',\n",
       " 'Alloy wheels',\n",
       " 'Shift paddles',\n",
       " 'Sport suspension',\n",
       " 'Voice Control',\n",
       " 'Handicapped enabled',\n",
       " 'Tuned car',\n",
       " 'Winter tyres',\n",
       " 'Touch screen',\n",
       " 'Trailer hitch',\n",
       " 'Ski bag',\n",
       " 'Sport package',\n",
       " 'Cab or rented Car',\n",
       " 'Roof rack',\n",
       " 'Sport seats']"
      ]
     },
     "execution_count": 43,
     "metadata": {},
     "output_type": "execute_result"
    }
   ],
   "source": [
    "Nan_to_list (autos, '\\nExtras\\n')\n",
    "unique_values (autos, '\\nExtras\\n')"
   ]
  },
  {
   "cell_type": "code",
   "execution_count": 44,
   "metadata": {},
   "outputs": [
    {
     "data": {
      "text/plain": [
       "Alloy wheels                                                                                    3245\n",
       "                                                                                                2962\n",
       "Alloy wheels,Touch screen                                                                        697\n",
       "Alloy wheels,Voice Control                                                                       577\n",
       "Alloy wheels,Touch screen,Voice Control                                                          541\n",
       "                                                                                                ... \n",
       "Alloy wheels,Catalytic Converter,Roof rack,Touch screen,Trailer hitch,Winter tyres                 1\n",
       "Shift paddles,Sport seats,Trailer hitch                                                            1\n",
       "Roof rack,Sport seats,Trailer hitch                                                                1\n",
       "Alloy wheels,Roof rack,Ski bag,Sport suspension,Touch screen,Voice Control                         1\n",
       "Alloy wheels,Shift paddles,Sport package,Sport seats,Touch screen,Voice Control,Winter tyres       1\n",
       "Name: Extra, Length: 660, dtype: int64"
      ]
     },
     "execution_count": 44,
     "metadata": {},
     "output_type": "execute_result"
    }
   ],
   "source": [
    "ex_list = [\",\".join(item).strip() if type(item) == list else item for item in autos['\\nExtras\\n']]\n",
    "autos[\"Extra\"] = pd.DataFrame(ex_list)\n",
    "autos['Extra'].value_counts(dropna=False)"
   ]
  },
  {
   "cell_type": "code",
   "execution_count": 45,
   "metadata": {},
   "outputs": [
    {
     "data": {
      "text/plain": [
       "Alloy wheels                                                                                    3245\n",
       "NaN                                                                                             2962\n",
       "Alloy wheels,Touch screen                                                                        697\n",
       "Alloy wheels,Voice Control                                                                       577\n",
       "Alloy wheels,Touch screen,Voice Control                                                          541\n",
       "                                                                                                ... \n",
       "Alloy wheels,Catalytic Converter,Roof rack,Touch screen,Trailer hitch,Winter tyres                 1\n",
       "Shift paddles,Sport seats,Trailer hitch                                                            1\n",
       "Roof rack,Sport seats,Trailer hitch                                                                1\n",
       "Alloy wheels,Roof rack,Ski bag,Sport suspension,Touch screen,Voice Control                         1\n",
       "Alloy wheels,Shift paddles,Sport package,Sport seats,Touch screen,Voice Control,Winter tyres       1\n",
       "Name: Extra, Length: 660, dtype: int64"
      ]
     },
     "execution_count": 45,
     "metadata": {},
     "output_type": "execute_result"
    }
   ],
   "source": [
    "autos[\"Extra\"] = [np.nan if autos['Extra'].iloc[i] == \"\" else autos['Extra'].iloc[i] for i in range(len(autos['Extra']))]\n",
    "autos[\"Extra\"].value_counts(dropna = False)"
   ]
  },
  {
   "cell_type": "code",
   "execution_count": 46,
   "metadata": {},
   "outputs": [
    {
     "data": {
      "text/plain": [
       "Alloy wheels                                                                                                                             6174\n",
       "Alloy wheels,Touch screen                                                                                                                 697\n",
       "Alloy wheels,Voice Control                                                                                                                577\n",
       "Alloy wheels,Touch screen,Voice Control                                                                                                   541\n",
       "Alloy wheels,Roof rack                                                                                                                    385\n",
       "                                                                                                                                         ... \n",
       "Alloy wheels,Roof rack,Shift paddles,Sport package,Touch screen                                                                             1\n",
       "Alloy wheels,Sport seats,Tuned car                                                                                                          1\n",
       "Alloy wheels,Catalytic Converter,Roof rack,Ski bag,Sport package,Sport seats,Sport suspension,Touch screen,Voice Control,Winter tyres       1\n",
       "Ski bag,Sport suspension                                                                                                                    1\n",
       "Alloy wheels,Catalytic Converter,Touch screen,Trailer hitch                                                                                 1\n",
       "Name: Extra, Length: 659, dtype: int64"
      ]
     },
     "execution_count": 46,
     "metadata": {},
     "output_type": "execute_result"
    }
   ],
   "source": [
    "fill_by_group(autos, \"make_model\", \"Extra\")\n",
    "autos[\"Extra\"].value_counts(dropna = False)"
   ]
  },
  {
   "cell_type": "code",
   "execution_count": 47,
   "metadata": {},
   "outputs": [],
   "source": [
    "autos = autos.join(autos[\"Extra\"].str.get_dummies(sep = \",\").add_prefix('EXT_'))"
   ]
  },
  {
   "cell_type": "code",
   "execution_count": 48,
   "metadata": {},
   "outputs": [],
   "source": [
    "autos.drop('\\nExtras\\n', axis = 1, inplace = True)\n",
    "autos.drop('Extra', axis = 1, inplace = True)"
   ]
  },
  {
   "cell_type": "markdown",
   "metadata": {},
   "source": [
    "### \\nSafety & Security\\n"
   ]
  },
  {
   "cell_type": "code",
   "execution_count": 49,
   "metadata": {},
   "outputs": [
    {
     "data": {
      "text/plain": [
       "NaN                                                                                                                                                                                                                                                                                                                                                                                        982\n",
       "[ABS, Central door lock, Daytime running lights, Driver-side airbag, Electronic stability control, Fog lights, Immobilizer, Isofix, Passenger-side airbag, Power steering, Side airbag, Tire pressure monitoring system, Traction control]                                                                                                                                                 538\n",
       "[ABS, Central door lock, Daytime running lights, Driver-side airbag, Electronic stability control, Immobilizer, Isofix, Passenger-side airbag, Power steering, Side airbag, Tire pressure monitoring system, Traction control]                                                                                                                                                             480\n",
       "[ABS, Central door lock, Daytime running lights, Driver-side airbag, Electronic stability control, Immobilizer, Isofix, Passenger-side airbag, Power steering, Side airbag, Tire pressure monitoring system, Traction control, Xenon headlights]                                                                                                                                           275\n",
       "[ABS, Central door lock, Daytime running lights, Driver-side airbag, Electronic stability control, Fog lights, Immobilizer, Isofix, LED Daytime Running Lights, Passenger-side airbag, Power steering, Side airbag, Tire pressure monitoring system, Traction control]                                                                                                                     272\n",
       "                                                                                                                                                                                                                                                                                                                                                                                          ... \n",
       "[ABS, Adaptive Cruise Control, Central door lock, Driver-side airbag, Electronic stability control, Emergency brake assistant, Isofix, Lane departure warning system, Passenger-side airbag, Side airbag, Tire pressure monitoring system, Traction control]                                                                                                                                 1\n",
       "[ABS, Adaptive headlights, Central door lock, Daytime running lights, Driver-side airbag, Electronic stability control, Emergency brake assistant, Fog lights, Immobilizer, Isofix, Lane departure warning system, LED Daytime Running Lights, LED Headlights, Passenger-side airbag, Power steering, Side airbag, Tire pressure monitoring system]                                          1\n",
       "[ABS, Alarm system, Central door lock, Driver drowsiness detection, Driver-side airbag, Electronic stability control, Isofix, LED Daytime Running Lights, Passenger-side airbag, Power steering, Side airbag, Tire pressure monitoring system, Traction control, Xenon headlights]                                                                                                           1\n",
       "[ABS, Central door lock, Central door lock with remote control, Daytime running lights, Driver-side airbag, Electronic stability control, Emergency brake assistant, Emergency system, Fog lights, Head airbag, Immobilizer, Isofix, Lane departure warning system, Passenger-side airbag, Power steering, Rear airbag, Side airbag, Tire pressure monitoring system, Traction control]      1\n",
       "[ABS, Central door lock with remote control, Daytime running lights, Driver drowsiness detection, Driver-side airbag, Electronic stability control, Emergency brake assistant, Emergency system, Head airbag, Immobilizer, Isofix, LED Daytime Running Lights, Passenger-side airbag, Power steering, Side airbag, Tire pressure monitoring system, Traction control]                        1\n",
       "Name: \\nSafety & Security\\n, Length: 4444, dtype: int64"
      ]
     },
     "execution_count": 49,
     "metadata": {},
     "output_type": "execute_result"
    }
   ],
   "source": [
    "autos['\\nSafety & Security\\n'].value_counts(dropna = False)"
   ]
  },
  {
   "cell_type": "code",
   "execution_count": 50,
   "metadata": {},
   "outputs": [
    {
     "data": {
      "text/plain": [
       "['Isofix',\n",
       " 'Side airbag',\n",
       " 'Xenon headlights',\n",
       " 'Emergency brake assistant',\n",
       " 'Alarm system',\n",
       " 'Immobilizer',\n",
       " 'Central door lock with remote control',\n",
       " 'Tire pressure monitoring system',\n",
       " 'Adaptive headlights',\n",
       " 'Passenger-side airbag',\n",
       " 'Electronic stability control',\n",
       " 'Adaptive Cruise Control',\n",
       " 'Lane departure warning system',\n",
       " 'LED Headlights',\n",
       " 'Central door lock',\n",
       " 'Blind spot monitor',\n",
       " 'Driver-side airbag',\n",
       " 'Power steering',\n",
       " 'Traction control',\n",
       " 'LED Daytime Running Lights',\n",
       " 'Emergency system',\n",
       " 'Rear airbag',\n",
       " 'Night view assist',\n",
       " 'Daytime running lights',\n",
       " 'Driver drowsiness detection',\n",
       " 'Traffic sign recognition',\n",
       " 'Head airbag',\n",
       " 'ABS',\n",
       " 'Fog lights']"
      ]
     },
     "execution_count": 50,
     "metadata": {},
     "output_type": "execute_result"
    }
   ],
   "source": [
    "Nan_to_list (autos, '\\nSafety & Security\\n')\n",
    "unique_values (autos, '\\nSafety & Security\\n')"
   ]
  },
  {
   "cell_type": "code",
   "execution_count": 51,
   "metadata": {},
   "outputs": [
    {
     "data": {
      "text/plain": [
       "                                                                                                                                                                                                                                                                                                                                             982\n",
       "ABS,Central door lock,Daytime running lights,Driver-side airbag,Electronic stability control,Fog lights,Immobilizer,Isofix,Passenger-side airbag,Power steering,Side airbag,Tire pressure monitoring system,Traction control                                                                                                                 538\n",
       "ABS,Central door lock,Daytime running lights,Driver-side airbag,Electronic stability control,Immobilizer,Isofix,Passenger-side airbag,Power steering,Side airbag,Tire pressure monitoring system,Traction control                                                                                                                            480\n",
       "ABS,Central door lock,Daytime running lights,Driver-side airbag,Electronic stability control,Immobilizer,Isofix,Passenger-side airbag,Power steering,Side airbag,Tire pressure monitoring system,Traction control,Xenon headlights                                                                                                           275\n",
       "ABS,Central door lock,Daytime running lights,Driver-side airbag,Electronic stability control,Fog lights,Immobilizer,Isofix,LED Daytime Running Lights,Passenger-side airbag,Power steering,Side airbag,Tire pressure monitoring system,Traction control                                                                                      272\n",
       "                                                                                                                                                                                                                                                                                                                                            ... \n",
       "Central door lock,Driver-side airbag,Fog lights,Isofix,Passenger-side airbag,Power steering,Xenon headlights                                                                                                                                                                                                                                   1\n",
       "ABS,Central door lock,Daytime running lights,Driver drowsiness detection,Driver-side airbag,Electronic stability control,Immobilizer,Isofix,LED Headlights,Passenger-side airbag,Power steering,Side airbag,Tire pressure monitoring system,Xenon headlights                                                                                   1\n",
       "ABS,Electronic stability control,Immobilizer,Isofix,Power steering,Tire pressure monitoring system,Traction control                                                                                                                                                                                                                            1\n",
       "ABS,Alarm system,Central door lock,Central door lock with remote control,Driver-side airbag,Electronic stability control,Emergency system,Head airbag,Immobilizer,Isofix,LED Daytime Running Lights,Passenger-side airbag,Power steering,Rear airbag,Side airbag,Tire pressure monitoring system,Traction control,Xenon headlights             1\n",
       "ABS,Adaptive Cruise Control,Alarm system,Central door lock,Central door lock with remote control,Driver-side airbag,Electronic stability control,Emergency system,Head airbag,Immobilizer,Isofix,LED Daytime Running Lights,Passenger-side airbag,Power steering,Rear airbag,Side airbag,Tire pressure monitoring system,Traction control      1\n",
       "Name: Safety_Security, Length: 4444, dtype: int64"
      ]
     },
     "execution_count": 51,
     "metadata": {},
     "output_type": "execute_result"
    }
   ],
   "source": [
    "ss_list = [\",\".join(item).strip() if type(item) == list else item for item in autos['\\nSafety & Security\\n']]\n",
    "autos[\"Safety_Security\"] = pd.DataFrame(ss_list)\n",
    "autos['Safety_Security'].value_counts(dropna=False)"
   ]
  },
  {
   "cell_type": "code",
   "execution_count": 52,
   "metadata": {},
   "outputs": [
    {
     "data": {
      "text/plain": [
       "NaN                                                                                                                                                                                                                                                                                                                                                                        982\n",
       "ABS,Central door lock,Daytime running lights,Driver-side airbag,Electronic stability control,Fog lights,Immobilizer,Isofix,Passenger-side airbag,Power steering,Side airbag,Tire pressure monitoring system,Traction control                                                                                                                                               538\n",
       "ABS,Central door lock,Daytime running lights,Driver-side airbag,Electronic stability control,Immobilizer,Isofix,Passenger-side airbag,Power steering,Side airbag,Tire pressure monitoring system,Traction control                                                                                                                                                          480\n",
       "ABS,Central door lock,Daytime running lights,Driver-side airbag,Electronic stability control,Immobilizer,Isofix,Passenger-side airbag,Power steering,Side airbag,Tire pressure monitoring system,Traction control,Xenon headlights                                                                                                                                         275\n",
       "ABS,Central door lock,Daytime running lights,Driver-side airbag,Electronic stability control,Fog lights,Immobilizer,Isofix,LED Daytime Running Lights,Passenger-side airbag,Power steering,Side airbag,Tire pressure monitoring system,Traction control                                                                                                                    272\n",
       "                                                                                                                                                                                                                                                                                                                                                                          ... \n",
       "ABS,Blind spot monitor,Central door lock,Daytime running lights,Driver drowsiness detection,Driver-side airbag,Electronic stability control,Fog lights,Immobilizer,Isofix,Lane departure warning system,LED Daytime Running Lights,Passenger-side airbag,Power steering,Side airbag,Tire pressure monitoring system,Traction control,Xenon headlights                        1\n",
       "ABS,Central door lock,Driver-side airbag,Fog lights,Power steering                                                                                                                                                                                                                                                                                                           1\n",
       "ABS,Alarm system,Central door lock,Driver-side airbag,Immobilizer,Lane departure warning system,Power steering,Side airbag,Traction control                                                                                                                                                                                                                                  1\n",
       "ABS,Central door lock with remote control,Daytime running lights,Driver-side airbag,Electronic stability control,Fog lights,Head airbag,Isofix,Passenger-side airbag,Rear airbag,Side airbag,Xenon headlights                                                                                                                                                                1\n",
       "ABS,Adaptive headlights,Central door lock,Central door lock with remote control,Daytime running lights,Driver-side airbag,Electronic stability control,Emergency brake assistant,Head airbag,Immobilizer,Isofix,LED Daytime Running Lights,LED Headlights,Passenger-side airbag,Power steering,Rear airbag,Side airbag,Tire pressure monitoring system,Traction control      1\n",
       "Name: Safety_Security, Length: 4444, dtype: int64"
      ]
     },
     "execution_count": 52,
     "metadata": {},
     "output_type": "execute_result"
    }
   ],
   "source": [
    "autos[\"Safety_Security\"] = [np.nan if autos['Safety_Security'].iloc[i] == \"\" else autos['Safety_Security'].iloc[i] for i in range(len(autos['Safety_Security']))]\n",
    "autos[\"Safety_Security\"].value_counts(dropna = False)"
   ]
  },
  {
   "cell_type": "code",
   "execution_count": 53,
   "metadata": {},
   "outputs": [
    {
     "data": {
      "text/plain": [
       "ABS,Central door lock,Daytime running lights,Driver-side airbag,Electronic stability control,Fog lights,Immobilizer,Isofix,Passenger-side airbag,Power steering,Side airbag,Tire pressure monitoring system,Traction control                               825\n",
       "ABS,Central door lock,Daytime running lights,Driver-side airbag,Electronic stability control,Immobilizer,Isofix,Passenger-side airbag,Power steering,Side airbag,Tire pressure monitoring system,Traction control                                          480\n",
       "ABS,Central door lock,Daytime running lights,Driver-side airbag,Electronic stability control,Fog lights,Immobilizer,Isofix,LED Daytime Running Lights,Passenger-side airbag,Power steering,Side airbag,Tire pressure monitoring system,Traction control    452\n",
       "ABS,Central door lock,Daytime running lights,Driver-side airbag,Electronic stability control,Immobilizer,Isofix,Passenger-side airbag,Power steering,Side airbag,Tire pressure monitoring system,Traction control,Xenon headlights                         382\n",
       "ABS,Central door lock,Daytime running lights,Driver-side airbag,Electronic stability control,Immobilizer,Isofix,LED Daytime Running Lights,Passenger-side airbag,Power steering,Side airbag,Tire pressure monitoring system,Traction control               345\n",
       "                                                                                                                                                                                                                                                          ... \n",
       "ABS,Adaptive headlights,Central door lock,Driver-side airbag,Electronic stability control,Fog lights,Isofix,Passenger-side airbag,Power steering,Side airbag,Traction control,Xenon headlights                                                               1\n",
       "ABS,Central door lock,Driver-side airbag,Fog lights,Power steering                                                                                                                                                                                           1\n",
       "ABS,Alarm system,Central door lock,Driver-side airbag,Immobilizer,Lane departure warning system,Power steering,Side airbag,Traction control                                                                                                                  1\n",
       "ABS,Central door lock with remote control,Daytime running lights,Driver-side airbag,Electronic stability control,Fog lights,Head airbag,Isofix,Passenger-side airbag,Rear airbag,Side airbag,Xenon headlights                                                1\n",
       "ABS,Adaptive headlights,Alarm system,Central door lock,Driver-side airbag,Electronic stability control,Fog lights,Isofix,LED Headlights,Passenger-side airbag,Power steering,Traction control                                                                1\n",
       "Name: Safety_Security, Length: 4443, dtype: int64"
      ]
     },
     "execution_count": 53,
     "metadata": {},
     "output_type": "execute_result"
    }
   ],
   "source": [
    "fill_by_group(autos, \"make_model\", \"Safety_Security\")\n",
    "autos[\"Safety_Security\"].value_counts(dropna = False)"
   ]
  },
  {
   "cell_type": "code",
   "execution_count": 54,
   "metadata": {},
   "outputs": [],
   "source": [
    "autos = autos.join(autos[\"Safety_Security\"].str.get_dummies(sep = \",\").add_prefix('SS_'))"
   ]
  },
  {
   "cell_type": "code",
   "execution_count": 55,
   "metadata": {},
   "outputs": [],
   "source": [
    "autos.drop('\\nSafety & Security\\n', axis = 1, inplace = True)\n",
    "autos.drop('Safety_Security', axis = 1, inplace = True)"
   ]
  },
  {
   "cell_type": "markdown",
   "metadata": {},
   "source": [
    "### Consumption"
   ]
  },
  {
   "cell_type": "code",
   "execution_count": 56,
   "metadata": {},
   "outputs": [
    {
     "data": {
      "text/plain": [
       "NaN                                                                                   1906\n",
       "[[3.9 l/100 km (comb)], [4.1 l/100 km (city)], [3.7 l/100 km (country)]]               304\n",
       "[[4.2 l/100 km (comb)], [5 l/100 km (city)], [3.7 l/100 km (country)]]                 276\n",
       "[[5.4 l/100 km (comb)], [6.8 l/100 km (city)], [4.5 l/100 km (country)]]               257\n",
       "[[3.8 l/100 km (comb)], [4.3 l/100 km (city)], [3.5 l/100 km (country)]]               253\n",
       "                                                                                      ... \n",
       "[[3.6 l/100 km (comb)], [], [4.4 l/100 km (country)]]                                    1\n",
       "[\\n, 4.8 l/100 km (comb), \\n, 5.6 l/100 km (city), \\n, 4.3 l/100 km (country), \\n]       1\n",
       "[[7.6 l/100 km (comb)], [], []]                                                          1\n",
       "[[5.6 l/100 km (comb)], [7.6 l/100 km (city)], [4.4 l/100 km (country)]]                 1\n",
       "[\\n, 4.7 l/100 km (comb), \\n, \\n, \\n]                                                    1\n",
       "Name: Consumption, Length: 882, dtype: int64"
      ]
     },
     "execution_count": 56,
     "metadata": {},
     "output_type": "execute_result"
    }
   ],
   "source": [
    "autos['Consumption'].value_counts(dropna = False)"
   ]
  },
  {
   "cell_type": "markdown",
   "metadata": {},
   "source": [
    "When we check the pattern, we can see that there are three tpyes of value in Consumption variable which may effect the result. \n",
    " - one list and three sub list (comb,city,country),  ``[[3.8 l/100 km (comb)], [4.3 l/100 km (city)], [3.5 l/100 km (country)]]``  \n",
    " - one list and no sub list (comb,city,country), ``[\\n, 7.4 l/100 km (comb), \\n, 9.2 l/100 km (city), \\n, 6.3 l/100 km (country), \\n]``  \n",
    " - one list and three sub lists some of which are empty, ``[[], [4.6 l/100 km (city)], [5.7 l/100 km (country)]]`` or ``[[4.2 l/100 km (comb)], [], []]`` or `[[], [], [5.1 l/100 km (country)]]`"
   ]
  },
  {
   "cell_type": "code",
   "execution_count": 57,
   "metadata": {},
   "outputs": [
    {
     "data": {
      "text/plain": [
       "NaN                       1906\n",
       "\\n                         850\n",
       "[3.9 l/100 km (comb)]      732\n",
       "[4 l/100 km (comb)]        712\n",
       "[5.4 l/100 km (comb)]      662\n",
       "[5.1 l/100 km (comb)]      627\n",
       "[4.4 l/100 km (comb)]      595\n",
       "[3.8 l/100 km (comb)]      585\n",
       "[5.6 l/100 km (comb)]      568\n",
       "[4.7 l/100 km (comb)]      555\n",
       "[4.8 l/100 km (comb)]      523\n",
       "[5 l/100 km (comb)]        513\n",
       "[4.5 l/100 km (comb)]      511\n",
       "[5.2 l/100 km (comb)]      429\n",
       "[4.6 l/100 km (comb)]      420\n",
       "[4.2 l/100 km (comb)]      408\n",
       "[5.3 l/100 km (comb)]      374\n",
       "[3.7 l/100 km (comb)]      369\n",
       "[4.9 l/100 km (comb)]      348\n",
       "[5.5 l/100 km (comb)]      342\n",
       "[4.1 l/100 km (comb)]      341\n",
       "[5.9 l/100 km (comb)]      308\n",
       "[5.7 l/100 km (comb)]      302\n",
       "[3.3 l/100 km (comb)]      298\n",
       "[4.3 l/100 km (comb)]      295\n",
       "[3.5 l/100 km (comb)]      285\n",
       "[6 l/100 km (comb)]        278\n",
       "[3.6 l/100 km (comb)]      193\n",
       "[6.2 l/100 km (comb)]      184\n",
       "[5.8 l/100 km (comb)]      142\n",
       "[6.3 l/100 km (comb)]      141\n",
       "[6.1 l/100 km (comb)]      135\n",
       "[6.8 l/100 km (comb)]      134\n",
       "[]                         127\n",
       "[6.6 l/100 km (comb)]      119\n",
       "[3.4 l/100 km (comb)]       94\n",
       "[3 l/100 km (comb)]         69\n",
       "[6.4 l/100 km (comb)]       64\n",
       "[7.4 l/100 km (comb)]       62\n",
       "[7.1 l/100 km (comb)]       38\n",
       "[6.5 l/100 km (comb)]       36\n",
       "[10 l/100 km (comb)]        34\n",
       "[6.7 l/100 km (comb)]       33\n",
       "[3.2 l/100 km (comb)]       25\n",
       "[6.9 l/100 km (comb)]       21\n",
       "[8.3 l/100 km (comb)]       19\n",
       "[7.6 l/100 km (comb)]       14\n",
       "[3.4 kg/100 km (comb)]      12\n",
       "[3.3 kg/100 km (comb)]       9\n",
       "[7 l/100 km (comb)]          9\n",
       "Name: Consumption, dtype: int64"
      ]
     },
     "execution_count": 57,
     "metadata": {},
     "output_type": "execute_result"
    }
   ],
   "source": [
    "autos['Consumption'].str[0].value_counts(dropna = False).head(50)"
   ]
  },
  {
   "cell_type": "markdown",
   "metadata": {},
   "source": [
    "- There are 1906 ``NaN``s.\n",
    "- There are 850 values in which only 'one' list. The value of ``\"\\n\"`` indicates that.\n",
    "- There are 127  ``'[]'``values which means there is no ``comb`` consumption. "
   ]
  },
  {
   "cell_type": "code",
   "execution_count": 58,
   "metadata": {},
   "outputs": [
    {
     "data": {
      "text/plain": [
       "NaN    2883\n",
       "3.9     732\n",
       "4       716\n",
       "5.4     663\n",
       "5.1     630\n",
       "4.4     595\n",
       "3.8     585\n",
       "5.6     568\n",
       "4.7     555\n",
       "4.8     523\n",
       "5       520\n",
       "4.5     511\n",
       "5.2     429\n",
       "4.6     420\n",
       "4.2     408\n",
       "5.3     375\n",
       "3.7     369\n",
       "4.9     348\n",
       "5.5     342\n",
       "4.1     341\n",
       "5.9     308\n",
       "3.3     307\n",
       "5.7     302\n",
       "4.3     295\n",
       "3.5     288\n",
       "6       278\n",
       "3.6     194\n",
       "6.2     184\n",
       "5.8     142\n",
       "6.3     141\n",
       "6.1     135\n",
       "6.8     134\n",
       "6.6     119\n",
       "3.4     106\n",
       "3        73\n",
       "6.4      64\n",
       "7.4      62\n",
       "7.1      38\n",
       "1        37\n",
       "6.5      36\n",
       "6.7      33\n",
       "3.2      25\n",
       "6.9      21\n",
       "8.3      20\n",
       "7.6      14\n",
       "7         9\n",
       "3.1       7\n",
       "7.2       6\n",
       "7.8       6\n",
       "8         5\n",
       "8.7       3\n",
       "8.6       3\n",
       "7.3       2\n",
       "7.9       2\n",
       "8.1       2\n",
       "0         2\n",
       "9.1       1\n",
       "1.2       1\n",
       "7.5       1\n",
       "Name: consumption_comb, dtype: int64"
      ]
     },
     "execution_count": 58,
     "metadata": {},
     "output_type": "execute_result"
    }
   ],
   "source": [
    "autos[\"consumption_comb\"] = autos.Consumption.str[0].str[0].str.extract(\"(\\d.\\d|\\d)\")\n",
    "autos[\"consumption_comb\"].value_counts(dropna = False)"
   ]
  },
  {
   "cell_type": "code",
   "execution_count": 59,
   "metadata": {},
   "outputs": [
    {
     "data": {
      "text/plain": [
       "NaN                      1906\n",
       "[5 l/100 km (city)]       642\n",
       "[5.8 l/100 km (city)]     597\n",
       "[4.5 l/100 km (city)]     577\n",
       "[]                        516\n",
       "[4.3 l/100 km (city)]     512\n",
       "[5.1 l/100 km (city)]     470\n",
       "[6.8 l/100 km (city)]     442\n",
       "[4.6 l/100 km (city)]     417\n",
       "[7.2 l/100 km (city)]     397\n",
       "[5.7 l/100 km (city)]     365\n",
       "[7.3 l/100 km (city)]     354\n",
       "[4.2 l/100 km (city)]     353\n",
       "[5.9 l/100 km (city)]     344\n",
       "[7.8 l/100 km (city)]     341\n",
       "[6.6 l/100 km (city)]     337\n",
       "[5.2 l/100 km (city)]     333\n",
       "[4.1 l/100 km (city)]     320\n",
       "[6.3 l/100 km (city)]     317\n",
       "[4 l/100 km (city)]       300\n",
       "[5.4 l/100 km (city)]     289\n",
       "[4.7 l/100 km (city)]     288\n",
       "[6.7 l/100 km (city)]     286\n",
       "[3.9 l/100 km (city)]     245\n",
       "[6 l/100 km (city)]       239\n",
       "[3.5 l/100 km (city)]     230\n",
       "[7.6 l/100 km (city)]     227\n",
       "[7.1 l/100 km (city)]     221\n",
       "[7.5 l/100 km (city)]     217\n",
       "[6.9 l/100 km (city)]     215\n",
       "[5.5 l/100 km (city)]     207\n",
       "[6.2 l/100 km (city)]     185\n",
       "[7 l/100 km (city)]       184\n",
       "[7.4 l/100 km (city)]     170\n",
       "[7.7 l/100 km (city)]     165\n",
       "[6.5 l/100 km (city)]     161\n",
       "[8.7 l/100 km (city)]     158\n",
       "[6.1 l/100 km (city)]     151\n",
       "[4.4 l/100 km (city)]     135\n",
       "[8.2 l/100 km (city)]     118\n",
       "5.4 l/100 km (comb)       107\n",
       "[8 l/100 km (city)]       101\n",
       "[6.4 l/100 km (city)]     101\n",
       "[5.3 l/100 km (city)]     101\n",
       "[5.6 l/100 km (city)]     100\n",
       "[7.9 l/100 km (city)]      77\n",
       "[4.8 l/100 km (city)]      72\n",
       "5.9 l/100 km (comb)        61\n",
       "[4.9 l/100 km (city)]      58\n",
       "[3.7 l/100 km (city)]      53\n",
       "Name: Consumption, dtype: int64"
      ]
     },
     "execution_count": 59,
     "metadata": {},
     "output_type": "execute_result"
    }
   ],
   "source": [
    "autos['Consumption'].str[1].value_counts(dropna = False).head(50)"
   ]
  },
  {
   "cell_type": "code",
   "execution_count": 60,
   "metadata": {},
   "outputs": [
    {
     "data": {
      "text/plain": [
       "850"
      ]
     },
     "execution_count": 60,
     "metadata": {},
     "output_type": "execute_result"
    }
   ],
   "source": [
    "consmp_city = autos.Consumption.str[1].str.extract(\"(\\d.\\d|\\d)\")\n",
    "consmp_city[0].value_counts().sum()"
   ]
  },
  {
   "cell_type": "code",
   "execution_count": 61,
   "metadata": {},
   "outputs": [
    {
     "data": {
      "text/plain": [
       "NaN    2033\n",
       "5.4     770\n",
       "3.9     733\n",
       "4       717\n",
       "5.1     657\n",
       "4.4     623\n",
       "5.6     618\n",
       "4.7     602\n",
       "3.8     585\n",
       "5       552\n",
       "4.8     546\n",
       "4.5     523\n",
       "5.2     454\n",
       "4.2     435\n",
       "4.6     426\n",
       "4.9     393\n",
       "5.5     380\n",
       "5.3     380\n",
       "5.9     369\n",
       "3.7     369\n",
       "5.7     342\n",
       "4.1     342\n",
       "6       331\n",
       "3.3     307\n",
       "4.3     307\n",
       "3.5     288\n",
       "6.2     216\n",
       "3.6     194\n",
       "6.3     181\n",
       "6.1     175\n",
       "5.8     164\n",
       "6.6     148\n",
       "6.8     136\n",
       "3.4     106\n",
       "6.4      75\n",
       "3        73\n",
       "7.4      66\n",
       "6.7      43\n",
       "6.5      43\n",
       "7.1      38\n",
       "1        37\n",
       "6.9      27\n",
       "3.2      25\n",
       "8.3      20\n",
       "7.6      14\n",
       "7        10\n",
       "3.1       7\n",
       "7.2       6\n",
       "7.8       6\n",
       "8         5\n",
       "8.6       4\n",
       "7.9       3\n",
       "1.6       3\n",
       "8.7       3\n",
       "8.1       2\n",
       "7.3       2\n",
       "0         2\n",
       "1.2       1\n",
       "9.1       1\n",
       "7.5       1\n",
       "Name: consumption_comb, dtype: int64"
      ]
     },
     "execution_count": 61,
     "metadata": {},
     "output_type": "execute_result"
    }
   ],
   "source": [
    "autos[\"consumption_comb\"].fillna(consmp_city[0], inplace = True)\n",
    "autos[\"consumption_comb\"].value_counts(dropna = False)"
   ]
  },
  {
   "cell_type": "code",
   "execution_count": 62,
   "metadata": {},
   "outputs": [
    {
     "data": {
      "text/plain": [
       "NaN                        2362\n",
       "4.2 l/100 km (country)     1101\n",
       "3.7 l/100 km (country)     1059\n",
       "\\n                          850\n",
       "4.4 l/100 km (country)      829\n",
       "4.5 l/100 km (country)      788\n",
       "3.8 l/100 km (country)      775\n",
       "3.9 l/100 km (country)      759\n",
       "4.1 l/100 km (country)      569\n",
       "4.7 l/100 km (country)      559\n",
       "4 l/100 km (country)        555\n",
       "3.5 l/100 km (country)      525\n",
       "4.3 l/100 km (country)      496\n",
       "3.6 l/100 km (country)      486\n",
       "3.1 l/100 km (country)      481\n",
       "3.3 l/100 km (country)      456\n",
       "4.6 l/100 km (country)      445\n",
       "4.9 l/100 km (country)      410\n",
       "3.4 l/100 km (country)      353\n",
       "4.8 l/100 km (country)      289\n",
       "5.3 l/100 km (country)      227\n",
       "5.1 l/100 km (country)      215\n",
       "5.7 l/100 km (country)      191\n",
       "5.4 l/100 km (country)      190\n",
       "3.2 l/100 km (country)      180\n",
       "3 l/100 km (country)        141\n",
       "5.6 l/100 km (country)      131\n",
       "5 l/100 km (country)        106\n",
       "5.2 l/100 km (country)       84\n",
       "6.3 l/100 km (country)       49\n",
       "6 l/100 km (country)         35\n",
       "10 l/100 km (country)        32\n",
       "5.5 l/100 km (country)       30\n",
       "5.8 l/100 km (country)       30\n",
       "7.7 l/100 km (country)       20\n",
       "6.6 l/100 km (country)       19\n",
       "2.9 kg/100 km (country)      15\n",
       "6.4 l/100 km (country)       15\n",
       "0 l/100 km (country)          9\n",
       "2.8 kg/100 km (country)       9\n",
       "44 l/100 km (country)         4\n",
       "7.3 l/100 km (country)        4\n",
       "6.5 l/100 km (country)        4\n",
       "7.1 l/100 km (country)        3\n",
       "4.7 kg/100 km (country)       3\n",
       "5.9 l/100 km (country)        2\n",
       "7 l/100 km (country)          2\n",
       "35 l/100 km (country)         2\n",
       "7.8 l/100 km (country)        2\n",
       "6.7 l/100 km (country)        2\n",
       "Name: Consumption, dtype: int64"
      ]
     },
     "execution_count": 62,
     "metadata": {},
     "output_type": "execute_result"
    }
   ],
   "source": [
    "autos[\"Consumption\"].str[2].str[0].value_counts(dropna = False).head(50)"
   ]
  },
  {
   "cell_type": "code",
   "execution_count": 63,
   "metadata": {},
   "outputs": [
    {
     "data": {
      "text/plain": [
       "0        3.5\n",
       "1        4.7\n",
       "2        3.4\n",
       "3        3.5\n",
       "4        3.8\n",
       "        ... \n",
       "15914    4.7\n",
       "15915    NaN\n",
       "15916    4.7\n",
       "15917    4.7\n",
       "15918    5.7\n",
       "Name: 0, Length: 15919, dtype: float64"
      ]
     },
     "execution_count": 63,
     "metadata": {},
     "output_type": "execute_result"
    }
   ],
   "source": [
    "consmp_country = autos.Consumption.str[2].str[0].str.extract(\"(\\d.\\d|\\d)\")\n",
    "consmp_country = pd.to_numeric(consmp_country[0])\n",
    "consmp_country"
   ]
  },
  {
   "cell_type": "code",
   "execution_count": 64,
   "metadata": {},
   "outputs": [
    {
     "data": {
      "text/plain": [
       "0        NaN\n",
       "1        NaN\n",
       "2        NaN\n",
       "3        NaN\n",
       "4        NaN\n",
       "        ... \n",
       "15914    NaN\n",
       "15915    7.4\n",
       "15916    NaN\n",
       "15917    NaN\n",
       "15918    NaN\n",
       "Name: 0, Length: 15919, dtype: float64"
      ]
     },
     "execution_count": 64,
     "metadata": {},
     "output_type": "execute_result"
    }
   ],
   "source": [
    "consmp_city = pd.to_numeric(consmp_city[0])\n",
    "consmp_city"
   ]
  },
  {
   "cell_type": "code",
   "execution_count": 65,
   "metadata": {},
   "outputs": [],
   "source": [
    "consumption_avg = (consmp_city + consmp_country) / 2"
   ]
  },
  {
   "cell_type": "code",
   "execution_count": 66,
   "metadata": {},
   "outputs": [],
   "source": [
    "autos['consumption_comb'].fillna(consumption_avg, inplace = True)"
   ]
  },
  {
   "cell_type": "code",
   "execution_count": 67,
   "metadata": {},
   "outputs": [
    {
     "data": {
      "text/plain": [
       "NaN    2033\n",
       "5.4     770\n",
       "3.9     733\n",
       "4       717\n",
       "5.1     657\n",
       "4.4     623\n",
       "5.6     618\n",
       "4.7     602\n",
       "3.8     585\n",
       "5       552\n",
       "4.8     546\n",
       "4.5     523\n",
       "5.2     454\n",
       "4.2     435\n",
       "4.6     426\n",
       "4.9     393\n",
       "5.5     380\n",
       "5.3     380\n",
       "5.9     369\n",
       "3.7     369\n",
       "5.7     342\n",
       "4.1     342\n",
       "6       331\n",
       "3.3     307\n",
       "4.3     307\n",
       "3.5     288\n",
       "6.2     216\n",
       "3.6     194\n",
       "6.3     181\n",
       "6.1     175\n",
       "5.8     164\n",
       "6.6     148\n",
       "6.8     136\n",
       "3.4     106\n",
       "6.4      75\n",
       "3        73\n",
       "7.4      66\n",
       "6.7      43\n",
       "6.5      43\n",
       "7.1      38\n",
       "1        37\n",
       "6.9      27\n",
       "3.2      25\n",
       "8.3      20\n",
       "7.6      14\n",
       "7        10\n",
       "3.1       7\n",
       "7.2       6\n",
       "7.8       6\n",
       "8         5\n",
       "8.6       4\n",
       "7.9       3\n",
       "1.6       3\n",
       "8.7       3\n",
       "8.1       2\n",
       "7.3       2\n",
       "0         2\n",
       "1.2       1\n",
       "9.1       1\n",
       "7.5       1\n",
       "Name: consumption_comb, dtype: int64"
      ]
     },
     "execution_count": 67,
     "metadata": {},
     "output_type": "execute_result"
    }
   ],
   "source": [
    "autos[\"consumption_comb\"].value_counts(dropna = False)"
   ]
  },
  {
   "cell_type": "code",
   "execution_count": 68,
   "metadata": {},
   "outputs": [
    {
     "data": {
      "text/plain": [
       "5.4    1154\n",
       "4      1061\n",
       "4.4     808\n",
       "4.7     781\n",
       "5.7     753\n",
       "3.9     733\n",
       "5.2     701\n",
       "5.1     657\n",
       "5.6     618\n",
       "3.3     589\n",
       "3.8     585\n",
       "5       552\n",
       "4.8     546\n",
       "4.5     523\n",
       "4.2     435\n",
       "4.6     426\n",
       "4.9     393\n",
       "5.3     380\n",
       "5.5     380\n",
       "5.9     369\n",
       "3.7     369\n",
       "4.1     342\n",
       "6       331\n",
       "4.3     307\n",
       "3.5     288\n",
       "6.2     216\n",
       "3.6     194\n",
       "6.3     181\n",
       "6.1     175\n",
       "5.8     164\n",
       "6.6     148\n",
       "6.8     136\n",
       "3.4     106\n",
       "6.4      75\n",
       "3        73\n",
       "7.4      66\n",
       "6.5      43\n",
       "6.7      43\n",
       "7.1      38\n",
       "1        38\n",
       "6.9      27\n",
       "3.2      25\n",
       "8.3      20\n",
       "7.6      14\n",
       "7        10\n",
       "3.1       7\n",
       "7.8       6\n",
       "7.2       6\n",
       "8         5\n",
       "8.6       4\n",
       "1.6       3\n",
       "7.9       3\n",
       "8.7       3\n",
       "0         2\n",
       "8.1       2\n",
       "7.3       2\n",
       "9.1       1\n",
       "1.2       1\n",
       "7.5       1\n",
       "Name: consumption_comb, dtype: int64"
      ]
     },
     "execution_count": 68,
     "metadata": {},
     "output_type": "execute_result"
    }
   ],
   "source": [
    "fill_by_group(autos, 'make_model', 'consumption_comb')\n",
    "autos[\"consumption_comb\"].value_counts(dropna = False)"
   ]
  },
  {
   "cell_type": "code",
   "execution_count": 69,
   "metadata": {},
   "outputs": [],
   "source": [
    "autos.drop('Consumption', axis = 1, inplace = True)"
   ]
  },
  {
   "cell_type": "markdown",
   "metadata": {},
   "source": [
    "### Gearing Type"
   ]
  },
  {
   "cell_type": "code",
   "execution_count": 70,
   "metadata": {},
   "outputs": [
    {
     "data": {
      "text/plain": [
       "[\\n, Manual, \\n]            8153\n",
       "[\\n, Automatic, \\n]         7297\n",
       "[\\n, Semi-automatic, \\n]     469\n",
       "Name: Gearing Type, dtype: int64"
      ]
     },
     "execution_count": 70,
     "metadata": {},
     "output_type": "execute_result"
    }
   ],
   "source": [
    "autos[\"Gearing Type\"].value_counts(dropna = False)"
   ]
  },
  {
   "cell_type": "code",
   "execution_count": 71,
   "metadata": {},
   "outputs": [
    {
     "data": {
      "text/plain": [
       "Manual            8153\n",
       "Automatic         7297\n",
       "Semi-automatic     469\n",
       "Name: gear_type, dtype: int64"
      ]
     },
     "execution_count": 71,
     "metadata": {},
     "output_type": "execute_result"
    }
   ],
   "source": [
    "autos[\"gear_type\"] = autos['Gearing Type'].str[1]\n",
    "autos[\"gear_type\"].value_counts(dropna = False)"
   ]
  },
  {
   "cell_type": "code",
   "execution_count": 72,
   "metadata": {},
   "outputs": [],
   "source": [
    "autos.drop('Gearing Type', axis = 1, inplace = True)"
   ]
  },
  {
   "cell_type": "code",
   "execution_count": 73,
   "metadata": {},
   "outputs": [],
   "source": [
    "autos = autos.join(autos[\"gear_type\"].str.get_dummies().add_prefix('GT_'))"
   ]
  },
  {
   "cell_type": "code",
   "execution_count": 74,
   "metadata": {},
   "outputs": [],
   "source": [
    "autos.drop('gear_type', axis = 1, inplace = True)"
   ]
  },
  {
   "cell_type": "markdown",
   "metadata": {},
   "source": [
    "### Drive Chain"
   ]
  },
  {
   "cell_type": "code",
   "execution_count": 75,
   "metadata": {},
   "outputs": [
    {
     "data": {
      "text/plain": [
       "[\\nfront\\n]    8886\n",
       "NaN            6858\n",
       "[\\n4WD\\n]       171\n",
       "[\\nrear\\n]        4\n",
       "Name: Drive chain, dtype: int64"
      ]
     },
     "execution_count": 75,
     "metadata": {},
     "output_type": "execute_result"
    }
   ],
   "source": [
    "autos[\"Drive chain\"].value_counts(dropna = False)"
   ]
  },
  {
   "cell_type": "code",
   "execution_count": 76,
   "metadata": {},
   "outputs": [
    {
     "data": {
      "text/plain": [
       "front    8886\n",
       "NaN      6858\n",
       "4WD       171\n",
       "rear        4\n",
       "Name: drive_chain, dtype: int64"
      ]
     },
     "execution_count": 76,
     "metadata": {},
     "output_type": "execute_result"
    }
   ],
   "source": [
    "autos[\"drive_chain\"] = autos[\"Drive chain\"].str[0].str.strip(\"\\n\")\n",
    "autos[\"drive_chain\"].value_counts(dropna = False)"
   ]
  },
  {
   "cell_type": "code",
   "execution_count": 77,
   "metadata": {},
   "outputs": [
    {
     "data": {
      "text/plain": [
       "front    15712\n",
       "4WD        203\n",
       "rear         4\n",
       "Name: drive_chain, dtype: int64"
      ]
     },
     "execution_count": 77,
     "metadata": {},
     "output_type": "execute_result"
    }
   ],
   "source": [
    "fill_by_group(autos, 'make_model', 'drive_chain')\n",
    "autos[\"drive_chain\"].value_counts(dropna = False)"
   ]
  },
  {
   "cell_type": "code",
   "execution_count": 78,
   "metadata": {},
   "outputs": [],
   "source": [
    "autos.drop('Drive chain', axis = 1, inplace = True)"
   ]
  },
  {
   "cell_type": "code",
   "execution_count": 79,
   "metadata": {},
   "outputs": [],
   "source": [
    "autos = autos.join(autos[\"drive_chain\"].str.get_dummies().add_prefix('DC_'))"
   ]
  },
  {
   "cell_type": "code",
   "execution_count": 80,
   "metadata": {},
   "outputs": [],
   "source": [
    "autos.drop('drive_chain', axis = 1, inplace = True)"
   ]
  },
  {
   "cell_type": "markdown",
   "metadata": {},
   "source": [
    "### Body Color"
   ]
  },
  {
   "cell_type": "code",
   "execution_count": 81,
   "metadata": {},
   "outputs": [
    {
     "data": {
      "text/plain": [
       "[\\n, Black, \\n]     3745\n",
       "[\\n, Grey, \\n]      3505\n",
       "[\\n, White, \\n]     3406\n",
       "[\\n, Silver, \\n]    1647\n",
       "[\\n, Blue, \\n]      1431\n",
       "[\\n, Red, \\n]        957\n",
       "NaN                  597\n",
       "[\\n, Brown, \\n]      289\n",
       "[\\n, Green, \\n]      154\n",
       "[\\n, Beige, \\n]      108\n",
       "[\\n, Yellow, \\n]      51\n",
       "[\\n, Violet, \\n]      18\n",
       "[\\n, Bronze, \\n]       6\n",
       "[\\n, Orange, \\n]       3\n",
       "[\\n, Gold, \\n]         2\n",
       "Name: Body Color, dtype: int64"
      ]
     },
     "execution_count": 81,
     "metadata": {},
     "output_type": "execute_result"
    }
   ],
   "source": [
    "autos[\"Body Color\"].value_counts(dropna = False)"
   ]
  },
  {
   "cell_type": "code",
   "execution_count": 82,
   "metadata": {},
   "outputs": [
    {
     "data": {
      "text/plain": [
       "Black     3745\n",
       "Grey      3505\n",
       "White     3406\n",
       "Silver    1647\n",
       "Blue      1431\n",
       "Red        957\n",
       "NaN        597\n",
       "Brown      289\n",
       "Green      154\n",
       "Beige      108\n",
       "Yellow      51\n",
       "Violet      18\n",
       "Bronze       6\n",
       "Orange       3\n",
       "Gold         2\n",
       "Name: body_color, dtype: int64"
      ]
     },
     "execution_count": 82,
     "metadata": {},
     "output_type": "execute_result"
    }
   ],
   "source": [
    "autos['body_color'] = autos['Body Color'].str[1].str.strip()\n",
    "autos[\"body_color\"].value_counts(dropna = False)"
   ]
  },
  {
   "cell_type": "code",
   "execution_count": 83,
   "metadata": {},
   "outputs": [
    {
     "data": {
      "text/plain": [
       "Black     3888\n",
       "Grey      3638\n",
       "White     3540\n",
       "Silver    1687\n",
       "Blue      1524\n",
       "Red        989\n",
       "Brown      299\n",
       "Green      163\n",
       "Beige      108\n",
       "Yellow      53\n",
       "Violet      18\n",
       "Bronze       7\n",
       "Orange       3\n",
       "Gold         2\n",
       "Name: body_color, dtype: int64"
      ]
     },
     "execution_count": 83,
     "metadata": {},
     "output_type": "execute_result"
    }
   ],
   "source": [
    "autos[\"body_color\"].fillna(method = \"bfill\", inplace = True)\n",
    "autos[\"body_color\"].value_counts(dropna = False)"
   ]
  },
  {
   "cell_type": "code",
   "execution_count": 84,
   "metadata": {},
   "outputs": [],
   "source": [
    "autos = autos.join(autos[\"body_color\"].str.get_dummies().add_prefix('BC_'))"
   ]
  },
  {
   "cell_type": "code",
   "execution_count": 85,
   "metadata": {},
   "outputs": [
    {
     "data": {
      "text/plain": [
       "NaN                             3759\n",
       "[\\nOnyx Schwarz\\n]               338\n",
       "[\\nBianco\\n]                     282\n",
       "[\\nMythosschwarz Metallic\\n]     238\n",
       "[\\nBrillantschwarz\\n]            216\n",
       "                                ... \n",
       "[\\nBianca - Tetto Nero\\n]          1\n",
       "[\\ndezir rot\\n]                    1\n",
       "[\\nnero/tetto argento met\\n]       1\n",
       "[\\nPython Yellow Metallic\\n]       1\n",
       "[\\nkarbongrau\\n]                   1\n",
       "Name: Body Color Original, Length: 1928, dtype: int64"
      ]
     },
     "execution_count": 85,
     "metadata": {},
     "output_type": "execute_result"
    }
   ],
   "source": [
    "autos[\"Body Color Original\"].value_counts(dropna = False)"
   ]
  },
  {
   "cell_type": "code",
   "execution_count": 86,
   "metadata": {},
   "outputs": [],
   "source": [
    "autos.drop(\"Body Color Original\", axis = 1, inplace = True)"
   ]
  },
  {
   "cell_type": "code",
   "execution_count": 87,
   "metadata": {},
   "outputs": [],
   "source": [
    "autos.drop(\"Body Color\", axis = 1, inplace = True)\n",
    "autos.drop(\"body_color\", axis = 1, inplace = True)"
   ]
  },
  {
   "cell_type": "markdown",
   "metadata": {},
   "source": [
    "### Paint Type"
   ]
  },
  {
   "cell_type": "code",
   "execution_count": 88,
   "metadata": {},
   "outputs": [
    {
     "data": {
      "text/plain": [
       "[\\nMetallic\\n]       9794\n",
       "NaN                  5772\n",
       "[\\nUni/basic\\n]       347\n",
       "[\\nPerl effect\\n]       6\n",
       "Name: Paint Type, dtype: int64"
      ]
     },
     "execution_count": 88,
     "metadata": {},
     "output_type": "execute_result"
    }
   ],
   "source": [
    "autos[\"Paint Type\"].value_counts(dropna = False)"
   ]
  },
  {
   "cell_type": "code",
   "execution_count": 89,
   "metadata": {},
   "outputs": [
    {
     "data": {
      "text/plain": [
       "Metallic       9794\n",
       "Uni/basic       347\n",
       "Perl effect       6\n",
       "Name: Paint Type, dtype: int64"
      ]
     },
     "execution_count": 89,
     "metadata": {},
     "output_type": "execute_result"
    }
   ],
   "source": [
    "autos[\"Paint Type\"].str[0].str.strip('\\n').value_counts()"
   ]
  },
  {
   "cell_type": "code",
   "execution_count": 90,
   "metadata": {},
   "outputs": [],
   "source": [
    "autos[\"paint_type\"] = autos[\"Paint Type\"].str[0].str.strip('\\n')"
   ]
  },
  {
   "cell_type": "code",
   "execution_count": 91,
   "metadata": {},
   "outputs": [
    {
     "data": {
      "text/plain": [
       "Metallic       15549\n",
       "Uni/basic        364\n",
       "Perl effect        6\n",
       "Name: paint_type, dtype: int64"
      ]
     },
     "execution_count": 91,
     "metadata": {},
     "output_type": "execute_result"
    }
   ],
   "source": [
    "fill_by_group(autos, 'make_model', 'paint_type')\n",
    "autos[\"paint_type\"].value_counts(dropna = False)"
   ]
  },
  {
   "cell_type": "code",
   "execution_count": 92,
   "metadata": {},
   "outputs": [],
   "source": [
    "autos = autos.join(autos[\"paint_type\"].str.get_dummies().add_prefix('PT_'))"
   ]
  },
  {
   "cell_type": "code",
   "execution_count": 93,
   "metadata": {},
   "outputs": [],
   "source": [
    "autos.drop(\"Paint Type\", axis = 1, inplace = True)\n",
    "autos.drop(\"paint_type\", axis = 1, inplace = True)"
   ]
  },
  {
   "cell_type": "markdown",
   "metadata": {},
   "source": [
    "### C02 Emission"
   ]
  },
  {
   "cell_type": "code",
   "execution_count": 94,
   "metadata": {},
   "outputs": [
    {
     "data": {
      "text/plain": [
       "NaN                            1808\n",
       "[\\n120 g CO2/km (comb)\\n]       740\n",
       "[[], [], []]                    628\n",
       "[\\n99 g CO2/km (comb)\\n]        545\n",
       "[\\n97 g CO2/km (comb)\\n]        537\n",
       "                               ... \n",
       "[\\n193 g CO2/km (comb)\\n]         1\n",
       "[\\n171 g CO2/km (comb)\\n]         1\n",
       "[\\n990 g CO2/km (comb)\\n]         1\n",
       "[\\n1,060 g CO2/km (comb)\\n]       1\n",
       "[\\n183 g CO2/km (comb)\\n]         1\n",
       "Name: CO2 Emission, Length: 124, dtype: int64"
      ]
     },
     "execution_count": 94,
     "metadata": {},
     "output_type": "execute_result"
    }
   ],
   "source": [
    "autos[\"CO2 Emission\"].value_counts(dropna = False)"
   ]
  },
  {
   "cell_type": "code",
   "execution_count": 95,
   "metadata": {},
   "outputs": [
    {
     "data": {
      "text/plain": [
       "189 g CO2/km (comb)       19\n",
       "157 g CO2/km (comb)       18\n",
       "158 g CO2/km (comb)       17\n",
       "169 g CO2/km (comb)       15\n",
       "88 g CO2/km (comb)        15\n",
       "156 g CO2/km (comb)       14\n",
       "164 g CO2/km (comb)       13\n",
       "170 g CO2/km (comb)       10\n",
       "161 g CO2/km (comb)       10\n",
       "175 g CO2/km (comb)        8\n",
       "155 g CO2/km (comb)        8\n",
       "166 g CO2/km (comb)        8\n",
       "159 g CO2/km (comb)        7\n",
       "188 g CO2/km (comb)        7\n",
       "174 g CO2/km (comb)        6\n",
       "87 g CO2/km (comb)         6\n",
       "197 g CO2/km (comb)        4\n",
       "12,087 g CO2/km (comb)     3\n",
       "36 g CO2/km (comb)         3\n",
       "194 g CO2/km (comb)        3\n",
       "5 g CO2/km (comb)          3\n",
       "162 g CO2/km (comb)        2\n",
       "84 g CO2/km (comb)         2\n",
       "167 g CO2/km (comb)        2\n",
       "0 g CO2/km (comb)          2\n",
       "199 g CO2/km (comb)        2\n",
       "191 g CO2/km (comb)        2\n",
       "184 g CO2/km (comb)        1\n",
       "1 g CO2/km (comb)          1\n",
       "193 g CO2/km (comb)        1\n",
       "14,457 g CO2/km (comb)     1\n",
       "80 g CO2/km (comb)         1\n",
       "171 g CO2/km (comb)        1\n",
       "14 g CO2/km (comb)         1\n",
       "180 g CO2/km (comb)        1\n",
       "181 g CO2/km (comb)        1\n",
       "1,060 g CO2/km (comb)      1\n",
       "160 g CO2/km (comb)        1\n",
       "177 g CO2/km (comb)        1\n",
       "165 g CO2/km (comb)        1\n",
       "13,983 g CO2/km (comb)     1\n",
       "183 g CO2/km (comb)        1\n",
       "51 g CO2/km (comb)         1\n",
       "253 g CO2/km (comb)        1\n",
       "190 g CO2/km (comb)        1\n",
       "990 g CO2/km (comb)        1\n",
       "12,324 g CO2/km (comb)     1\n",
       "239 g CO2/km (comb)        1\n",
       "331 g CO2/km (comb)        1\n",
       "45 g CO2/km (comb)         1\n",
       "Name: CO2 Emission, dtype: int64"
      ]
     },
     "execution_count": 95,
     "metadata": {},
     "output_type": "execute_result"
    }
   ],
   "source": [
    "autos['CO2 Emission'].str[0].str.strip('\\n').value_counts(dropna = False).tail(50)"
   ]
  },
  {
   "cell_type": "code",
   "execution_count": 96,
   "metadata": {},
   "outputs": [
    {
     "data": {
      "text/plain": [
       "NaN                      2436\n",
       "120 g CO2/km (comb)       740\n",
       "99 g CO2/km (comb)        545\n",
       "97 g CO2/km (comb)        537\n",
       "104 g CO2/km (comb)       501\n",
       "                         ... \n",
       "190 g CO2/km (comb)         1\n",
       "239 g CO2/km (comb)         1\n",
       "177 g CO2/km (comb)         1\n",
       "165 g CO2/km (comb)         1\n",
       "12324 g CO2/km (comb)       1\n",
       "Name: CO2 Emission, Length: 123, dtype: int64"
      ]
     },
     "execution_count": 96,
     "metadata": {},
     "output_type": "execute_result"
    }
   ],
   "source": [
    "autos[\"CO2 Emission\"].str[0].str.strip(\"\\n\").str.replace(\",\", \"\").value_counts(dropna = False)"
   ]
  },
  {
   "cell_type": "code",
   "execution_count": 97,
   "metadata": {},
   "outputs": [],
   "source": [
    "autos[\"co2_emission\"] = autos['CO2 Emission'].str[0].str.strip('\\n').str.replace(\",\", \"\").str.extract(\"(\\d\\d\\d\\d\\d|\\d\\d\\d\\d|\\d\\d\\d|\\d\\d|\\d)\")"
   ]
  },
  {
   "cell_type": "code",
   "execution_count": 98,
   "metadata": {},
   "outputs": [
    {
     "data": {
      "text/plain": [
       "array(['99', '129', '109', '92', '98', '97', nan, '105', '112', '103',\n",
       "       '102', '95', '104', '91', '94', '117', '123', '106', '108', '121',\n",
       "       '107', '101', '113', '137', '100', '116', '114', '118', '331',\n",
       "       '115', '119', '90', '136', '134', '110', '111', '120', '89', '142',\n",
       "       '126', '122', '128', '127', '138', '130', '125', '85', '124',\n",
       "       '152', '88', '189', '194', '149', '153', '188', '36', '1060', '96',\n",
       "       '990', '146', '135', '158', '12087', '141', '172', '154', '150',\n",
       "       '167', '174', '93', '133', '131', '145', '147', '156', '87', '5',\n",
       "       '148', '139', '151', '144', '168', '160', '170', '80', '132',\n",
       "       '155', '14', '159', '0', '143', '140', '82', '12324', '84', '165',\n",
       "       '51', '157', '169', '166', '253', '164', '175', '190', '161',\n",
       "       '239', '197', '184', '14457', '199', '13983', '187', '181', '186',\n",
       "       '177', '180', '162', '45', '171', '183', '1', '191', '193'],\n",
       "      dtype=object)"
      ]
     },
     "execution_count": 98,
     "metadata": {},
     "output_type": "execute_result"
    }
   ],
   "source": [
    "autos[\"co2_emission\"].unique()"
   ]
  },
  {
   "cell_type": "code",
   "execution_count": 99,
   "metadata": {},
   "outputs": [],
   "source": [
    "autos[\"co2_emission\"].fillna(autos[\"co2_emission\"].median(), inplace = True)"
   ]
  },
  {
   "cell_type": "code",
   "execution_count": 100,
   "metadata": {},
   "outputs": [
    {
     "data": {
      "text/plain": [
       "116.0    2436\n",
       "120       740\n",
       "99        545\n",
       "97        537\n",
       "104       501\n",
       "         ... \n",
       "14          1\n",
       "171         1\n",
       "80          1\n",
       "193         1\n",
       "180         1\n",
       "Name: co2_emission, Length: 123, dtype: int64"
      ]
     },
     "execution_count": 100,
     "metadata": {},
     "output_type": "execute_result"
    }
   ],
   "source": [
    "autos[\"co2_emission\"].value_counts(dropna=False)"
   ]
  },
  {
   "cell_type": "code",
   "execution_count": 101,
   "metadata": {},
   "outputs": [],
   "source": [
    "autos.drop(\"CO2 Emission\", axis = 1, inplace = True)"
   ]
  },
  {
   "cell_type": "markdown",
   "metadata": {},
   "source": [
    "### First Registration"
   ]
  },
  {
   "cell_type": "code",
   "execution_count": 102,
   "metadata": {},
   "outputs": [
    {
     "data": {
      "text/plain": [
       "[\\n, 2018, \\n]    4522\n",
       "[\\n, 2016, \\n]    3674\n",
       "[\\n, 2017, \\n]    3273\n",
       "[\\n, 2019, \\n]    2853\n",
       "NaN               1597\n",
       "Name: First Registration, dtype: int64"
      ]
     },
     "execution_count": 102,
     "metadata": {},
     "output_type": "execute_result"
    }
   ],
   "source": [
    "autos['First Registration'].value_counts(dropna=False)"
   ]
  },
  {
   "cell_type": "code",
   "execution_count": 103,
   "metadata": {},
   "outputs": [
    {
     "data": {
      "text/plain": [
       "2018.0    4522\n",
       "2016.0    3674\n",
       "2017.0    3273\n",
       "2019.0    2853\n",
       "NaN       1597\n",
       "Name: register_year, dtype: int64"
      ]
     },
     "execution_count": 103,
     "metadata": {},
     "output_type": "execute_result"
    }
   ],
   "source": [
    "autos['register_year'] = pd.to_numeric(autos['First Registration'].str[1]) \n",
    "autos['register_year'].value_counts(dropna=False)"
   ]
  },
  {
   "cell_type": "code",
   "execution_count": 104,
   "metadata": {},
   "outputs": [
    {
     "data": {
      "text/plain": [
       "2.0    4522\n",
       "4.0    3674\n",
       "3.0    3273\n",
       "1.0    2853\n",
       "NaN    1597\n",
       "Name: auto_age, dtype: int64"
      ]
     },
     "execution_count": 104,
     "metadata": {},
     "output_type": "execute_result"
    }
   ],
   "source": [
    "autos['auto_age'] = 2020 - autos['register_year']\n",
    "autos['auto_age'].value_counts(dropna=False)"
   ]
  },
  {
   "cell_type": "code",
   "execution_count": 105,
   "metadata": {},
   "outputs": [
    {
     "data": {
      "text/plain": [
       "2.0    4522\n",
       "4.0    3674\n",
       "3.0    3273\n",
       "1.0    2853\n",
       "0.0    1597\n",
       "Name: auto_age, dtype: int64"
      ]
     },
     "execution_count": 105,
     "metadata": {},
     "output_type": "execute_result"
    }
   ],
   "source": [
    "autos['auto_age'].fillna(0, inplace = True)\n",
    "autos['auto_age'].value_counts(dropna=False)"
   ]
  },
  {
   "cell_type": "code",
   "execution_count": 106,
   "metadata": {},
   "outputs": [],
   "source": [
    "autos['auto_age'] = pd.to_numeric(autos['auto_age'])"
   ]
  },
  {
   "cell_type": "code",
   "execution_count": 107,
   "metadata": {},
   "outputs": [],
   "source": [
    "autos.drop([\"First Registration\", \"register_year\"], axis = 1, inplace = True)"
   ]
  },
  {
   "cell_type": "markdown",
   "metadata": {},
   "source": [
    "### km"
   ]
  },
  {
   "cell_type": "code",
   "execution_count": 108,
   "metadata": {},
   "outputs": [
    {
     "data": {
      "text/plain": [
       "10 km         1045\n",
       "- km          1024\n",
       "1 km           367\n",
       "5 km           170\n",
       "50 km          148\n",
       "              ... \n",
       "98,097 km        1\n",
       "22,146 km        1\n",
       "73,999 km        1\n",
       "167,255 km       1\n",
       "24,772 km        1\n",
       "Name: km, Length: 6690, dtype: int64"
      ]
     },
     "execution_count": 108,
     "metadata": {},
     "output_type": "execute_result"
    }
   ],
   "source": [
    "autos[\"km\"].value_counts(dropna = False)"
   ]
  },
  {
   "cell_type": "code",
   "execution_count": 109,
   "metadata": {},
   "outputs": [
    {
     "data": {
      "text/plain": [
       "10        1045\n",
       "NaN       1024\n",
       "1          367\n",
       "5          170\n",
       "50         148\n",
       "          ... \n",
       "48403        1\n",
       "19799        1\n",
       "24870        1\n",
       "169383       1\n",
       "34773        1\n",
       "Name: km, Length: 6690, dtype: int64"
      ]
     },
     "execution_count": 109,
     "metadata": {},
     "output_type": "execute_result"
    }
   ],
   "source": [
    "autos.replace({\"km\" : {\" km\" : \"\", \",\" : \"\", \"-\" : np.nan}}, regex = True, inplace = True)\n",
    "autos[\"km\"].value_counts(dropna = False)"
   ]
  },
  {
   "cell_type": "code",
   "execution_count": 110,
   "metadata": {},
   "outputs": [],
   "source": [
    "autos[\"km\"]= pd.to_numeric(autos[\"km\"])"
   ]
  },
  {
   "cell_type": "code",
   "execution_count": 111,
   "metadata": {},
   "outputs": [
    {
     "data": {
      "text/plain": [
       "10.000000       1045\n",
       "934.496706       838\n",
       "1.000000         367\n",
       "5.000000         170\n",
       "50.000000        148\n",
       "                ... \n",
       "24391.000000       1\n",
       "267.000000         1\n",
       "1060.000000        1\n",
       "18016.000000       1\n",
       "15577.000000       1\n",
       "Name: km, Length: 6693, dtype: int64"
      ]
     },
     "execution_count": 111,
     "metadata": {},
     "output_type": "execute_result"
    }
   ],
   "source": [
    "autos['km'] = autos['km'].fillna(autos.groupby('auto_age')['km'].transform('mean'))\n",
    "autos[\"km\"].value_counts(dropna = False)"
   ]
  },
  {
   "cell_type": "markdown",
   "metadata": {},
   "source": [
    "### Warranty"
   ]
  },
  {
   "cell_type": "code",
   "execution_count": 112,
   "metadata": {},
   "outputs": [
    {
     "data": {
      "text/plain": [
       "NaN                                                                                                  5420\n",
       "[\\n, \\n, \\nEuro 6\\n]                                                                                 1868\n",
       "\\n12 months\\n                                                                                        1177\n",
       "\\n                                                                                                    979\n",
       "\\n24 months\\n                                                                                         566\n",
       "                                                                                                     ... \n",
       "[\\n48 months\\n, \\n98 g CO2/km (comb)\\n]                                                                 1\n",
       "[\\n60 months\\n, \\n153 g CO2/km (comb)\\n]                                                                1\n",
       "[\\n3 months\\n]                                                                                          1\n",
       "[\\n12 months\\n, \\n170 g CO2/km (comb)\\n]                                                                1\n",
       "[\\n12 months\\n, \\n, 5.6 l/100 km (comb), \\n, 7.2 l/100 km (city), \\n, 4.7 l/100 km (country), \\n]       1\n",
       "Name: Warranty, Length: 516, dtype: int64"
      ]
     },
     "execution_count": 112,
     "metadata": {},
     "output_type": "execute_result"
    }
   ],
   "source": [
    "autos['Warranty'].value_counts(dropna=False)"
   ]
  },
  {
   "cell_type": "code",
   "execution_count": 113,
   "metadata": {},
   "outputs": [
    {
     "data": {
      "text/plain": [
       "NaN                                                                            5420\n",
       "Euro 6                                                                         1868\n",
       "\\n12 months\\n                                                                  1177\n",
       "\\n                                                                              979\n",
       "\\n24 months\\n                                                                   566\n",
       "                                                                               ... \n",
       "5 (Blue)                                                                          1\n",
       "\\n1 months\\n                                                                      1\n",
       "60 months\\n\\n6 l/100 km (comb)\\n7.3 l/100 km (city)\\n5.2 l/100 km (country)       1\n",
       "60 months\\n\\n166 g CO2/km (comb)                                                  1\n",
       "17 months\\n\\nEuro 6                                                               1\n",
       "Name: warranty, Length: 516, dtype: int64"
      ]
     },
     "execution_count": 113,
     "metadata": {},
     "output_type": "execute_result"
    }
   ],
   "source": [
    "warranty_list = [\"\".join(item).strip() if type(item) == list else item for item in autos[\"Warranty\"]]\n",
    "autos[\"warranty\"] = pd.DataFrame(warranty_list)\n",
    "autos['warranty'].value_counts(dropna=False)"
   ]
  },
  {
   "cell_type": "code",
   "execution_count": 114,
   "metadata": {},
   "outputs": [],
   "source": [
    "autos.drop([\"Warranty\", \"warranty\"], axis = 1, inplace = True)"
   ]
  },
  {
   "cell_type": "markdown",
   "metadata": {},
   "source": [
    "### Fuel"
   ]
  },
  {
   "cell_type": "code",
   "execution_count": 115,
   "metadata": {},
   "outputs": [
    {
     "data": {
      "text/plain": [
       "[\\n, Diesel (Particulate Filter), \\n]                                                                                  4315\n",
       "[\\n, Super 95, \\n]                                                                                                     3338\n",
       "[\\n, Gasoline, \\n]                                                                                                     3175\n",
       "[\\n, Diesel, \\n]                                                                                                       2984\n",
       "[\\n, Super 95 / Regular/Benzine 91, \\n]                                                                                 424\n",
       "                                                                                                                       ... \n",
       "[\\n, Super Plus 98 / Super E10 95, \\n]                                                                                    1\n",
       "[\\n, Regular/Benzine 91 / Super 95 / Regular/Benzine E10 91 / Super E10 95 / Super Plus 98 / Super Plus E10 98, \\n]       1\n",
       "[\\n, Super 95 / Regular/Benzine 91 / Super Plus 98 / Regular/Benzine E10 91 / Super Plus E10 98 / Super E10 95, \\n]       1\n",
       "[\\n, Super 95 / Regular/Benzine 91 / Super E10 95 / Super Plus E10 98 / Super Plus 98, \\n]                                1\n",
       "[\\n, Domestic gas H, \\n]                                                                                                  1\n",
       "Name: Fuel, Length: 77, dtype: int64"
      ]
     },
     "execution_count": 115,
     "metadata": {},
     "output_type": "execute_result"
    }
   ],
   "source": [
    "autos['Fuel'].value_counts(dropna=False)"
   ]
  },
  {
   "cell_type": "code",
   "execution_count": 116,
   "metadata": {},
   "outputs": [],
   "source": [
    "autos['fuel_type'] = autos['Fuel'].str[1]"
   ]
  },
  {
   "cell_type": "code",
   "execution_count": 117,
   "metadata": {},
   "outputs": [],
   "source": [
    "diesel_bool = autos[\"fuel_type\"].str.contains(\"diesel\", case = False, regex = True)\n",
    "lpg_bool = autos[\"fuel_type\"].str.contains(\"lpg|cng|bio|domestic\", case = False, regex = True)"
   ]
  },
  {
   "cell_type": "code",
   "execution_count": 118,
   "metadata": {},
   "outputs": [],
   "source": [
    "autos.loc[diesel_bool, \"fuel_type\"] = \"Diesel\"\n",
    "autos.loc[lpg_bool, \"fuel_type\"] = \"LPG\""
   ]
  },
  {
   "cell_type": "code",
   "execution_count": 119,
   "metadata": {},
   "outputs": [],
   "source": [
    "gasoline = list(autos.fuel_type.loc[lambda x : x != \"Diesel\"][lambda x : x != \"LPG\"].index)\n",
    "autos.fuel_type.iloc[gasoline] = \"Gasoline\""
   ]
  },
  {
   "cell_type": "code",
   "execution_count": 120,
   "metadata": {},
   "outputs": [
    {
     "data": {
      "text/plain": [
       "Gasoline    8555\n",
       "Diesel      7299\n",
       "LPG           65\n",
       "Name: fuel_type, dtype: int64"
      ]
     },
     "execution_count": 120,
     "metadata": {},
     "output_type": "execute_result"
    }
   ],
   "source": [
    "autos['fuel_type'].value_counts(dropna=False)"
   ]
  },
  {
   "cell_type": "code",
   "execution_count": 121,
   "metadata": {},
   "outputs": [],
   "source": [
    "autos = autos.join(autos[\"fuel_type\"].str.get_dummies().add_prefix('FT_'))"
   ]
  },
  {
   "cell_type": "code",
   "execution_count": 122,
   "metadata": {},
   "outputs": [],
   "source": [
    "autos.drop(\"Fuel\", axis = 1, inplace = True)\n",
    "autos.drop(\"fuel_type\", axis = 1, inplace = True)"
   ]
  },
  {
   "cell_type": "markdown",
   "metadata": {},
   "source": [
    "### Full Service"
   ]
  },
  {
   "cell_type": "code",
   "execution_count": 123,
   "metadata": {},
   "outputs": [
    {
     "data": {
      "text/plain": [
       "NaN                                                                                           7704\n",
       "[\\n, \\n, \\n4 (Green)\\n]                                                                       2235\n",
       "[\\n, \\n, \\nEuro 6\\n]                                                                          2097\n",
       "[\\n, \\n]                                                                                      1702\n",
       "[\\n, \\n, \\nEuro 6d-TEMP\\n]                                                                     399\n",
       "                                                                                              ... \n",
       "[\\n, \\n, \\n, 6.2 l/100 km (comb), \\n, 7.7 l/100 km (city), \\n, 5.4 l/100 km (country), \\n]       1\n",
       "[\\n, \\n, \\n, 6 l/100 km (comb), \\n, 7.5 l/100 km (city), \\n, 5.2 l/100 km (country), \\n]         1\n",
       "[\\n, \\n, \\n, 5.7 l/100 km (comb), \\n, 7.3 l/100 km (city), \\n, 4.9 l/100 km (country), \\n]       1\n",
       "[\\n, \\n, \\n, 5 l/100 km (comb), \\n, 5.9 l/100 km (city), \\n, 4.5 l/100 km (country), \\n]         1\n",
       "[\\n, \\n, \\n, 4.6 l/100 km (comb), \\n, 5.8 l/100 km (city), \\n, 3.9 l/100 km (country), \\n]       1\n",
       "Name: Full Service, Length: 123, dtype: int64"
      ]
     },
     "execution_count": 123,
     "metadata": {},
     "output_type": "execute_result"
    }
   ],
   "source": [
    "autos['Full Service'].value_counts(dropna=False)"
   ]
  },
  {
   "cell_type": "code",
   "execution_count": 124,
   "metadata": {},
   "outputs": [],
   "source": [
    "autos.drop(\"Full Service\", axis = 1, inplace = True)"
   ]
  },
  {
   "cell_type": "markdown",
   "metadata": {},
   "source": [
    "### Displacement"
   ]
  },
  {
   "cell_type": "code",
   "execution_count": 125,
   "metadata": {},
   "outputs": [
    {
     "data": {
      "text/plain": [
       "[\\n1,598 cc\\n]     4761\n",
       "[\\n999 cc\\n]       2438\n",
       "[\\n1,398 cc\\n]     1314\n",
       "[\\n1,399 cc\\n]      749\n",
       "[\\n1,229 cc\\n]      677\n",
       "                   ... \n",
       "[\\n1,800 cc\\n]        1\n",
       "[\\n140 cc\\n]          1\n",
       "[\\n15,898 cc\\n]       1\n",
       "[\\n1,686 cc\\n]        1\n",
       "[\\n1,368 cc\\n]        1\n",
       "Name: Displacement, Length: 78, dtype: int64"
      ]
     },
     "execution_count": 125,
     "metadata": {},
     "output_type": "execute_result"
    }
   ],
   "source": [
    "autos['Displacement'].value_counts(dropna=False)"
   ]
  },
  {
   "cell_type": "code",
   "execution_count": 126,
   "metadata": {},
   "outputs": [
    {
     "data": {
      "text/plain": [
       "1,598 cc     4761\n",
       "999 cc       2438\n",
       "1,398 cc     1314\n",
       "1,399 cc      749\n",
       "1,229 cc      677\n",
       "             ... \n",
       "1,390 cc        1\n",
       "16,000 cc       1\n",
       "15,898 cc       1\n",
       "1,800 cc        1\n",
       "122 cc          1\n",
       "Name: engine_cc, Length: 78, dtype: int64"
      ]
     },
     "execution_count": 126,
     "metadata": {},
     "output_type": "execute_result"
    }
   ],
   "source": [
    "autos['engine_cc'] = autos['Displacement'].str[0].str.strip('\\n')\n",
    "autos['engine_cc'].value_counts(dropna=False)"
   ]
  },
  {
   "cell_type": "code",
   "execution_count": 127,
   "metadata": {},
   "outputs": [
    {
     "data": {
      "text/plain": [
       "1598    4761\n",
       "999     2438\n",
       "1398    1314\n",
       "1399     749\n",
       "1229     677\n",
       "        ... \n",
       "890        1\n",
       "1368       1\n",
       "1800       1\n",
       "1856       1\n",
       "973        1\n",
       "Name: engine_cc, Length: 78, dtype: int64"
      ]
     },
     "execution_count": 127,
     "metadata": {},
     "output_type": "execute_result"
    }
   ],
   "source": [
    "autos.replace({\"engine_cc\" : {\",\" : \"\", \" \" : \"\", \"cc\" : \"\"}}, regex = True, inplace = True)\n",
    "autos['engine_cc'].value_counts(dropna=False)"
   ]
  },
  {
   "cell_type": "code",
   "execution_count": 128,
   "metadata": {},
   "outputs": [
    {
     "data": {
      "text/plain": [
       "0        1422.0\n",
       "1        1798.0\n",
       "2        1598.0\n",
       "3        1422.0\n",
       "4        1422.0\n",
       "          ...  \n",
       "15914    1997.0\n",
       "15915    1798.0\n",
       "15916    1997.0\n",
       "15917    1997.0\n",
       "15918    1798.0\n",
       "Name: engine_cc, Length: 15919, dtype: float64"
      ]
     },
     "execution_count": 128,
     "metadata": {},
     "output_type": "execute_result"
    }
   ],
   "source": [
    "autos['engine_cc'] = pd.to_numeric(autos['engine_cc'])\n",
    "autos['engine_cc']"
   ]
  },
  {
   "cell_type": "code",
   "execution_count": 129,
   "metadata": {},
   "outputs": [
    {
     "data": {
      "text/plain": [
       "1598.0    5063\n",
       "999.0     2467\n",
       "1398.0    1388\n",
       "1399.0     749\n",
       "1461.0     686\n",
       "          ... \n",
       "54.0         1\n",
       "140.0        1\n",
       "1350.0       1\n",
       "1995.0       1\n",
       "1198.0       1\n",
       "Name: engine_cc, Length: 77, dtype: int64"
      ]
     },
     "execution_count": 129,
     "metadata": {},
     "output_type": "execute_result"
    }
   ],
   "source": [
    "fill_by_group(autos, 'make_model', 'engine_cc')\n",
    "autos[\"engine_cc\"].value_counts(dropna = False)"
   ]
  },
  {
   "cell_type": "code",
   "execution_count": 130,
   "metadata": {},
   "outputs": [],
   "source": [
    "autos.drop(\"Displacement\", axis = 1, inplace = True)"
   ]
  },
  {
   "cell_type": "markdown",
   "metadata": {},
   "source": [
    "### Gears"
   ]
  },
  {
   "cell_type": "code",
   "execution_count": 131,
   "metadata": {},
   "outputs": [
    {
     "data": {
      "text/plain": [
       "[\\n6\\n]     5822\n",
       "NaN         4712\n",
       "[\\n5\\n]     3239\n",
       "[\\n7\\n]     1908\n",
       "[\\n8\\n]      224\n",
       "[\\n9\\n]        6\n",
       "[\\n4\\n]        2\n",
       "[\\n3\\n]        2\n",
       "[\\n1\\n]        2\n",
       "[\\n50\\n]       1\n",
       "[\\n2\\n]        1\n",
       "Name: Gears, dtype: int64"
      ]
     },
     "execution_count": 131,
     "metadata": {},
     "output_type": "execute_result"
    }
   ],
   "source": [
    "autos['Gears'].value_counts(dropna=False)"
   ]
  },
  {
   "cell_type": "code",
   "execution_count": 132,
   "metadata": {},
   "outputs": [
    {
     "data": {
      "text/plain": [
       "6      5822\n",
       "NaN    4712\n",
       "5      3239\n",
       "7      1908\n",
       "8       224\n",
       "9         6\n",
       "4         2\n",
       "3         2\n",
       "1         2\n",
       "2         1\n",
       "50        1\n",
       "Name: Gears, dtype: int64"
      ]
     },
     "execution_count": 132,
     "metadata": {},
     "output_type": "execute_result"
    }
   ],
   "source": [
    "autos[\"Gears\"] = autos['Gears'].str[0].str.strip('\\n')\n",
    "autos['Gears'].value_counts(dropna=False)"
   ]
  },
  {
   "cell_type": "code",
   "execution_count": 133,
   "metadata": {},
   "outputs": [
    {
     "data": {
      "text/plain": [
       "6      5822\n",
       "NaN    4712\n",
       "5      3240\n",
       "7      1908\n",
       "8       224\n",
       "9         6\n",
       "4         2\n",
       "3         2\n",
       "1         2\n",
       "2         1\n",
       "Name: Gears, dtype: int64"
      ]
     },
     "execution_count": 133,
     "metadata": {},
     "output_type": "execute_result"
    }
   ],
   "source": [
    "autos['Gears'].iloc[14495] = \"5\"\n",
    "autos['Gears'].value_counts(dropna=False)"
   ]
  },
  {
   "cell_type": "code",
   "execution_count": 134,
   "metadata": {},
   "outputs": [],
   "source": [
    "autos['Gears'] = pd.to_numeric(autos['Gears'])\n",
    "autos['Gears'] = autos['Gears'].fillna(autos.groupby('make_model')['Gears'].transform('median'))"
   ]
  },
  {
   "cell_type": "code",
   "execution_count": 135,
   "metadata": {},
   "outputs": [
    {
     "data": {
      "text/plain": [
       "6.0    9361\n",
       "5.0    4412\n",
       "7.0    1908\n",
       "8.0     224\n",
       "9.0       6\n",
       "4.0       2\n",
       "3.0       2\n",
       "1.0       2\n",
       "2.0       1\n",
       "NaN       1\n",
       "Name: Gears, dtype: int64"
      ]
     },
     "execution_count": 135,
     "metadata": {},
     "output_type": "execute_result"
    }
   ],
   "source": [
    "autos['Gears'].value_counts(dropna=False)"
   ]
  },
  {
   "cell_type": "code",
   "execution_count": 136,
   "metadata": {},
   "outputs": [
    {
     "data": {
      "text/plain": [
       "6.0    9361\n",
       "5.0    4412\n",
       "7.0    1908\n",
       "8.0     224\n",
       "9.0       6\n",
       "4.0       2\n",
       "3.0       2\n",
       "1.0       2\n",
       "2.0       1\n",
       "Name: Gears, dtype: int64"
      ]
     },
     "execution_count": 136,
     "metadata": {},
     "output_type": "execute_result"
    }
   ],
   "source": [
    "autos['Gears'].dropna(inplace = True)\n",
    "autos['Gears'].value_counts(dropna=False)"
   ]
  },
  {
   "cell_type": "markdown",
   "metadata": {},
   "source": [
    "### Make"
   ]
  },
  {
   "cell_type": "code",
   "execution_count": 137,
   "metadata": {},
   "outputs": [
    {
     "data": {
      "text/plain": [
       "\\nOpel\\n       7343\n",
       "\\nAudi\\n       5712\n",
       "\\nRenault\\n    2864\n",
       "Name: Make, dtype: int64"
      ]
     },
     "execution_count": 137,
     "metadata": {},
     "output_type": "execute_result"
    }
   ],
   "source": [
    "autos['Make'].value_counts(dropna=False)"
   ]
  },
  {
   "cell_type": "code",
   "execution_count": 138,
   "metadata": {},
   "outputs": [
    {
     "data": {
      "text/plain": [
       "Opel       7343\n",
       "Audi       5712\n",
       "Renault    2864\n",
       "Name: Make, dtype: int64"
      ]
     },
     "execution_count": 138,
     "metadata": {},
     "output_type": "execute_result"
    }
   ],
   "source": [
    "autos['Make'] = autos['Make'].str.strip('\\n')\n",
    "autos['Make'].value_counts(dropna=False)"
   ]
  },
  {
   "cell_type": "code",
   "execution_count": 139,
   "metadata": {},
   "outputs": [],
   "source": [
    "autos = autos.join(autos[\"Make\"].str.get_dummies().add_prefix('M_'))"
   ]
  },
  {
   "cell_type": "code",
   "execution_count": 140,
   "metadata": {},
   "outputs": [],
   "source": [
    "autos.drop(\"Make\", axis = 1, inplace = True)"
   ]
  },
  {
   "cell_type": "markdown",
   "metadata": {},
   "source": [
    "### Model"
   ]
  },
  {
   "cell_type": "code",
   "execution_count": 141,
   "metadata": {},
   "outputs": [
    {
     "data": {
      "text/plain": [
       "[\\n, A3, \\n]          3097\n",
       "[\\n, A1, \\n]          2614\n",
       "[\\n, Insignia, \\n]    2598\n",
       "[\\n, Astra, \\n]       2526\n",
       "[\\n, Corsa, \\n]       2219\n",
       "[\\n, Clio, \\n]        1839\n",
       "[\\n, Espace, \\n]       991\n",
       "[\\n, Duster, \\n]        34\n",
       "[\\n, A2, \\n]             1\n",
       "Name: Model, dtype: int64"
      ]
     },
     "execution_count": 141,
     "metadata": {},
     "output_type": "execute_result"
    }
   ],
   "source": [
    "autos['Model'].value_counts(dropna=False)"
   ]
  },
  {
   "cell_type": "code",
   "execution_count": 142,
   "metadata": {},
   "outputs": [
    {
     "data": {
      "text/plain": [
       "A3          3097\n",
       "A1          2614\n",
       "Insignia    2598\n",
       "Astra       2526\n",
       "Corsa       2219\n",
       "Clio        1839\n",
       "Espace       991\n",
       "Duster        34\n",
       "A2             1\n",
       "Name: Model, dtype: int64"
      ]
     },
     "execution_count": 142,
     "metadata": {},
     "output_type": "execute_result"
    }
   ],
   "source": [
    "autos['Model'] = autos['Model'].str[1]\n",
    "autos['Model'].value_counts(dropna=False)"
   ]
  },
  {
   "cell_type": "code",
   "execution_count": 143,
   "metadata": {},
   "outputs": [],
   "source": [
    "autos = autos.join(autos[\"Model\"].str.get_dummies().add_prefix('MOD_'))"
   ]
  },
  {
   "cell_type": "code",
   "execution_count": 144,
   "metadata": {},
   "outputs": [],
   "source": [
    "autos.drop(\"Model\", axis = 1, inplace = True)"
   ]
  },
  {
   "cell_type": "markdown",
   "metadata": {},
   "source": [
    "### Nr. of Doors"
   ]
  },
  {
   "cell_type": "code",
   "execution_count": 145,
   "metadata": {},
   "outputs": [
    {
     "data": {
      "text/plain": [
       "[\\n5\\n]    11575\n",
       "[\\n4\\n]     3079\n",
       "[\\n3\\n]      832\n",
       "[\\n2\\n]      219\n",
       "NaN          212\n",
       "[\\n7\\n]        1\n",
       "[\\n1\\n]        1\n",
       "Name: Nr. of Doors, dtype: int64"
      ]
     },
     "execution_count": 145,
     "metadata": {},
     "output_type": "execute_result"
    }
   ],
   "source": [
    "autos['Nr. of Doors'].value_counts(dropna=False)"
   ]
  },
  {
   "cell_type": "code",
   "execution_count": 146,
   "metadata": {},
   "outputs": [
    {
     "data": {
      "text/plain": [
       "5      11575\n",
       "4       3079\n",
       "3        832\n",
       "2        219\n",
       "NaN      212\n",
       "1          1\n",
       "7          1\n",
       "Name: Nr. of Doors, dtype: int64"
      ]
     },
     "execution_count": 146,
     "metadata": {},
     "output_type": "execute_result"
    }
   ],
   "source": [
    "autos['Nr. of Doors'].str[0].str.strip('\\n').value_counts(dropna=False)"
   ]
  },
  {
   "cell_type": "code",
   "execution_count": 147,
   "metadata": {
    "scrolled": true
   },
   "outputs": [
    {
     "data": {
      "text/plain": [
       "5      11575\n",
       "4       3079\n",
       "3        832\n",
       "2        219\n",
       "NaN      212\n",
       "1          1\n",
       "7          1\n",
       "Name: num_of_doors, dtype: int64"
      ]
     },
     "execution_count": 147,
     "metadata": {},
     "output_type": "execute_result"
    }
   ],
   "source": [
    "autos['num_of_doors'] = autos['Nr. of Doors'].str[0].str.strip('\\n')\n",
    "autos['num_of_doors'].value_counts(dropna=False)"
   ]
  },
  {
   "cell_type": "code",
   "execution_count": 148,
   "metadata": {},
   "outputs": [
    {
     "data": {
      "text/plain": [
       "5    11787\n",
       "4     3079\n",
       "3      832\n",
       "2      219\n",
       "1        1\n",
       "7        1\n",
       "Name: num_of_doors, dtype: int64"
      ]
     },
     "execution_count": 148,
     "metadata": {},
     "output_type": "execute_result"
    }
   ],
   "source": [
    "fill_by_group(autos, 'make_model', 'num_of_doors')\n",
    "autos[\"num_of_doors\"].value_counts(dropna = False)"
   ]
  },
  {
   "cell_type": "code",
   "execution_count": 149,
   "metadata": {},
   "outputs": [],
   "source": [
    "autos.drop(\"Nr. of Doors\", axis = 1, inplace = True)"
   ]
  },
  {
   "cell_type": "markdown",
   "metadata": {},
   "source": [
    "### Nr. of Seats"
   ]
  },
  {
   "cell_type": "code",
   "execution_count": 150,
   "metadata": {},
   "outputs": [
    {
     "data": {
      "text/plain": [
       "[\\n5\\n]    13336\n",
       "[\\n4\\n]     1125\n",
       "NaN          977\n",
       "[\\n7\\n]      362\n",
       "[\\n2\\n]      116\n",
       "[\\n6\\n]        2\n",
       "[\\n3\\n]        1\n",
       "Name: Nr. of Seats, dtype: int64"
      ]
     },
     "execution_count": 150,
     "metadata": {},
     "output_type": "execute_result"
    }
   ],
   "source": [
    "autos['Nr. of Seats'].value_counts(dropna = False)"
   ]
  },
  {
   "cell_type": "code",
   "execution_count": 151,
   "metadata": {},
   "outputs": [
    {
     "data": {
      "text/plain": [
       "5      13336\n",
       "4       1125\n",
       "NaN      977\n",
       "7        362\n",
       "2        116\n",
       "6          2\n",
       "3          1\n",
       "Name: num_of_seats, dtype: int64"
      ]
     },
     "execution_count": 151,
     "metadata": {},
     "output_type": "execute_result"
    }
   ],
   "source": [
    "autos['num_of_seats'] = autos['Nr. of Seats'].str[0].str.strip('\\n')\n",
    "autos['num_of_seats'].value_counts(dropna = False)"
   ]
  },
  {
   "cell_type": "code",
   "execution_count": 152,
   "metadata": {},
   "outputs": [
    {
     "data": {
      "text/plain": [
       "5    14313\n",
       "4     1125\n",
       "7      362\n",
       "2      116\n",
       "6        2\n",
       "3        1\n",
       "Name: num_of_seats, dtype: int64"
      ]
     },
     "execution_count": 152,
     "metadata": {},
     "output_type": "execute_result"
    }
   ],
   "source": [
    "fill_by_group(autos, 'make_model', 'num_of_seats')\n",
    "autos[\"num_of_seats\"].value_counts(dropna = False)"
   ]
  },
  {
   "cell_type": "code",
   "execution_count": 153,
   "metadata": {},
   "outputs": [],
   "source": [
    "autos.drop(\"Nr. of Seats\", axis = 1, inplace = True)"
   ]
  },
  {
   "cell_type": "markdown",
   "metadata": {},
   "source": [
    "### vat"
   ]
  },
  {
   "cell_type": "code",
   "execution_count": 154,
   "metadata": {},
   "outputs": [
    {
     "data": {
      "text/plain": [
       "VAT deductible      10980\n",
       "NaN                  4513\n",
       "Price negotiable      426\n",
       "Name: vat, dtype: int64"
      ]
     },
     "execution_count": 154,
     "metadata": {},
     "output_type": "execute_result"
    }
   ],
   "source": [
    "autos['vat'].value_counts(dropna = False)"
   ]
  },
  {
   "cell_type": "code",
   "execution_count": 155,
   "metadata": {},
   "outputs": [],
   "source": [
    "autos.drop(\"vat\", axis = 1, inplace = True)"
   ]
  },
  {
   "cell_type": "markdown",
   "metadata": {},
   "source": [
    "### Type"
   ]
  },
  {
   "cell_type": "code",
   "execution_count": 156,
   "metadata": {},
   "outputs": [
    {
     "data": {
      "text/plain": [
       "[, Used, , Diesel (Particulate Filter)]                                                                                  3475\n",
       "[, Used, , Diesel]                                                                                                       2516\n",
       "[, Used, , Gasoline]                                                                                                     2367\n",
       "[, Used, , Super 95]                                                                                                     1818\n",
       "[, Pre-registered, , Super 95]                                                                                            500\n",
       "                                                                                                                         ... \n",
       "[, Used, , Regular/Benzine E10 91 / Super E10 95 / Super Plus E10 98 / Super Plus 98 / Super 95 / Regular/Benzine 91]       1\n",
       "[, Used, , Regular/Benzine E10 91 / Regular/Benzine 91 / Super 95 / Super Plus 98 / Super E10 95 / Super Plus E10 98]       1\n",
       "[, Employee's car, , Regular/Benzine 91 / Super 95 / Super E10 95]                                                          1\n",
       "[, Pre-registered, , Biogas]                                                                                                1\n",
       "[, Used, , Regular/Benzine 91 / Super 95 / Super Plus 98]                                                                   1\n",
       "Name: Type, Length: 170, dtype: int64"
      ]
     },
     "execution_count": 156,
     "metadata": {},
     "output_type": "execute_result"
    }
   ],
   "source": [
    "autos['Type'].value_counts(dropna = False)"
   ]
  },
  {
   "cell_type": "code",
   "execution_count": 157,
   "metadata": {},
   "outputs": [
    {
     "data": {
      "text/plain": [
       "Used              11096\n",
       "New                1650\n",
       "Pre-registered     1364\n",
       "Employee's car     1011\n",
       "Demonstration       796\n",
       "NaN                   2\n",
       "Name: Type, dtype: int64"
      ]
     },
     "execution_count": 157,
     "metadata": {},
     "output_type": "execute_result"
    }
   ],
   "source": [
    "autos['Type'] = autos['Type'].str[1]\n",
    "autos['Type'].value_counts(dropna = False)"
   ]
  },
  {
   "cell_type": "code",
   "execution_count": 158,
   "metadata": {},
   "outputs": [],
   "source": [
    "autos.fillna(\"Used\", inplace = True)"
   ]
  },
  {
   "cell_type": "code",
   "execution_count": 159,
   "metadata": {},
   "outputs": [
    {
     "data": {
      "text/plain": [
       "Used              11098\n",
       "New                1650\n",
       "Pre-registered     1364\n",
       "Employee's car     1011\n",
       "Demonstration       796\n",
       "Name: Type, dtype: int64"
      ]
     },
     "execution_count": 159,
     "metadata": {},
     "output_type": "execute_result"
    }
   ],
   "source": [
    "autos['Type'].value_counts(dropna=False)"
   ]
  },
  {
   "cell_type": "code",
   "execution_count": 160,
   "metadata": {},
   "outputs": [],
   "source": [
    "autos = autos.join(autos[\"Type\"].str.get_dummies().add_prefix('TYP_'))"
   ]
  },
  {
   "cell_type": "code",
   "execution_count": 161,
   "metadata": {},
   "outputs": [],
   "source": [
    "autos.drop(\"Type\", axis = 1, inplace = True)"
   ]
  },
  {
   "cell_type": "markdown",
   "metadata": {},
   "source": [
    "### registration"
   ]
  },
  {
   "cell_type": "code",
   "execution_count": 162,
   "metadata": {},
   "outputs": [
    {
     "data": {
      "text/plain": [
       "-/-        1597\n",
       "03/2018     695\n",
       "02/2019     585\n",
       "05/2018     572\n",
       "03/2019     543\n",
       "04/2018     541\n",
       "01/2019     541\n",
       "02/2018     539\n",
       "03/2016     536\n",
       "06/2018     532\n",
       "04/2016     532\n",
       "01/2018     511\n",
       "04/2019     506\n",
       "02/2016     472\n",
       "03/2017     471\n",
       "05/2016     459\n",
       "06/2016     452\n",
       "05/2019     440\n",
       "06/2017     409\n",
       "05/2017     404\n",
       "07/2018     396\n",
       "04/2017     380\n",
       "01/2016     376\n",
       "02/2017     368\n",
       "01/2017     306\n",
       "08/2018     285\n",
       "06/2019     224\n",
       "07/2017     215\n",
       "11/2017     180\n",
       "07/2016     176\n",
       "10/2016     160\n",
       "10/2017     154\n",
       "09/2017     149\n",
       "11/2016     142\n",
       "09/2018     141\n",
       "09/2016     141\n",
       "12/2016     134\n",
       "12/2017     123\n",
       "08/2017     114\n",
       "11/2018     110\n",
       "12/2018     103\n",
       "10/2018      97\n",
       "08/2016      94\n",
       "07/2019       6\n",
       "09/2019       5\n",
       "12/2019       1\n",
       "11/2019       1\n",
       "08/2019       1\n",
       "Name: registration, dtype: int64"
      ]
     },
     "execution_count": 162,
     "metadata": {},
     "output_type": "execute_result"
    }
   ],
   "source": [
    "autos['registration'].value_counts(dropna = False)"
   ]
  },
  {
   "cell_type": "code",
   "execution_count": 163,
   "metadata": {},
   "outputs": [],
   "source": [
    "autos.drop(\"registration\", axis = 1, inplace = True)"
   ]
  },
  {
   "cell_type": "markdown",
   "metadata": {},
   "source": [
    "### Upholstery"
   ]
  },
  {
   "cell_type": "code",
   "execution_count": 164,
   "metadata": {},
   "outputs": [
    {
     "data": {
      "text/plain": [
       "[\\nCloth, Black\\n]           5821\n",
       "Used                         3720\n",
       "[\\nPart leather, Black\\n]    1121\n",
       "[\\nCloth\\n]                  1005\n",
       "[\\nCloth, Grey\\n]             891\n",
       "[\\nCloth, Other\\n]            639\n",
       "[\\nFull leather, Black\\n]     575\n",
       "[\\nBlack\\n]                   491\n",
       "[\\nGrey\\n]                    273\n",
       "[\\nOther, Other\\n]            182\n",
       "[\\nPart leather\\n]            140\n",
       "[\\nFull leather\\n]            139\n",
       "[\\nPart leather, Grey\\n]      116\n",
       "[\\nFull leather, Brown\\n]     116\n",
       "[\\nOther, Black\\n]            110\n",
       "[\\nFull leather, Other\\n]      72\n",
       "[\\nFull leather, Grey\\n]       67\n",
       "[\\nPart leather, Other\\n]      65\n",
       "[\\nOther\\n]                    56\n",
       "[\\nPart leather, Brown\\n]      50\n",
       "[\\nalcantara, Black\\n]         47\n",
       "[\\nVelour, Black\\n]            36\n",
       "[\\nFull leather, Beige\\n]      36\n",
       "[\\nCloth, Brown\\n]             28\n",
       "[\\nVelour\\n]                   16\n",
       "[\\nOther, Grey\\n]              15\n",
       "[\\nCloth, Beige\\n]             13\n",
       "[\\nBrown\\n]                    12\n",
       "[\\nCloth, Blue\\n]              12\n",
       "[\\nVelour, Grey\\n]              8\n",
       "[\\nCloth, White\\n]              8\n",
       "[\\nalcantara, Grey\\n]           6\n",
       "[\\nCloth, Red\\n]                5\n",
       "[\\nOther, Yellow\\n]             4\n",
       "[\\nBeige\\n]                     3\n",
       "[\\nPart leather, Red\\n]         3\n",
       "[\\nPart leather, White\\n]       2\n",
       "[\\nalcantara\\n]                 2\n",
       "[\\nPart leather, Beige\\n]       2\n",
       "[\\nFull leather, Blue\\n]        2\n",
       "[\\nWhite\\n]                     2\n",
       "[\\nalcantara, Other\\n]          2\n",
       "[\\nBlue\\n]                      2\n",
       "[\\nOther, Brown\\n]              1\n",
       "[\\nCloth, Orange\\n]             1\n",
       "[\\nFull leather, White\\n]       1\n",
       "[\\nFull leather, Red\\n]         1\n",
       "Name: Upholstery, dtype: int64"
      ]
     },
     "execution_count": 164,
     "metadata": {},
     "output_type": "execute_result"
    }
   ],
   "source": [
    "autos['Upholstery'].value_counts(dropna = False)"
   ]
  },
  {
   "cell_type": "code",
   "execution_count": 165,
   "metadata": {
    "scrolled": false
   },
   "outputs": [
    {
     "data": {
      "text/plain": [
       "Cloth, Black           5821\n",
       "U                      3720\n",
       "Part leather, Black    1121\n",
       "Cloth                  1005\n",
       "Cloth, Grey             891\n",
       "Cloth, Other            639\n",
       "Full leather, Black     575\n",
       "Black                   491\n",
       "Grey                    273\n",
       "Other, Other            182\n",
       "Part leather            140\n",
       "Full leather            139\n",
       "Part leather, Grey      116\n",
       "Full leather, Brown     116\n",
       "Other, Black            110\n",
       "Full leather, Other      72\n",
       "Full leather, Grey       67\n",
       "Part leather, Other      65\n",
       "Other                    56\n",
       "Part leather, Brown      50\n",
       "alcantara, Black         47\n",
       "Velour, Black            36\n",
       "Full leather, Beige      36\n",
       "Cloth, Brown             28\n",
       "Velour                   16\n",
       "Other, Grey              15\n",
       "Cloth, Beige             13\n",
       "Cloth, Blue              12\n",
       "Brown                    12\n",
       "Cloth, White              8\n",
       "Velour, Grey              8\n",
       "alcantara, Grey           6\n",
       "Cloth, Red                5\n",
       "Other, Yellow             4\n",
       "Part leather, Red         3\n",
       "Beige                     3\n",
       "White                     2\n",
       "Full leather, Blue        2\n",
       "Part leather, Beige       2\n",
       "Part leather, White       2\n",
       "alcantara, Other          2\n",
       "alcantara                 2\n",
       "Blue                      2\n",
       "Other, Brown              1\n",
       "Full leather, Red         1\n",
       "Full leather, White       1\n",
       "Cloth, Orange             1\n",
       "Name: Upholstery, dtype: int64"
      ]
     },
     "execution_count": 165,
     "metadata": {},
     "output_type": "execute_result"
    }
   ],
   "source": [
    "autos['Upholstery'].str[0].str.strip('\\n').value_counts(dropna = False)"
   ]
  },
  {
   "cell_type": "code",
   "execution_count": 166,
   "metadata": {},
   "outputs": [],
   "source": [
    "autos.drop(\"Upholstery\", axis = 1, inplace = True)"
   ]
  },
  {
   "cell_type": "markdown",
   "metadata": {},
   "source": [
    "### hp"
   ]
  },
  {
   "cell_type": "code",
   "execution_count": 167,
   "metadata": {},
   "outputs": [
    {
     "data": {
      "text/plain": [
       "85 kW     2542\n",
       "66 kW     2122\n",
       "81 kW     1402\n",
       "100 kW    1308\n",
       "110 kW    1112\n",
       "70 kW      888\n",
       "125 kW     707\n",
       "51 kW      695\n",
       "55 kW      569\n",
       "118 kW     516\n",
       "92 kW      466\n",
       "121 kW     392\n",
       "147 kW     380\n",
       "77 kW      345\n",
       "56 kW      286\n",
       "54 kW      276\n",
       "103 kW     253\n",
       "87 kW      232\n",
       "165 kW     194\n",
       "88 kW      177\n",
       "60 kW      160\n",
       "162 kW      98\n",
       "- kW        88\n",
       "74 kW       81\n",
       "96 kW       72\n",
       "71 kW       59\n",
       "101 kW      47\n",
       "67 kW       40\n",
       "154 kW      39\n",
       "122 kW      35\n",
       "119 kW      30\n",
       "164 kW      27\n",
       "135 kW      24\n",
       "52 kW       22\n",
       "82 kW       22\n",
       "1 kW        20\n",
       "78 kW       20\n",
       "294 kW      18\n",
       "146 kW      18\n",
       "141 kW      16\n",
       "57 kW       10\n",
       "104 kW       8\n",
       "120 kW       8\n",
       "112 kW       7\n",
       "191 kW       7\n",
       "155 kW       6\n",
       "117 kW       6\n",
       "184 kW       5\n",
       "76 kW        4\n",
       "90 kW        4\n",
       "Name: hp, dtype: int64"
      ]
     },
     "execution_count": 167,
     "metadata": {},
     "output_type": "execute_result"
    }
   ],
   "source": [
    "autos['hp'].value_counts(dropna = False).head(50)"
   ]
  },
  {
   "cell_type": "code",
   "execution_count": 168,
   "metadata": {},
   "outputs": [
    {
     "data": {
      "text/plain": [
       "array(['66 kW', '141 kW', '85 kW', '70 kW', '92 kW', '112 kW', '60 kW',\n",
       "       '71 kW', '67 kW', '110 kW', '93 kW', '147 kW', '86 kW', '140 kW',\n",
       "       '87 kW', '- kW', '81 kW', '82 kW', '135 kW', '132 kW', '100 kW',\n",
       "       '96 kW', '162 kW', '150 kW', '294 kW', '228 kW', '270 kW',\n",
       "       '137 kW', '9 kW', '133 kW', '77 kW', '101 kW', '78 kW', '103 kW',\n",
       "       '1 kW', '74 kW', '118 kW', '84 kW', '88 kW', '80 kW', '76 kW',\n",
       "       '149 kW', '44 kW', '51 kW', '55 kW', '52 kW', '63 kW', '40 kW',\n",
       "       '65 kW', '75 kW', '125 kW', '120 kW', '184 kW', '239 kW', '121 kW',\n",
       "       '143 kW', '191 kW', '89 kW', '195 kW', '127 kW', '122 kW',\n",
       "       '154 kW', '155 kW', '104 kW', '123 kW', '146 kW', '90 kW', '53 kW',\n",
       "       '54 kW', '56 kW', '164 kW', '4 kW', '163 kW', '57 kW', '119 kW',\n",
       "       '165 kW', '117 kW', '115 kW', '98 kW', '168 kW', '167 kW'],\n",
       "      dtype=object)"
      ]
     },
     "execution_count": 168,
     "metadata": {},
     "output_type": "execute_result"
    }
   ],
   "source": [
    "autos['hp'].unique()"
   ]
  },
  {
   "cell_type": "code",
   "execution_count": 169,
   "metadata": {},
   "outputs": [
    {
     "data": {
      "text/plain": [
       "85     2542\n",
       "66     2122\n",
       "81     1402\n",
       "100    1308\n",
       "110    1112\n",
       "       ... \n",
       "163       1\n",
       "123       1\n",
       "115       1\n",
       "75        1\n",
       "239       1\n",
       "Name: horse_power, Length: 81, dtype: int64"
      ]
     },
     "execution_count": 169,
     "metadata": {},
     "output_type": "execute_result"
    }
   ],
   "source": [
    "autos.replace({\"hp\" : {\" kW\" : \"\", \"-\" : \"0\"}}, regex = True, inplace = True)\n",
    "autos[\"horse_power\"] = pd.to_numeric(autos.hp)\n",
    "autos['horse_power'].value_counts(dropna = False)"
   ]
  },
  {
   "cell_type": "code",
   "execution_count": 170,
   "metadata": {},
   "outputs": [],
   "source": [
    "autos.drop(\"hp\", axis = 1, inplace = True)"
   ]
  },
  {
   "cell_type": "markdown",
   "metadata": {},
   "source": [
    "### Checking Missing Variables"
   ]
  },
  {
   "cell_type": "code",
   "execution_count": 171,
   "metadata": {},
   "outputs": [
    {
     "data": {
      "text/html": [
       "<div>\n",
       "<style scoped>\n",
       "    .dataframe tbody tr th:only-of-type {\n",
       "        vertical-align: middle;\n",
       "    }\n",
       "\n",
       "    .dataframe tbody tr th {\n",
       "        vertical-align: top;\n",
       "    }\n",
       "\n",
       "    .dataframe thead th {\n",
       "        text-align: right;\n",
       "    }\n",
       "</style>\n",
       "<table border=\"1\" class=\"dataframe\">\n",
       "  <thead>\n",
       "    <tr style=\"text-align: right;\">\n",
       "      <th></th>\n",
       "      <th>Total</th>\n",
       "      <th>Percent</th>\n",
       "    </tr>\n",
       "  </thead>\n",
       "  <tbody>\n",
       "    <tr>\n",
       "      <th>make_model</th>\n",
       "      <td>0</td>\n",
       "      <td>0.0</td>\n",
       "    </tr>\n",
       "    <tr>\n",
       "      <th>price</th>\n",
       "      <td>0</td>\n",
       "      <td>0.0</td>\n",
       "    </tr>\n",
       "    <tr>\n",
       "      <th>km</th>\n",
       "      <td>0</td>\n",
       "      <td>0.0</td>\n",
       "    </tr>\n",
       "    <tr>\n",
       "      <th>prev_owner</th>\n",
       "      <td>0</td>\n",
       "      <td>0.0</td>\n",
       "    </tr>\n",
       "    <tr>\n",
       "      <th>Cylinders</th>\n",
       "      <td>0</td>\n",
       "      <td>0.0</td>\n",
       "    </tr>\n",
       "    <tr>\n",
       "      <th>...</th>\n",
       "      <td>...</td>\n",
       "      <td>...</td>\n",
       "    </tr>\n",
       "    <tr>\n",
       "      <th>TYP_Employee's car</th>\n",
       "      <td>0</td>\n",
       "      <td>0.0</td>\n",
       "    </tr>\n",
       "    <tr>\n",
       "      <th>TYP_New</th>\n",
       "      <td>0</td>\n",
       "      <td>0.0</td>\n",
       "    </tr>\n",
       "    <tr>\n",
       "      <th>TYP_Pre-registered</th>\n",
       "      <td>0</td>\n",
       "      <td>0.0</td>\n",
       "    </tr>\n",
       "    <tr>\n",
       "      <th>TYP_Used</th>\n",
       "      <td>0</td>\n",
       "      <td>0.0</td>\n",
       "    </tr>\n",
       "    <tr>\n",
       "      <th>horse_power</th>\n",
       "      <td>0</td>\n",
       "      <td>0.0</td>\n",
       "    </tr>\n",
       "  </tbody>\n",
       "</table>\n",
       "<p>158 rows × 2 columns</p>\n",
       "</div>"
      ],
      "text/plain": [
       "                    Total  Percent\n",
       "make_model              0      0.0\n",
       "price                   0      0.0\n",
       "km                      0      0.0\n",
       "prev_owner              0      0.0\n",
       "Cylinders               0      0.0\n",
       "...                   ...      ...\n",
       "TYP_Employee's car      0      0.0\n",
       "TYP_New                 0      0.0\n",
       "TYP_Pre-registered      0      0.0\n",
       "TYP_Used                0      0.0\n",
       "horse_power             0      0.0\n",
       "\n",
       "[158 rows x 2 columns]"
      ]
     },
     "execution_count": 171,
     "metadata": {},
     "output_type": "execute_result"
    }
   ],
   "source": [
    "null_values(autos)"
   ]
  },
  {
   "cell_type": "code",
   "execution_count": 172,
   "metadata": {},
   "outputs": [
    {
     "name": "stdout",
     "output_type": "stream",
     "text": [
      "['make_model', 'price', 'km', 'prev_owner', 'Cylinders', 'Gears', 'BT_Compact', 'BT_Convertible', 'BT_Coupe', 'BT_Off-Road', 'BT_Sedans', 'BT_Station wagon', 'BT_Transporter', 'BT_Van', 'CC_Air conditioning', 'CC_Air suspension', 'CC_Armrest', 'CC_Automatic climate control', 'CC_Auxiliary heating', 'CC_Cruise control', 'CC_Electric Starter', 'CC_Electric tailgate', 'CC_Electrical side mirrors', 'CC_Electrically adjustable seats', 'CC_Electrically heated windshield', 'CC_Heads-up display', 'CC_Heated steering wheel', 'CC_Hill Holder', 'CC_Keyless central door lock', 'CC_Leather seats', 'CC_Leather steering wheel', 'CC_Light sensor', 'CC_Lumbar support', 'CC_Massage seats', 'CC_Multi-function steering wheel', 'CC_Navigation system', 'CC_Panorama roof', 'CC_Park Distance Control', 'CC_Parking assist system camera', 'CC_Parking assist system self-steering', 'CC_Parking assist system sensors front', 'CC_Parking assist system sensors rear', 'CC_Power windows', 'CC_Rain sensor', 'CC_Seat heating', 'CC_Seat ventilation', 'CC_Split rear seats', 'CC_Start-stop system', 'CC_Sunroof', 'CC_Tinted windows', 'CC_Wind deflector', 'CC_Windshield', 'EM_Bluetooth', 'EM_CD player', 'EM_Digital radio', 'EM_Hands-free equipment', 'EM_MP3', 'EM_On-board computer', 'EM_Radio', 'EM_Sound system', 'EM_Television', 'EM_USB', 'EXT_Alloy wheels', 'EXT_Cab or rented Car', 'EXT_Catalytic Converter', 'EXT_Handicapped enabled', 'EXT_Right hand drive', 'EXT_Roof rack', 'EXT_Shift paddles', 'EXT_Ski bag', 'EXT_Sliding door', 'EXT_Sport package', 'EXT_Sport seats', 'EXT_Sport suspension', 'EXT_Touch screen', 'EXT_Trailer hitch', 'EXT_Tuned car', 'EXT_Voice Control', 'EXT_Winter tyres', 'SS_ABS', 'SS_Adaptive Cruise Control', 'SS_Adaptive headlights', 'SS_Alarm system', 'SS_Blind spot monitor', 'SS_Central door lock', 'SS_Central door lock with remote control', 'SS_Daytime running lights', 'SS_Driver drowsiness detection', 'SS_Driver-side airbag', 'SS_Electronic stability control', 'SS_Emergency brake assistant', 'SS_Emergency system', 'SS_Fog lights', 'SS_Head airbag', 'SS_Immobilizer', 'SS_Isofix', 'SS_LED Daytime Running Lights', 'SS_LED Headlights', 'SS_Lane departure warning system', 'SS_Night view assist', 'SS_Passenger-side airbag', 'SS_Power steering', 'SS_Rear airbag', 'SS_Side airbag', 'SS_Tire pressure monitoring system', 'SS_Traction control', 'SS_Traffic sign recognition', 'SS_Xenon headlights', 'consumption_comb', 'GT_Automatic', 'GT_Manual', 'GT_Semi-automatic', 'DC_4WD', 'DC_front', 'DC_rear', 'BC_Beige', 'BC_Black', 'BC_Blue', 'BC_Bronze', 'BC_Brown', 'BC_Gold', 'BC_Green', 'BC_Grey', 'BC_Orange', 'BC_Red', 'BC_Silver', 'BC_Violet', 'BC_White', 'BC_Yellow', 'PT_Metallic', 'PT_Perl effect', 'PT_Uni/basic', 'co2_emission', 'auto_age', 'FT_Diesel', 'FT_Gasoline', 'FT_LPG', 'engine_cc', 'M_Audi', 'M_Opel', 'M_Renault', 'MOD_A1', 'MOD_A2', 'MOD_A3', 'MOD_Astra', 'MOD_Clio', 'MOD_Corsa', 'MOD_Duster', 'MOD_Espace', 'MOD_Insignia', 'num_of_doors', 'num_of_seats', 'TYP_Demonstration', \"TYP_Employee's car\", 'TYP_New', 'TYP_Pre-registered', 'TYP_Used', 'horse_power']\n"
     ]
    }
   ],
   "source": [
    "print(list(autos.columns))"
   ]
  },
  {
   "cell_type": "code",
   "execution_count": 173,
   "metadata": {},
   "outputs": [
    {
     "data": {
      "text/plain": [
       "[]"
      ]
     },
     "execution_count": 173,
     "metadata": {},
     "output_type": "execute_result"
    }
   ],
   "source": [
    "missing_values = []\n",
    "[missing_values.append(i) for i in autos.columns if any(autos[i].isnull())]\n",
    "missing_values"
   ]
  },
  {
   "cell_type": "code",
   "execution_count": 174,
   "metadata": {},
   "outputs": [
    {
     "data": {
      "text/plain": [
       "8594       13\n",
       "8828      120\n",
       "6066      255\n",
       "8829      331\n",
       "8827     4950\n",
       "8825     4990\n",
       "8826     5250\n",
       "8824     5300\n",
       "13770    5445\n",
       "8823     5450\n",
       "Name: price, dtype: int64"
      ]
     },
     "execution_count": 174,
     "metadata": {},
     "output_type": "execute_result"
    }
   ],
   "source": [
    "autos['price'].sort_values().head(10)"
   ]
  },
  {
   "cell_type": "code",
   "execution_count": 175,
   "metadata": {},
   "outputs": [],
   "source": [
    "autos.drop(index = [8594, 8828, 6066,8829], axis = 0, inplace = True)"
   ]
  },
  {
   "cell_type": "code",
   "execution_count": 176,
   "metadata": {},
   "outputs": [
    {
     "data": {
      "text/html": [
       "<div>\n",
       "<style scoped>\n",
       "    .dataframe tbody tr th:only-of-type {\n",
       "        vertical-align: middle;\n",
       "    }\n",
       "\n",
       "    .dataframe tbody tr th {\n",
       "        vertical-align: top;\n",
       "    }\n",
       "\n",
       "    .dataframe thead th {\n",
       "        text-align: right;\n",
       "    }\n",
       "</style>\n",
       "<table border=\"1\" class=\"dataframe\">\n",
       "  <thead>\n",
       "    <tr style=\"text-align: right;\">\n",
       "      <th></th>\n",
       "      <th>make_model</th>\n",
       "      <th>price</th>\n",
       "      <th>km</th>\n",
       "      <th>prev_owner</th>\n",
       "      <th>Cylinders</th>\n",
       "      <th>Gears</th>\n",
       "      <th>BT_Compact</th>\n",
       "      <th>BT_Convertible</th>\n",
       "      <th>BT_Coupe</th>\n",
       "      <th>BT_Off-Road</th>\n",
       "      <th>BT_Sedans</th>\n",
       "      <th>BT_Station wagon</th>\n",
       "      <th>BT_Transporter</th>\n",
       "      <th>BT_Van</th>\n",
       "      <th>CC_Air conditioning</th>\n",
       "      <th>CC_Air suspension</th>\n",
       "      <th>CC_Armrest</th>\n",
       "      <th>CC_Automatic climate control</th>\n",
       "      <th>CC_Auxiliary heating</th>\n",
       "      <th>CC_Cruise control</th>\n",
       "      <th>CC_Electric Starter</th>\n",
       "      <th>CC_Electric tailgate</th>\n",
       "      <th>CC_Electrical side mirrors</th>\n",
       "      <th>CC_Electrically adjustable seats</th>\n",
       "      <th>CC_Electrically heated windshield</th>\n",
       "      <th>CC_Heads-up display</th>\n",
       "      <th>CC_Heated steering wheel</th>\n",
       "      <th>CC_Hill Holder</th>\n",
       "      <th>CC_Keyless central door lock</th>\n",
       "      <th>CC_Leather seats</th>\n",
       "      <th>CC_Leather steering wheel</th>\n",
       "      <th>CC_Light sensor</th>\n",
       "      <th>CC_Lumbar support</th>\n",
       "      <th>CC_Massage seats</th>\n",
       "      <th>CC_Multi-function steering wheel</th>\n",
       "      <th>CC_Navigation system</th>\n",
       "      <th>CC_Panorama roof</th>\n",
       "      <th>CC_Park Distance Control</th>\n",
       "      <th>CC_Parking assist system camera</th>\n",
       "      <th>CC_Parking assist system self-steering</th>\n",
       "      <th>CC_Parking assist system sensors front</th>\n",
       "      <th>CC_Parking assist system sensors rear</th>\n",
       "      <th>CC_Power windows</th>\n",
       "      <th>CC_Rain sensor</th>\n",
       "      <th>CC_Seat heating</th>\n",
       "      <th>CC_Seat ventilation</th>\n",
       "      <th>CC_Split rear seats</th>\n",
       "      <th>CC_Start-stop system</th>\n",
       "      <th>CC_Sunroof</th>\n",
       "      <th>CC_Tinted windows</th>\n",
       "      <th>CC_Wind deflector</th>\n",
       "      <th>CC_Windshield</th>\n",
       "      <th>EM_Bluetooth</th>\n",
       "      <th>EM_CD player</th>\n",
       "      <th>EM_Digital radio</th>\n",
       "      <th>EM_Hands-free equipment</th>\n",
       "      <th>EM_MP3</th>\n",
       "      <th>EM_On-board computer</th>\n",
       "      <th>EM_Radio</th>\n",
       "      <th>EM_Sound system</th>\n",
       "      <th>EM_Television</th>\n",
       "      <th>EM_USB</th>\n",
       "      <th>EXT_Alloy wheels</th>\n",
       "      <th>EXT_Cab or rented Car</th>\n",
       "      <th>EXT_Catalytic Converter</th>\n",
       "      <th>EXT_Handicapped enabled</th>\n",
       "      <th>EXT_Right hand drive</th>\n",
       "      <th>EXT_Roof rack</th>\n",
       "      <th>EXT_Shift paddles</th>\n",
       "      <th>EXT_Ski bag</th>\n",
       "      <th>EXT_Sliding door</th>\n",
       "      <th>EXT_Sport package</th>\n",
       "      <th>EXT_Sport seats</th>\n",
       "      <th>EXT_Sport suspension</th>\n",
       "      <th>EXT_Touch screen</th>\n",
       "      <th>EXT_Trailer hitch</th>\n",
       "      <th>EXT_Tuned car</th>\n",
       "      <th>EXT_Voice Control</th>\n",
       "      <th>EXT_Winter tyres</th>\n",
       "      <th>SS_ABS</th>\n",
       "      <th>SS_Adaptive Cruise Control</th>\n",
       "      <th>SS_Adaptive headlights</th>\n",
       "      <th>SS_Alarm system</th>\n",
       "      <th>SS_Blind spot monitor</th>\n",
       "      <th>SS_Central door lock</th>\n",
       "      <th>SS_Central door lock with remote control</th>\n",
       "      <th>SS_Daytime running lights</th>\n",
       "      <th>SS_Driver drowsiness detection</th>\n",
       "      <th>SS_Driver-side airbag</th>\n",
       "      <th>SS_Electronic stability control</th>\n",
       "      <th>SS_Emergency brake assistant</th>\n",
       "      <th>SS_Emergency system</th>\n",
       "      <th>SS_Fog lights</th>\n",
       "      <th>SS_Head airbag</th>\n",
       "      <th>SS_Immobilizer</th>\n",
       "      <th>SS_Isofix</th>\n",
       "      <th>SS_LED Daytime Running Lights</th>\n",
       "      <th>SS_LED Headlights</th>\n",
       "      <th>SS_Lane departure warning system</th>\n",
       "      <th>SS_Night view assist</th>\n",
       "      <th>SS_Passenger-side airbag</th>\n",
       "      <th>SS_Power steering</th>\n",
       "      <th>SS_Rear airbag</th>\n",
       "      <th>SS_Side airbag</th>\n",
       "      <th>SS_Tire pressure monitoring system</th>\n",
       "      <th>SS_Traction control</th>\n",
       "      <th>SS_Traffic sign recognition</th>\n",
       "      <th>SS_Xenon headlights</th>\n",
       "      <th>consumption_comb</th>\n",
       "      <th>GT_Automatic</th>\n",
       "      <th>GT_Manual</th>\n",
       "      <th>GT_Semi-automatic</th>\n",
       "      <th>DC_4WD</th>\n",
       "      <th>DC_front</th>\n",
       "      <th>DC_rear</th>\n",
       "      <th>BC_Beige</th>\n",
       "      <th>BC_Black</th>\n",
       "      <th>BC_Blue</th>\n",
       "      <th>BC_Bronze</th>\n",
       "      <th>BC_Brown</th>\n",
       "      <th>BC_Gold</th>\n",
       "      <th>BC_Green</th>\n",
       "      <th>BC_Grey</th>\n",
       "      <th>BC_Orange</th>\n",
       "      <th>BC_Red</th>\n",
       "      <th>BC_Silver</th>\n",
       "      <th>BC_Violet</th>\n",
       "      <th>BC_White</th>\n",
       "      <th>BC_Yellow</th>\n",
       "      <th>PT_Metallic</th>\n",
       "      <th>PT_Perl effect</th>\n",
       "      <th>PT_Uni/basic</th>\n",
       "      <th>co2_emission</th>\n",
       "      <th>auto_age</th>\n",
       "      <th>FT_Diesel</th>\n",
       "      <th>FT_Gasoline</th>\n",
       "      <th>FT_LPG</th>\n",
       "      <th>engine_cc</th>\n",
       "      <th>M_Audi</th>\n",
       "      <th>M_Opel</th>\n",
       "      <th>M_Renault</th>\n",
       "      <th>MOD_A1</th>\n",
       "      <th>MOD_A2</th>\n",
       "      <th>MOD_A3</th>\n",
       "      <th>MOD_Astra</th>\n",
       "      <th>MOD_Clio</th>\n",
       "      <th>MOD_Corsa</th>\n",
       "      <th>MOD_Duster</th>\n",
       "      <th>MOD_Espace</th>\n",
       "      <th>MOD_Insignia</th>\n",
       "      <th>num_of_doors</th>\n",
       "      <th>num_of_seats</th>\n",
       "      <th>TYP_Demonstration</th>\n",
       "      <th>TYP_Employee's car</th>\n",
       "      <th>TYP_New</th>\n",
       "      <th>TYP_Pre-registered</th>\n",
       "      <th>TYP_Used</th>\n",
       "      <th>horse_power</th>\n",
       "    </tr>\n",
       "  </thead>\n",
       "  <tbody>\n",
       "    <tr>\n",
       "      <th>0</th>\n",
       "      <td>Audi A1</td>\n",
       "      <td>15770</td>\n",
       "      <td>56013.0</td>\n",
       "      <td>2</td>\n",
       "      <td>3</td>\n",
       "      <td>6</td>\n",
       "      <td>0</td>\n",
       "      <td>0</td>\n",
       "      <td>0</td>\n",
       "      <td>0</td>\n",
       "      <td>1</td>\n",
       "      <td>0</td>\n",
       "      <td>0</td>\n",
       "      <td>0</td>\n",
       "      <td>1</td>\n",
       "      <td>0</td>\n",
       "      <td>1</td>\n",
       "      <td>1</td>\n",
       "      <td>0</td>\n",
       "      <td>1</td>\n",
       "      <td>0</td>\n",
       "      <td>0</td>\n",
       "      <td>1</td>\n",
       "      <td>0</td>\n",
       "      <td>0</td>\n",
       "      <td>0</td>\n",
       "      <td>0</td>\n",
       "      <td>1</td>\n",
       "      <td>0</td>\n",
       "      <td>0</td>\n",
       "      <td>1</td>\n",
       "      <td>1</td>\n",
       "      <td>0</td>\n",
       "      <td>0</td>\n",
       "      <td>1</td>\n",
       "      <td>1</td>\n",
       "      <td>0</td>\n",
       "      <td>1</td>\n",
       "      <td>0</td>\n",
       "      <td>0</td>\n",
       "      <td>0</td>\n",
       "      <td>1</td>\n",
       "      <td>1</td>\n",
       "      <td>1</td>\n",
       "      <td>1</td>\n",
       "      <td>0</td>\n",
       "      <td>0</td>\n",
       "      <td>1</td>\n",
       "      <td>0</td>\n",
       "      <td>0</td>\n",
       "      <td>0</td>\n",
       "      <td>0</td>\n",
       "      <td>1</td>\n",
       "      <td>0</td>\n",
       "      <td>0</td>\n",
       "      <td>1</td>\n",
       "      <td>0</td>\n",
       "      <td>1</td>\n",
       "      <td>1</td>\n",
       "      <td>0</td>\n",
       "      <td>0</td>\n",
       "      <td>0</td>\n",
       "      <td>1</td>\n",
       "      <td>0</td>\n",
       "      <td>1</td>\n",
       "      <td>0</td>\n",
       "      <td>0</td>\n",
       "      <td>0</td>\n",
       "      <td>0</td>\n",
       "      <td>0</td>\n",
       "      <td>0</td>\n",
       "      <td>0</td>\n",
       "      <td>0</td>\n",
       "      <td>0</td>\n",
       "      <td>0</td>\n",
       "      <td>0</td>\n",
       "      <td>0</td>\n",
       "      <td>1</td>\n",
       "      <td>0</td>\n",
       "      <td>1</td>\n",
       "      <td>0</td>\n",
       "      <td>0</td>\n",
       "      <td>0</td>\n",
       "      <td>0</td>\n",
       "      <td>1</td>\n",
       "      <td>0</td>\n",
       "      <td>1</td>\n",
       "      <td>0</td>\n",
       "      <td>1</td>\n",
       "      <td>1</td>\n",
       "      <td>0</td>\n",
       "      <td>0</td>\n",
       "      <td>1</td>\n",
       "      <td>0</td>\n",
       "      <td>1</td>\n",
       "      <td>1</td>\n",
       "      <td>0</td>\n",
       "      <td>0</td>\n",
       "      <td>0</td>\n",
       "      <td>0</td>\n",
       "      <td>1</td>\n",
       "      <td>1</td>\n",
       "      <td>0</td>\n",
       "      <td>1</td>\n",
       "      <td>1</td>\n",
       "      <td>1</td>\n",
       "      <td>0</td>\n",
       "      <td>1</td>\n",
       "      <td>3.8</td>\n",
       "      <td>1</td>\n",
       "      <td>0</td>\n",
       "      <td>0</td>\n",
       "      <td>0</td>\n",
       "      <td>1</td>\n",
       "      <td>0</td>\n",
       "      <td>0</td>\n",
       "      <td>1</td>\n",
       "      <td>0</td>\n",
       "      <td>0</td>\n",
       "      <td>0</td>\n",
       "      <td>0</td>\n",
       "      <td>0</td>\n",
       "      <td>0</td>\n",
       "      <td>0</td>\n",
       "      <td>0</td>\n",
       "      <td>0</td>\n",
       "      <td>0</td>\n",
       "      <td>0</td>\n",
       "      <td>0</td>\n",
       "      <td>1</td>\n",
       "      <td>0</td>\n",
       "      <td>0</td>\n",
       "      <td>99</td>\n",
       "      <td>4.0</td>\n",
       "      <td>1</td>\n",
       "      <td>0</td>\n",
       "      <td>0</td>\n",
       "      <td>1422.0</td>\n",
       "      <td>1</td>\n",
       "      <td>0</td>\n",
       "      <td>0</td>\n",
       "      <td>1</td>\n",
       "      <td>0</td>\n",
       "      <td>0</td>\n",
       "      <td>0</td>\n",
       "      <td>0</td>\n",
       "      <td>0</td>\n",
       "      <td>0</td>\n",
       "      <td>0</td>\n",
       "      <td>0</td>\n",
       "      <td>5</td>\n",
       "      <td>5</td>\n",
       "      <td>0</td>\n",
       "      <td>0</td>\n",
       "      <td>0</td>\n",
       "      <td>0</td>\n",
       "      <td>1</td>\n",
       "      <td>66</td>\n",
       "    </tr>\n",
       "    <tr>\n",
       "      <th>1</th>\n",
       "      <td>Audi A1</td>\n",
       "      <td>14500</td>\n",
       "      <td>80000.0</td>\n",
       "      <td>1</td>\n",
       "      <td>4</td>\n",
       "      <td>7</td>\n",
       "      <td>0</td>\n",
       "      <td>0</td>\n",
       "      <td>0</td>\n",
       "      <td>0</td>\n",
       "      <td>1</td>\n",
       "      <td>0</td>\n",
       "      <td>0</td>\n",
       "      <td>0</td>\n",
       "      <td>1</td>\n",
       "      <td>0</td>\n",
       "      <td>0</td>\n",
       "      <td>1</td>\n",
       "      <td>0</td>\n",
       "      <td>0</td>\n",
       "      <td>0</td>\n",
       "      <td>0</td>\n",
       "      <td>0</td>\n",
       "      <td>0</td>\n",
       "      <td>0</td>\n",
       "      <td>0</td>\n",
       "      <td>0</td>\n",
       "      <td>1</td>\n",
       "      <td>0</td>\n",
       "      <td>0</td>\n",
       "      <td>1</td>\n",
       "      <td>0</td>\n",
       "      <td>1</td>\n",
       "      <td>0</td>\n",
       "      <td>0</td>\n",
       "      <td>0</td>\n",
       "      <td>0</td>\n",
       "      <td>0</td>\n",
       "      <td>0</td>\n",
       "      <td>0</td>\n",
       "      <td>0</td>\n",
       "      <td>1</td>\n",
       "      <td>1</td>\n",
       "      <td>0</td>\n",
       "      <td>0</td>\n",
       "      <td>0</td>\n",
       "      <td>0</td>\n",
       "      <td>1</td>\n",
       "      <td>0</td>\n",
       "      <td>1</td>\n",
       "      <td>0</td>\n",
       "      <td>0</td>\n",
       "      <td>1</td>\n",
       "      <td>0</td>\n",
       "      <td>0</td>\n",
       "      <td>1</td>\n",
       "      <td>0</td>\n",
       "      <td>1</td>\n",
       "      <td>1</td>\n",
       "      <td>1</td>\n",
       "      <td>0</td>\n",
       "      <td>0</td>\n",
       "      <td>1</td>\n",
       "      <td>0</td>\n",
       "      <td>0</td>\n",
       "      <td>0</td>\n",
       "      <td>0</td>\n",
       "      <td>0</td>\n",
       "      <td>0</td>\n",
       "      <td>0</td>\n",
       "      <td>0</td>\n",
       "      <td>0</td>\n",
       "      <td>1</td>\n",
       "      <td>1</td>\n",
       "      <td>0</td>\n",
       "      <td>0</td>\n",
       "      <td>0</td>\n",
       "      <td>1</td>\n",
       "      <td>0</td>\n",
       "      <td>1</td>\n",
       "      <td>0</td>\n",
       "      <td>0</td>\n",
       "      <td>0</td>\n",
       "      <td>0</td>\n",
       "      <td>1</td>\n",
       "      <td>1</td>\n",
       "      <td>1</td>\n",
       "      <td>0</td>\n",
       "      <td>1</td>\n",
       "      <td>1</td>\n",
       "      <td>0</td>\n",
       "      <td>0</td>\n",
       "      <td>0</td>\n",
       "      <td>1</td>\n",
       "      <td>1</td>\n",
       "      <td>1</td>\n",
       "      <td>0</td>\n",
       "      <td>0</td>\n",
       "      <td>0</td>\n",
       "      <td>0</td>\n",
       "      <td>1</td>\n",
       "      <td>1</td>\n",
       "      <td>0</td>\n",
       "      <td>1</td>\n",
       "      <td>1</td>\n",
       "      <td>1</td>\n",
       "      <td>0</td>\n",
       "      <td>1</td>\n",
       "      <td>5.6</td>\n",
       "      <td>1</td>\n",
       "      <td>0</td>\n",
       "      <td>0</td>\n",
       "      <td>0</td>\n",
       "      <td>1</td>\n",
       "      <td>0</td>\n",
       "      <td>0</td>\n",
       "      <td>0</td>\n",
       "      <td>0</td>\n",
       "      <td>0</td>\n",
       "      <td>0</td>\n",
       "      <td>0</td>\n",
       "      <td>0</td>\n",
       "      <td>0</td>\n",
       "      <td>0</td>\n",
       "      <td>1</td>\n",
       "      <td>0</td>\n",
       "      <td>0</td>\n",
       "      <td>0</td>\n",
       "      <td>0</td>\n",
       "      <td>1</td>\n",
       "      <td>0</td>\n",
       "      <td>0</td>\n",
       "      <td>129</td>\n",
       "      <td>3.0</td>\n",
       "      <td>0</td>\n",
       "      <td>1</td>\n",
       "      <td>0</td>\n",
       "      <td>1798.0</td>\n",
       "      <td>1</td>\n",
       "      <td>0</td>\n",
       "      <td>0</td>\n",
       "      <td>1</td>\n",
       "      <td>0</td>\n",
       "      <td>0</td>\n",
       "      <td>0</td>\n",
       "      <td>0</td>\n",
       "      <td>0</td>\n",
       "      <td>0</td>\n",
       "      <td>0</td>\n",
       "      <td>0</td>\n",
       "      <td>3</td>\n",
       "      <td>4</td>\n",
       "      <td>0</td>\n",
       "      <td>0</td>\n",
       "      <td>0</td>\n",
       "      <td>0</td>\n",
       "      <td>1</td>\n",
       "      <td>141</td>\n",
       "    </tr>\n",
       "    <tr>\n",
       "      <th>2</th>\n",
       "      <td>Audi A1</td>\n",
       "      <td>14640</td>\n",
       "      <td>83450.0</td>\n",
       "      <td>1</td>\n",
       "      <td>3</td>\n",
       "      <td>6</td>\n",
       "      <td>0</td>\n",
       "      <td>0</td>\n",
       "      <td>0</td>\n",
       "      <td>0</td>\n",
       "      <td>1</td>\n",
       "      <td>0</td>\n",
       "      <td>0</td>\n",
       "      <td>0</td>\n",
       "      <td>1</td>\n",
       "      <td>0</td>\n",
       "      <td>0</td>\n",
       "      <td>0</td>\n",
       "      <td>0</td>\n",
       "      <td>1</td>\n",
       "      <td>0</td>\n",
       "      <td>0</td>\n",
       "      <td>1</td>\n",
       "      <td>0</td>\n",
       "      <td>0</td>\n",
       "      <td>0</td>\n",
       "      <td>0</td>\n",
       "      <td>1</td>\n",
       "      <td>0</td>\n",
       "      <td>0</td>\n",
       "      <td>1</td>\n",
       "      <td>0</td>\n",
       "      <td>0</td>\n",
       "      <td>0</td>\n",
       "      <td>1</td>\n",
       "      <td>1</td>\n",
       "      <td>0</td>\n",
       "      <td>1</td>\n",
       "      <td>0</td>\n",
       "      <td>0</td>\n",
       "      <td>1</td>\n",
       "      <td>1</td>\n",
       "      <td>1</td>\n",
       "      <td>0</td>\n",
       "      <td>1</td>\n",
       "      <td>0</td>\n",
       "      <td>0</td>\n",
       "      <td>1</td>\n",
       "      <td>0</td>\n",
       "      <td>0</td>\n",
       "      <td>0</td>\n",
       "      <td>0</td>\n",
       "      <td>0</td>\n",
       "      <td>0</td>\n",
       "      <td>0</td>\n",
       "      <td>0</td>\n",
       "      <td>1</td>\n",
       "      <td>1</td>\n",
       "      <td>0</td>\n",
       "      <td>0</td>\n",
       "      <td>0</td>\n",
       "      <td>0</td>\n",
       "      <td>1</td>\n",
       "      <td>0</td>\n",
       "      <td>0</td>\n",
       "      <td>0</td>\n",
       "      <td>0</td>\n",
       "      <td>0</td>\n",
       "      <td>0</td>\n",
       "      <td>0</td>\n",
       "      <td>0</td>\n",
       "      <td>0</td>\n",
       "      <td>0</td>\n",
       "      <td>0</td>\n",
       "      <td>0</td>\n",
       "      <td>0</td>\n",
       "      <td>0</td>\n",
       "      <td>1</td>\n",
       "      <td>0</td>\n",
       "      <td>1</td>\n",
       "      <td>0</td>\n",
       "      <td>0</td>\n",
       "      <td>0</td>\n",
       "      <td>0</td>\n",
       "      <td>1</td>\n",
       "      <td>0</td>\n",
       "      <td>1</td>\n",
       "      <td>0</td>\n",
       "      <td>1</td>\n",
       "      <td>1</td>\n",
       "      <td>0</td>\n",
       "      <td>0</td>\n",
       "      <td>0</td>\n",
       "      <td>0</td>\n",
       "      <td>1</td>\n",
       "      <td>1</td>\n",
       "      <td>0</td>\n",
       "      <td>0</td>\n",
       "      <td>0</td>\n",
       "      <td>0</td>\n",
       "      <td>1</td>\n",
       "      <td>1</td>\n",
       "      <td>0</td>\n",
       "      <td>1</td>\n",
       "      <td>1</td>\n",
       "      <td>1</td>\n",
       "      <td>0</td>\n",
       "      <td>0</td>\n",
       "      <td>3.8</td>\n",
       "      <td>1</td>\n",
       "      <td>0</td>\n",
       "      <td>0</td>\n",
       "      <td>0</td>\n",
       "      <td>1</td>\n",
       "      <td>0</td>\n",
       "      <td>0</td>\n",
       "      <td>1</td>\n",
       "      <td>0</td>\n",
       "      <td>0</td>\n",
       "      <td>0</td>\n",
       "      <td>0</td>\n",
       "      <td>0</td>\n",
       "      <td>0</td>\n",
       "      <td>0</td>\n",
       "      <td>0</td>\n",
       "      <td>0</td>\n",
       "      <td>0</td>\n",
       "      <td>0</td>\n",
       "      <td>0</td>\n",
       "      <td>1</td>\n",
       "      <td>0</td>\n",
       "      <td>0</td>\n",
       "      <td>99</td>\n",
       "      <td>4.0</td>\n",
       "      <td>1</td>\n",
       "      <td>0</td>\n",
       "      <td>0</td>\n",
       "      <td>1598.0</td>\n",
       "      <td>1</td>\n",
       "      <td>0</td>\n",
       "      <td>0</td>\n",
       "      <td>1</td>\n",
       "      <td>0</td>\n",
       "      <td>0</td>\n",
       "      <td>0</td>\n",
       "      <td>0</td>\n",
       "      <td>0</td>\n",
       "      <td>0</td>\n",
       "      <td>0</td>\n",
       "      <td>0</td>\n",
       "      <td>4</td>\n",
       "      <td>4</td>\n",
       "      <td>0</td>\n",
       "      <td>0</td>\n",
       "      <td>0</td>\n",
       "      <td>0</td>\n",
       "      <td>1</td>\n",
       "      <td>85</td>\n",
       "    </tr>\n",
       "    <tr>\n",
       "      <th>3</th>\n",
       "      <td>Audi A1</td>\n",
       "      <td>14500</td>\n",
       "      <td>73000.0</td>\n",
       "      <td>1</td>\n",
       "      <td>3</td>\n",
       "      <td>6</td>\n",
       "      <td>0</td>\n",
       "      <td>0</td>\n",
       "      <td>0</td>\n",
       "      <td>0</td>\n",
       "      <td>1</td>\n",
       "      <td>0</td>\n",
       "      <td>0</td>\n",
       "      <td>0</td>\n",
       "      <td>0</td>\n",
       "      <td>1</td>\n",
       "      <td>1</td>\n",
       "      <td>0</td>\n",
       "      <td>1</td>\n",
       "      <td>0</td>\n",
       "      <td>0</td>\n",
       "      <td>0</td>\n",
       "      <td>1</td>\n",
       "      <td>0</td>\n",
       "      <td>0</td>\n",
       "      <td>1</td>\n",
       "      <td>0</td>\n",
       "      <td>1</td>\n",
       "      <td>0</td>\n",
       "      <td>0</td>\n",
       "      <td>1</td>\n",
       "      <td>1</td>\n",
       "      <td>1</td>\n",
       "      <td>0</td>\n",
       "      <td>1</td>\n",
       "      <td>1</td>\n",
       "      <td>0</td>\n",
       "      <td>0</td>\n",
       "      <td>0</td>\n",
       "      <td>0</td>\n",
       "      <td>0</td>\n",
       "      <td>0</td>\n",
       "      <td>1</td>\n",
       "      <td>1</td>\n",
       "      <td>1</td>\n",
       "      <td>0</td>\n",
       "      <td>1</td>\n",
       "      <td>1</td>\n",
       "      <td>0</td>\n",
       "      <td>0</td>\n",
       "      <td>0</td>\n",
       "      <td>0</td>\n",
       "      <td>1</td>\n",
       "      <td>1</td>\n",
       "      <td>0</td>\n",
       "      <td>1</td>\n",
       "      <td>1</td>\n",
       "      <td>1</td>\n",
       "      <td>1</td>\n",
       "      <td>1</td>\n",
       "      <td>0</td>\n",
       "      <td>1</td>\n",
       "      <td>1</td>\n",
       "      <td>0</td>\n",
       "      <td>0</td>\n",
       "      <td>0</td>\n",
       "      <td>0</td>\n",
       "      <td>0</td>\n",
       "      <td>0</td>\n",
       "      <td>0</td>\n",
       "      <td>0</td>\n",
       "      <td>0</td>\n",
       "      <td>1</td>\n",
       "      <td>0</td>\n",
       "      <td>0</td>\n",
       "      <td>0</td>\n",
       "      <td>0</td>\n",
       "      <td>1</td>\n",
       "      <td>0</td>\n",
       "      <td>1</td>\n",
       "      <td>0</td>\n",
       "      <td>0</td>\n",
       "      <td>1</td>\n",
       "      <td>0</td>\n",
       "      <td>0</td>\n",
       "      <td>1</td>\n",
       "      <td>0</td>\n",
       "      <td>1</td>\n",
       "      <td>1</td>\n",
       "      <td>1</td>\n",
       "      <td>0</td>\n",
       "      <td>1</td>\n",
       "      <td>0</td>\n",
       "      <td>1</td>\n",
       "      <td>1</td>\n",
       "      <td>1</td>\n",
       "      <td>0</td>\n",
       "      <td>0</td>\n",
       "      <td>0</td>\n",
       "      <td>0</td>\n",
       "      <td>1</td>\n",
       "      <td>1</td>\n",
       "      <td>0</td>\n",
       "      <td>1</td>\n",
       "      <td>1</td>\n",
       "      <td>0</td>\n",
       "      <td>0</td>\n",
       "      <td>0</td>\n",
       "      <td>3.8</td>\n",
       "      <td>1</td>\n",
       "      <td>0</td>\n",
       "      <td>0</td>\n",
       "      <td>0</td>\n",
       "      <td>1</td>\n",
       "      <td>0</td>\n",
       "      <td>0</td>\n",
       "      <td>0</td>\n",
       "      <td>0</td>\n",
       "      <td>0</td>\n",
       "      <td>1</td>\n",
       "      <td>0</td>\n",
       "      <td>0</td>\n",
       "      <td>0</td>\n",
       "      <td>0</td>\n",
       "      <td>0</td>\n",
       "      <td>0</td>\n",
       "      <td>0</td>\n",
       "      <td>0</td>\n",
       "      <td>0</td>\n",
       "      <td>1</td>\n",
       "      <td>0</td>\n",
       "      <td>0</td>\n",
       "      <td>99</td>\n",
       "      <td>4.0</td>\n",
       "      <td>1</td>\n",
       "      <td>0</td>\n",
       "      <td>0</td>\n",
       "      <td>1422.0</td>\n",
       "      <td>1</td>\n",
       "      <td>0</td>\n",
       "      <td>0</td>\n",
       "      <td>1</td>\n",
       "      <td>0</td>\n",
       "      <td>0</td>\n",
       "      <td>0</td>\n",
       "      <td>0</td>\n",
       "      <td>0</td>\n",
       "      <td>0</td>\n",
       "      <td>0</td>\n",
       "      <td>0</td>\n",
       "      <td>3</td>\n",
       "      <td>4</td>\n",
       "      <td>0</td>\n",
       "      <td>0</td>\n",
       "      <td>0</td>\n",
       "      <td>0</td>\n",
       "      <td>1</td>\n",
       "      <td>66</td>\n",
       "    </tr>\n",
       "    <tr>\n",
       "      <th>4</th>\n",
       "      <td>Audi A1</td>\n",
       "      <td>16790</td>\n",
       "      <td>16200.0</td>\n",
       "      <td>1</td>\n",
       "      <td>3</td>\n",
       "      <td>6</td>\n",
       "      <td>0</td>\n",
       "      <td>0</td>\n",
       "      <td>0</td>\n",
       "      <td>0</td>\n",
       "      <td>1</td>\n",
       "      <td>0</td>\n",
       "      <td>0</td>\n",
       "      <td>0</td>\n",
       "      <td>1</td>\n",
       "      <td>0</td>\n",
       "      <td>1</td>\n",
       "      <td>1</td>\n",
       "      <td>0</td>\n",
       "      <td>0</td>\n",
       "      <td>0</td>\n",
       "      <td>0</td>\n",
       "      <td>1</td>\n",
       "      <td>0</td>\n",
       "      <td>0</td>\n",
       "      <td>0</td>\n",
       "      <td>0</td>\n",
       "      <td>1</td>\n",
       "      <td>0</td>\n",
       "      <td>0</td>\n",
       "      <td>1</td>\n",
       "      <td>1</td>\n",
       "      <td>0</td>\n",
       "      <td>0</td>\n",
       "      <td>1</td>\n",
       "      <td>0</td>\n",
       "      <td>0</td>\n",
       "      <td>1</td>\n",
       "      <td>0</td>\n",
       "      <td>0</td>\n",
       "      <td>0</td>\n",
       "      <td>1</td>\n",
       "      <td>1</td>\n",
       "      <td>1</td>\n",
       "      <td>0</td>\n",
       "      <td>0</td>\n",
       "      <td>0</td>\n",
       "      <td>1</td>\n",
       "      <td>0</td>\n",
       "      <td>0</td>\n",
       "      <td>0</td>\n",
       "      <td>0</td>\n",
       "      <td>1</td>\n",
       "      <td>1</td>\n",
       "      <td>0</td>\n",
       "      <td>1</td>\n",
       "      <td>1</td>\n",
       "      <td>1</td>\n",
       "      <td>1</td>\n",
       "      <td>0</td>\n",
       "      <td>0</td>\n",
       "      <td>1</td>\n",
       "      <td>1</td>\n",
       "      <td>0</td>\n",
       "      <td>0</td>\n",
       "      <td>0</td>\n",
       "      <td>0</td>\n",
       "      <td>0</td>\n",
       "      <td>0</td>\n",
       "      <td>0</td>\n",
       "      <td>0</td>\n",
       "      <td>1</td>\n",
       "      <td>0</td>\n",
       "      <td>1</td>\n",
       "      <td>0</td>\n",
       "      <td>0</td>\n",
       "      <td>0</td>\n",
       "      <td>1</td>\n",
       "      <td>0</td>\n",
       "      <td>1</td>\n",
       "      <td>0</td>\n",
       "      <td>0</td>\n",
       "      <td>0</td>\n",
       "      <td>0</td>\n",
       "      <td>1</td>\n",
       "      <td>0</td>\n",
       "      <td>0</td>\n",
       "      <td>0</td>\n",
       "      <td>1</td>\n",
       "      <td>1</td>\n",
       "      <td>0</td>\n",
       "      <td>0</td>\n",
       "      <td>1</td>\n",
       "      <td>0</td>\n",
       "      <td>1</td>\n",
       "      <td>1</td>\n",
       "      <td>0</td>\n",
       "      <td>0</td>\n",
       "      <td>0</td>\n",
       "      <td>0</td>\n",
       "      <td>1</td>\n",
       "      <td>1</td>\n",
       "      <td>0</td>\n",
       "      <td>1</td>\n",
       "      <td>1</td>\n",
       "      <td>1</td>\n",
       "      <td>0</td>\n",
       "      <td>1</td>\n",
       "      <td>4.1</td>\n",
       "      <td>1</td>\n",
       "      <td>0</td>\n",
       "      <td>0</td>\n",
       "      <td>0</td>\n",
       "      <td>1</td>\n",
       "      <td>0</td>\n",
       "      <td>0</td>\n",
       "      <td>1</td>\n",
       "      <td>0</td>\n",
       "      <td>0</td>\n",
       "      <td>0</td>\n",
       "      <td>0</td>\n",
       "      <td>0</td>\n",
       "      <td>0</td>\n",
       "      <td>0</td>\n",
       "      <td>0</td>\n",
       "      <td>0</td>\n",
       "      <td>0</td>\n",
       "      <td>0</td>\n",
       "      <td>0</td>\n",
       "      <td>1</td>\n",
       "      <td>0</td>\n",
       "      <td>0</td>\n",
       "      <td>109</td>\n",
       "      <td>4.0</td>\n",
       "      <td>1</td>\n",
       "      <td>0</td>\n",
       "      <td>0</td>\n",
       "      <td>1422.0</td>\n",
       "      <td>1</td>\n",
       "      <td>0</td>\n",
       "      <td>0</td>\n",
       "      <td>1</td>\n",
       "      <td>0</td>\n",
       "      <td>0</td>\n",
       "      <td>0</td>\n",
       "      <td>0</td>\n",
       "      <td>0</td>\n",
       "      <td>0</td>\n",
       "      <td>0</td>\n",
       "      <td>0</td>\n",
       "      <td>5</td>\n",
       "      <td>5</td>\n",
       "      <td>0</td>\n",
       "      <td>0</td>\n",
       "      <td>0</td>\n",
       "      <td>0</td>\n",
       "      <td>1</td>\n",
       "      <td>66</td>\n",
       "    </tr>\n",
       "  </tbody>\n",
       "</table>\n",
       "</div>"
      ],
      "text/plain": [
       "  make_model  price       km prev_owner Cylinders Gears  BT_Compact  \\\n",
       "0    Audi A1  15770  56013.0          2         3     6           0   \n",
       "1    Audi A1  14500  80000.0          1         4     7           0   \n",
       "2    Audi A1  14640  83450.0          1         3     6           0   \n",
       "3    Audi A1  14500  73000.0          1         3     6           0   \n",
       "4    Audi A1  16790  16200.0          1         3     6           0   \n",
       "\n",
       "   BT_Convertible  BT_Coupe  BT_Off-Road  BT_Sedans  BT_Station wagon  \\\n",
       "0               0         0            0          1                 0   \n",
       "1               0         0            0          1                 0   \n",
       "2               0         0            0          1                 0   \n",
       "3               0         0            0          1                 0   \n",
       "4               0         0            0          1                 0   \n",
       "\n",
       "   BT_Transporter  BT_Van  CC_Air conditioning  CC_Air suspension  CC_Armrest  \\\n",
       "0               0       0                    1                  0           1   \n",
       "1               0       0                    1                  0           0   \n",
       "2               0       0                    1                  0           0   \n",
       "3               0       0                    0                  1           1   \n",
       "4               0       0                    1                  0           1   \n",
       "\n",
       "   CC_Automatic climate control  CC_Auxiliary heating  CC_Cruise control  \\\n",
       "0                             1                     0                  1   \n",
       "1                             1                     0                  0   \n",
       "2                             0                     0                  1   \n",
       "3                             0                     1                  0   \n",
       "4                             1                     0                  0   \n",
       "\n",
       "   CC_Electric Starter  CC_Electric tailgate  CC_Electrical side mirrors  \\\n",
       "0                    0                     0                           1   \n",
       "1                    0                     0                           0   \n",
       "2                    0                     0                           1   \n",
       "3                    0                     0                           1   \n",
       "4                    0                     0                           1   \n",
       "\n",
       "   CC_Electrically adjustable seats  CC_Electrically heated windshield  \\\n",
       "0                                 0                                  0   \n",
       "1                                 0                                  0   \n",
       "2                                 0                                  0   \n",
       "3                                 0                                  0   \n",
       "4                                 0                                  0   \n",
       "\n",
       "   CC_Heads-up display  CC_Heated steering wheel  CC_Hill Holder  \\\n",
       "0                    0                         0               1   \n",
       "1                    0                         0               1   \n",
       "2                    0                         0               1   \n",
       "3                    1                         0               1   \n",
       "4                    0                         0               1   \n",
       "\n",
       "   CC_Keyless central door lock  CC_Leather seats  CC_Leather steering wheel  \\\n",
       "0                             0                 0                          1   \n",
       "1                             0                 0                          1   \n",
       "2                             0                 0                          1   \n",
       "3                             0                 0                          1   \n",
       "4                             0                 0                          1   \n",
       "\n",
       "   CC_Light sensor  CC_Lumbar support  CC_Massage seats  \\\n",
       "0                1                  0                 0   \n",
       "1                0                  1                 0   \n",
       "2                0                  0                 0   \n",
       "3                1                  1                 0   \n",
       "4                1                  0                 0   \n",
       "\n",
       "   CC_Multi-function steering wheel  CC_Navigation system  CC_Panorama roof  \\\n",
       "0                                 1                     1                 0   \n",
       "1                                 0                     0                 0   \n",
       "2                                 1                     1                 0   \n",
       "3                                 1                     1                 0   \n",
       "4                                 1                     0                 0   \n",
       "\n",
       "   CC_Park Distance Control  CC_Parking assist system camera  \\\n",
       "0                         1                                0   \n",
       "1                         0                                0   \n",
       "2                         1                                0   \n",
       "3                         0                                0   \n",
       "4                         1                                0   \n",
       "\n",
       "   CC_Parking assist system self-steering  \\\n",
       "0                                       0   \n",
       "1                                       0   \n",
       "2                                       0   \n",
       "3                                       0   \n",
       "4                                       0   \n",
       "\n",
       "   CC_Parking assist system sensors front  \\\n",
       "0                                       0   \n",
       "1                                       0   \n",
       "2                                       1   \n",
       "3                                       0   \n",
       "4                                       0   \n",
       "\n",
       "   CC_Parking assist system sensors rear  CC_Power windows  CC_Rain sensor  \\\n",
       "0                                      1                 1               1   \n",
       "1                                      1                 1               0   \n",
       "2                                      1                 1               0   \n",
       "3                                      0                 1               1   \n",
       "4                                      1                 1               1   \n",
       "\n",
       "   CC_Seat heating  CC_Seat ventilation  CC_Split rear seats  \\\n",
       "0                1                    0                    0   \n",
       "1                0                    0                    0   \n",
       "2                1                    0                    0   \n",
       "3                1                    0                    1   \n",
       "4                0                    0                    0   \n",
       "\n",
       "   CC_Start-stop system  CC_Sunroof  CC_Tinted windows  CC_Wind deflector  \\\n",
       "0                     1           0                  0                  0   \n",
       "1                     1           0                  1                  0   \n",
       "2                     1           0                  0                  0   \n",
       "3                     1           0                  0                  0   \n",
       "4                     1           0                  0                  0   \n",
       "\n",
       "   CC_Windshield  EM_Bluetooth  EM_CD player  EM_Digital radio  \\\n",
       "0              0             1             0                 0   \n",
       "1              0             1             0                 0   \n",
       "2              0             0             0                 0   \n",
       "3              0             1             1                 0   \n",
       "4              0             1             1                 0   \n",
       "\n",
       "   EM_Hands-free equipment  EM_MP3  EM_On-board computer  EM_Radio  \\\n",
       "0                        1       0                     1         1   \n",
       "1                        1       0                     1         1   \n",
       "2                        0       1                     1         0   \n",
       "3                        1       1                     1         1   \n",
       "4                        1       1                     1         1   \n",
       "\n",
       "   EM_Sound system  EM_Television  EM_USB  EXT_Alloy wheels  \\\n",
       "0                0              0       0                 1   \n",
       "1                1              0       0                 1   \n",
       "2                0              0       0                 1   \n",
       "3                1              0       1                 1   \n",
       "4                0              0       1                 1   \n",
       "\n",
       "   EXT_Cab or rented Car  EXT_Catalytic Converter  EXT_Handicapped enabled  \\\n",
       "0                      0                        1                        0   \n",
       "1                      0                        0                        0   \n",
       "2                      0                        0                        0   \n",
       "3                      0                        0                        0   \n",
       "4                      0                        0                        0   \n",
       "\n",
       "   EXT_Right hand drive  EXT_Roof rack  EXT_Shift paddles  EXT_Ski bag  \\\n",
       "0                     0              0                  0            0   \n",
       "1                     0              0                  0            0   \n",
       "2                     0              0                  0            0   \n",
       "3                     0              0                  0            0   \n",
       "4                     0              0                  0            0   \n",
       "\n",
       "   EXT_Sliding door  EXT_Sport package  EXT_Sport seats  EXT_Sport suspension  \\\n",
       "0                 0                  0                0                     0   \n",
       "1                 0                  0                1                     1   \n",
       "2                 0                  0                0                     0   \n",
       "3                 0                  0                1                     0   \n",
       "4                 0                  1                0                     1   \n",
       "\n",
       "   EXT_Touch screen  EXT_Trailer hitch  EXT_Tuned car  EXT_Voice Control  \\\n",
       "0                 0                  0              0                  1   \n",
       "1                 0                  0              0                  1   \n",
       "2                 0                  0              0                  1   \n",
       "3                 0                  0              0                  1   \n",
       "4                 0                  0              0                  1   \n",
       "\n",
       "   EXT_Winter tyres  SS_ABS  SS_Adaptive Cruise Control  \\\n",
       "0                 0       1                           0   \n",
       "1                 0       1                           0   \n",
       "2                 0       1                           0   \n",
       "3                 0       1                           0   \n",
       "4                 0       1                           0   \n",
       "\n",
       "   SS_Adaptive headlights  SS_Alarm system  SS_Blind spot monitor  \\\n",
       "0                       0                0                      0   \n",
       "1                       0                0                      0   \n",
       "2                       0                0                      0   \n",
       "3                       0                1                      0   \n",
       "4                       0                0                      0   \n",
       "\n",
       "   SS_Central door lock  SS_Central door lock with remote control  \\\n",
       "0                     1                                         0   \n",
       "1                     1                                         1   \n",
       "2                     1                                         0   \n",
       "3                     0                                         1   \n",
       "4                     1                                         0   \n",
       "\n",
       "   SS_Daytime running lights  SS_Driver drowsiness detection  \\\n",
       "0                          1                               0   \n",
       "1                          1                               0   \n",
       "2                          1                               0   \n",
       "3                          0                               1   \n",
       "4                          0                               0   \n",
       "\n",
       "   SS_Driver-side airbag  SS_Electronic stability control  \\\n",
       "0                      1                                1   \n",
       "1                      1                                1   \n",
       "2                      1                                1   \n",
       "3                      1                                1   \n",
       "4                      1                                1   \n",
       "\n",
       "   SS_Emergency brake assistant  SS_Emergency system  SS_Fog lights  \\\n",
       "0                             0                    0              1   \n",
       "1                             0                    0              0   \n",
       "2                             0                    0              0   \n",
       "3                             0                    1              0   \n",
       "4                             0                    0              1   \n",
       "\n",
       "   SS_Head airbag  SS_Immobilizer  SS_Isofix  SS_LED Daytime Running Lights  \\\n",
       "0               0               1          1                              0   \n",
       "1               1               1          1                              0   \n",
       "2               0               1          1                              0   \n",
       "3               1               1          1                              0   \n",
       "4               0               1          1                              0   \n",
       "\n",
       "   SS_LED Headlights  SS_Lane departure warning system  SS_Night view assist  \\\n",
       "0                  0                                 0                     0   \n",
       "1                  0                                 0                     0   \n",
       "2                  0                                 0                     0   \n",
       "3                  0                                 0                     0   \n",
       "4                  0                                 0                     0   \n",
       "\n",
       "   SS_Passenger-side airbag  SS_Power steering  SS_Rear airbag  \\\n",
       "0                         1                  1               0   \n",
       "1                         1                  1               0   \n",
       "2                         1                  1               0   \n",
       "3                         1                  1               0   \n",
       "4                         1                  1               0   \n",
       "\n",
       "   SS_Side airbag  SS_Tire pressure monitoring system  SS_Traction control  \\\n",
       "0               1                                   1                    1   \n",
       "1               1                                   1                    1   \n",
       "2               1                                   1                    1   \n",
       "3               1                                   1                    0   \n",
       "4               1                                   1                    1   \n",
       "\n",
       "   SS_Traffic sign recognition  SS_Xenon headlights consumption_comb  \\\n",
       "0                            0                    1              3.8   \n",
       "1                            0                    1              5.6   \n",
       "2                            0                    0              3.8   \n",
       "3                            0                    0              3.8   \n",
       "4                            0                    1              4.1   \n",
       "\n",
       "   GT_Automatic  GT_Manual  GT_Semi-automatic  DC_4WD  DC_front  DC_rear  \\\n",
       "0             1          0                  0       0         1        0   \n",
       "1             1          0                  0       0         1        0   \n",
       "2             1          0                  0       0         1        0   \n",
       "3             1          0                  0       0         1        0   \n",
       "4             1          0                  0       0         1        0   \n",
       "\n",
       "   BC_Beige  BC_Black  BC_Blue  BC_Bronze  BC_Brown  BC_Gold  BC_Green  \\\n",
       "0         0         1        0          0         0        0         0   \n",
       "1         0         0        0          0         0        0         0   \n",
       "2         0         1        0          0         0        0         0   \n",
       "3         0         0        0          0         1        0         0   \n",
       "4         0         1        0          0         0        0         0   \n",
       "\n",
       "   BC_Grey  BC_Orange  BC_Red  BC_Silver  BC_Violet  BC_White  BC_Yellow  \\\n",
       "0        0          0       0          0          0         0          0   \n",
       "1        0          0       1          0          0         0          0   \n",
       "2        0          0       0          0          0         0          0   \n",
       "3        0          0       0          0          0         0          0   \n",
       "4        0          0       0          0          0         0          0   \n",
       "\n",
       "   PT_Metallic  PT_Perl effect  PT_Uni/basic co2_emission  auto_age  \\\n",
       "0            1               0             0           99       4.0   \n",
       "1            1               0             0          129       3.0   \n",
       "2            1               0             0           99       4.0   \n",
       "3            1               0             0           99       4.0   \n",
       "4            1               0             0          109       4.0   \n",
       "\n",
       "   FT_Diesel  FT_Gasoline  FT_LPG  engine_cc  M_Audi  M_Opel  M_Renault  \\\n",
       "0          1            0       0     1422.0       1       0          0   \n",
       "1          0            1       0     1798.0       1       0          0   \n",
       "2          1            0       0     1598.0       1       0          0   \n",
       "3          1            0       0     1422.0       1       0          0   \n",
       "4          1            0       0     1422.0       1       0          0   \n",
       "\n",
       "   MOD_A1  MOD_A2  MOD_A3  MOD_Astra  MOD_Clio  MOD_Corsa  MOD_Duster  \\\n",
       "0       1       0       0          0         0          0           0   \n",
       "1       1       0       0          0         0          0           0   \n",
       "2       1       0       0          0         0          0           0   \n",
       "3       1       0       0          0         0          0           0   \n",
       "4       1       0       0          0         0          0           0   \n",
       "\n",
       "   MOD_Espace  MOD_Insignia num_of_doors num_of_seats  TYP_Demonstration  \\\n",
       "0           0             0            5            5                  0   \n",
       "1           0             0            3            4                  0   \n",
       "2           0             0            4            4                  0   \n",
       "3           0             0            3            4                  0   \n",
       "4           0             0            5            5                  0   \n",
       "\n",
       "   TYP_Employee's car  TYP_New  TYP_Pre-registered  TYP_Used  horse_power  \n",
       "0                   0        0                   0         1           66  \n",
       "1                   0        0                   0         1          141  \n",
       "2                   0        0                   0         1           85  \n",
       "3                   0        0                   0         1           66  \n",
       "4                   0        0                   0         1           66  "
      ]
     },
     "execution_count": 176,
     "metadata": {},
     "output_type": "execute_result"
    }
   ],
   "source": [
    "autos.head()"
   ]
  },
  {
   "cell_type": "code",
   "execution_count": 177,
   "metadata": {},
   "outputs": [],
   "source": [
    "autos.drop('make_model', axis = 1, inplace = True)"
   ]
  },
  {
   "cell_type": "code",
   "execution_count": 178,
   "metadata": {},
   "outputs": [
    {
     "data": {
      "text/plain": [
       "6.0     9358\n",
       "5.0     4411\n",
       "7.0     1908\n",
       "8.0      224\n",
       "9.0        6\n",
       "4.0        2\n",
       "3.0        2\n",
       "1.0        2\n",
       "Used       1\n",
       "2.0        1\n",
       "Name: Gears, dtype: int64"
      ]
     },
     "execution_count": 178,
     "metadata": {},
     "output_type": "execute_result"
    }
   ],
   "source": [
    "autos['Gears'].value_counts()"
   ]
  },
  {
   "cell_type": "code",
   "execution_count": 179,
   "metadata": {},
   "outputs": [
    {
     "data": {
      "text/plain": [
       "4.0     12923\n",
       "3.0      2961\n",
       "5.0        22\n",
       "6.0         3\n",
       "8.0         2\n",
       "2.0         2\n",
       "Used        1\n",
       "1.0         1\n",
       "Name: Cylinders, dtype: int64"
      ]
     },
     "execution_count": 179,
     "metadata": {},
     "output_type": "execute_result"
    }
   ],
   "source": [
    "autos['Cylinders'].value_counts()"
   ]
  },
  {
   "cell_type": "code",
   "execution_count": 180,
   "metadata": {},
   "outputs": [
    {
     "data": {
      "text/html": [
       "<div>\n",
       "<style scoped>\n",
       "    .dataframe tbody tr th:only-of-type {\n",
       "        vertical-align: middle;\n",
       "    }\n",
       "\n",
       "    .dataframe tbody tr th {\n",
       "        vertical-align: top;\n",
       "    }\n",
       "\n",
       "    .dataframe thead th {\n",
       "        text-align: right;\n",
       "    }\n",
       "</style>\n",
       "<table border=\"1\" class=\"dataframe\">\n",
       "  <thead>\n",
       "    <tr style=\"text-align: right;\">\n",
       "      <th></th>\n",
       "      <th>Cylinders</th>\n",
       "      <th>Gears</th>\n",
       "    </tr>\n",
       "  </thead>\n",
       "  <tbody>\n",
       "    <tr>\n",
       "      <th>0</th>\n",
       "      <td>3.0</td>\n",
       "      <td>6.0</td>\n",
       "    </tr>\n",
       "    <tr>\n",
       "      <th>1</th>\n",
       "      <td>4.0</td>\n",
       "      <td>7.0</td>\n",
       "    </tr>\n",
       "    <tr>\n",
       "      <th>2</th>\n",
       "      <td>3.0</td>\n",
       "      <td>6.0</td>\n",
       "    </tr>\n",
       "    <tr>\n",
       "      <th>3</th>\n",
       "      <td>3.0</td>\n",
       "      <td>6.0</td>\n",
       "    </tr>\n",
       "    <tr>\n",
       "      <th>4</th>\n",
       "      <td>3.0</td>\n",
       "      <td>6.0</td>\n",
       "    </tr>\n",
       "    <tr>\n",
       "      <th>...</th>\n",
       "      <td>...</td>\n",
       "      <td>...</td>\n",
       "    </tr>\n",
       "    <tr>\n",
       "      <th>15914</th>\n",
       "      <td>4.0</td>\n",
       "      <td>6.0</td>\n",
       "    </tr>\n",
       "    <tr>\n",
       "      <th>15915</th>\n",
       "      <td>4.0</td>\n",
       "      <td>7.0</td>\n",
       "    </tr>\n",
       "    <tr>\n",
       "      <th>15916</th>\n",
       "      <td>4.0</td>\n",
       "      <td>6.0</td>\n",
       "    </tr>\n",
       "    <tr>\n",
       "      <th>15917</th>\n",
       "      <td>4.0</td>\n",
       "      <td>6.0</td>\n",
       "    </tr>\n",
       "    <tr>\n",
       "      <th>15918</th>\n",
       "      <td>4.0</td>\n",
       "      <td>6.0</td>\n",
       "    </tr>\n",
       "  </tbody>\n",
       "</table>\n",
       "<p>15915 rows × 2 columns</p>\n",
       "</div>"
      ],
      "text/plain": [
       "       Cylinders  Gears\n",
       "0            3.0    6.0\n",
       "1            4.0    7.0\n",
       "2            3.0    6.0\n",
       "3            3.0    6.0\n",
       "4            3.0    6.0\n",
       "...          ...    ...\n",
       "15914        4.0    6.0\n",
       "15915        4.0    7.0\n",
       "15916        4.0    6.0\n",
       "15917        4.0    6.0\n",
       "15918        4.0    6.0\n",
       "\n",
       "[15915 rows x 2 columns]"
      ]
     },
     "execution_count": 180,
     "metadata": {},
     "output_type": "execute_result"
    }
   ],
   "source": [
    "autos['Cylinders'] = autos['Cylinders'].replace(['Used'],'1.0')\n",
    "autos['Gears'] = autos['Gears'].replace(['Used'],'1.0')\n",
    "autos[['Cylinders', 'Gears']].astype('float64')"
   ]
  },
  {
   "cell_type": "code",
   "execution_count": 181,
   "metadata": {},
   "outputs": [],
   "source": [
    "autos.to_csv(\"cleaned_autos.csv\", index = False)"
   ]
  }
 ],
 "metadata": {
  "kernelspec": {
   "display_name": "Python 3",
   "language": "python",
   "name": "python3"
  },
  "language_info": {
   "codemirror_mode": {
    "name": "ipython",
    "version": 3
   },
   "file_extension": ".py",
   "mimetype": "text/x-python",
   "name": "python",
   "nbconvert_exporter": "python",
   "pygments_lexer": "ipython3",
   "version": "3.8.3"
  }
 },
 "nbformat": 4,
 "nbformat_minor": 2
}
